{
 "cells": [
  {
   "cell_type": "markdown",
   "metadata": {},
   "source": [
    "# Decoradores e persistência"
   ]
  },
  {
   "cell_type": "markdown",
   "metadata": {},
   "source": [
    "Este notebook é parte da série \"Decoradores e persistência\", adaptada de um minicurso ofertado por [Lucas Castro](https://br.linkedin.com/in/lucasmcastro), da [Evolux](https://evolux.net.br)."
   ]
  },
  {
   "cell_type": "markdown",
   "metadata": {},
   "source": [
    "## Persistência"
   ]
  },
  {
   "cell_type": "markdown",
   "metadata": {},
   "source": [
    "A execução de programas e scripts geralmente acontece na memória RAM, uma forma de armazenamento volátil que se perde execuções ou cada vez que o computador é reiniciado.\n",
    "\n",
    "Para que um dado **persista**, é necessário armazená-lo em disco. No entanto, gerenciar arquivos diretamente não é a única solução possível (nem a mais prática). Para isto, geralmente usamos **bancos de dados**.\n",
    "\n",
    "Existem diferentes tipos de bancos de dados - neste notebook vamos ver apenas um modelo bastante simples, denominado **chave-valor**. Em poucas palavras, um banco chave-valor armazena um valor associado uma chave -- toda indexação para busca, inserção e remoção é feita sobre as chaves.\n",
    "\n",
    "Como linguagens de programação geralmente trabalham com valores complexos, é necessário usar padrões de **serialização** para converter um objeto complexo em um valor único e depois reconstruí-lo."
   ]
  },
  {
   "cell_type": "markdown",
   "metadata": {},
   "source": [
    "## Serialização"
   ]
  },
  {
   "cell_type": "markdown",
   "metadata": {},
   "source": [
    "Python oferece suporte nativo a diferentes padrões de serialização, cada um com suas vantagens e desvantagens."
   ]
  },
  {
   "cell_type": "markdown",
   "metadata": {},
   "source": [
    "### JSON"
   ]
  },
  {
   "cell_type": "markdown",
   "metadata": {},
   "source": [
    "Um dos padrões mais usados atualmente na web é o **JSON** (*JavaScript Object Notation*), que pode ser usado com os procedimentos da biblioteca ```json```."
   ]
  },
  {
   "cell_type": "markdown",
   "metadata": {},
   "source": [
    "* ```dumps``` converte um objeto para o formato JSON e o armazena como uma string.\n",
    "* ```loads``` lê uma string contendo um objeto no formato JSON e retorna um objeto. "
   ]
  },
  {
   "cell_type": "code",
   "execution_count": 1,
   "metadata": {
    "collapsed": true
   },
   "outputs": [],
   "source": [
    "from json import dumps, loads"
   ]
  },
  {
   "cell_type": "code",
   "execution_count": 2,
   "metadata": {
    "collapsed": false
   },
   "outputs": [],
   "source": [
    "test_dict = {\"Logradouro\": \"Campus universitário\", \"Número\": \"S/N\", \"Bairro\": \"Lagoa Nova\"}"
   ]
  },
  {
   "cell_type": "code",
   "execution_count": 3,
   "metadata": {
    "collapsed": false
   },
   "outputs": [
    {
     "name": "stdout",
     "output_type": "stream",
     "text": [
      "{\"Bairro\": \"Lagoa Nova\", \"Logradouro\": \"Campus universit\\u00e1rio\", \"N\\u00famero\": \"S/N\"}\n"
     ]
    }
   ],
   "source": [
    "string = dumps(test_dict)\n",
    "print(string)"
   ]
  },
  {
   "cell_type": "code",
   "execution_count": 4,
   "metadata": {
    "collapsed": false
   },
   "outputs": [
    {
     "data": {
      "text/plain": [
       "True"
      ]
     },
     "execution_count": 4,
     "metadata": {},
     "output_type": "execute_result"
    }
   ],
   "source": [
    "json_dict = loads(string)\n",
    "test_dict == json_dict"
   ]
  },
  {
   "cell_type": "markdown",
   "metadata": {},
   "source": [
    "* ```load``` e ```dump``` funcionam de forma análoga aos procedimentos anteriores, mas servem para persistência em arquivos."
   ]
  },
  {
   "cell_type": "code",
   "execution_count": 5,
   "metadata": {
    "collapsed": true
   },
   "outputs": [],
   "source": [
    "from json import dump, load"
   ]
  },
  {
   "cell_type": "code",
   "execution_count": 6,
   "metadata": {
    "collapsed": false
   },
   "outputs": [],
   "source": [
    "with open(\"dump.json\", \"w\", encoding=\"utf-8\") as f:\n",
    "    dump(test_dict, f)"
   ]
  },
  {
   "cell_type": "code",
   "execution_count": 7,
   "metadata": {
    "collapsed": false
   },
   "outputs": [],
   "source": [
    "with open(\"dump.json\", encoding=\"utf-8\") as f:\n",
    "    read_dict = load(f)"
   ]
  },
  {
   "cell_type": "code",
   "execution_count": 8,
   "metadata": {
    "collapsed": false,
    "scrolled": true
   },
   "outputs": [
    {
     "data": {
      "text/plain": [
       "True"
      ]
     },
     "execution_count": 8,
     "metadata": {},
     "output_type": "execute_result"
    }
   ],
   "source": [
    "test_dict == read_dict"
   ]
  },
  {
   "cell_type": "code",
   "execution_count": 10,
   "metadata": {
    "collapsed": false
   },
   "outputs": [
    {
     "data": {
      "text/plain": [
       "[0, 1, 2, 3, 4]"
      ]
     },
     "execution_count": 10,
     "metadata": {},
     "output_type": "execute_result"
    }
   ],
   "source": [
    "loads(dumps([0,1,2,3,4]))"
   ]
  },
  {
   "cell_type": "code",
   "execution_count": 12,
   "metadata": {
    "collapsed": false
   },
   "outputs": [
    {
     "data": {
      "text/plain": [
       "'Uma string [ contendo ] isso'"
      ]
     },
     "execution_count": 12,
     "metadata": {},
     "output_type": "execute_result"
    }
   ],
   "source": [
    "loads(dumps(\"Uma string [ contendo ] isso\"))"
   ]
  },
  {
   "cell_type": "markdown",
   "metadata": {},
   "source": [
    "### Pickle\n",
    "\n",
    "Uma outra biblioteca padrão do Python para serialização de objetos é a ```pickle```, que serializa objetos para bytes e vice-versa.\n",
    "\n",
    "Os procedimentos desta biblioteca seguem a mesma interface dos procedimentos da biblioteca ```json```."
   ]
  },
  {
   "cell_type": "markdown",
   "metadata": {},
   "source": [
    "* ```dumps``` converte um objeto para um formato compreendido pelo interpretador Python e o armazena como bytes.\n",
    "* ```loads``` lê uma string contendo um objeto em um formato compreendido pelo interpretador Python e retorna um objeto. "
   ]
  },
  {
   "cell_type": "code",
   "execution_count": 13,
   "metadata": {
    "collapsed": true
   },
   "outputs": [],
   "source": [
    "from pickle import loads, dumps"
   ]
  },
  {
   "cell_type": "code",
   "execution_count": 14,
   "metadata": {
    "collapsed": false,
    "scrolled": true
   },
   "outputs": [
    {
     "name": "stdout",
     "output_type": "stream",
     "text": [
      "b'\\x80\\x03}q\\x00(X\\x06\\x00\\x00\\x00Bairroq\\x01X\\n\\x00\\x00\\x00Lagoa Novaq\\x02X\\n\\x00\\x00\\x00Logradouroq\\x03X\\x15\\x00\\x00\\x00Campus universit\\xc3\\xa1rioq\\x04X\\x07\\x00\\x00\\x00N\\xc3\\xbameroq\\x05X\\x03\\x00\\x00\\x00S/Nq\\x06u.'\n"
     ]
    }
   ],
   "source": [
    "string = dumps(test_dict)\n",
    "print(string)"
   ]
  },
  {
   "cell_type": "code",
   "execution_count": 15,
   "metadata": {
    "collapsed": false,
    "scrolled": true
   },
   "outputs": [
    {
     "data": {
      "text/plain": [
       "True"
      ]
     },
     "execution_count": 15,
     "metadata": {},
     "output_type": "execute_result"
    }
   ],
   "source": [
    "pickle_dict = loads(string)\n",
    "test_dict == pickle_dict"
   ]
  },
  {
   "cell_type": "markdown",
   "metadata": {},
   "source": [
    "* **Obs**: há pessoas que desencorajam o uso da biblioteca ```pickle``` em favor da biblioteca ```json```. Veja este post: https://www.benfrederickson.com/dont-pickle-your-data/"
   ]
  },
  {
   "cell_type": "markdown",
   "metadata": {},
   "source": [
    "## Persistindo com Redis"
   ]
  },
  {
   "cell_type": "markdown",
   "metadata": {},
   "source": [
    "Uma vez que você entenda o conceito de serialização, se torna bastante simples utilizar um banco de dados chave valor.\n",
    "\n",
    "Neste notebook, nós vamos usar o banco [Redis](https://redis.io), que você precisa instalar separadamente.\n",
    "\n",
    "Existem várias bibliotecas para integrar Python a Redis. Aqui nós usaremos a biblioteca ```redis```, que pode ser instalada via ```pip```."
   ]
  },
  {
   "cell_type": "markdown",
   "metadata": {},
   "source": [
    "### Gerenciando a comunicação com o banco"
   ]
  },
  {
   "cell_type": "markdown",
   "metadata": {},
   "source": [
    "Assim como é necessário um handler (gerenciador) para se comunicar com um arquivo, é necessário ter um handler para se comunicar com um banco de dados. \n",
    "\n",
    "A classe StrictRedis permite criar um handler para comunicação com o Redis. Para isto, é necessário informar o servidor (```host```), porta de comunicação (```port```) e o banco que se deseja acessar (```db```):"
   ]
  },
  {
   "cell_type": "code",
   "execution_count": 16,
   "metadata": {
    "collapsed": true
   },
   "outputs": [],
   "source": [
    "from redis import StrictRedis"
   ]
  },
  {
   "cell_type": "code",
   "execution_count": 17,
   "metadata": {
    "collapsed": false
   },
   "outputs": [],
   "source": [
    "r = StrictRedis(host='localhost', port=6379, db=0)"
   ]
  },
  {
   "cell_type": "markdown",
   "metadata": {},
   "source": [
    "### Persistindo e recuperando um dado"
   ]
  },
  {
   "cell_type": "markdown",
   "metadata": {},
   "source": [
    "Um objeto StrictHandler possui os métodos ```set``` e ```get``` para persistir e recuperar um dado, respectivamente.\n",
    "\n",
    "Ambos exigem que uma chave de identificação do valor seja informada:"
   ]
  },
  {
   "cell_type": "code",
   "execution_count": 18,
   "metadata": {
    "collapsed": false
   },
   "outputs": [
    {
     "data": {
      "text/plain": [
       "True"
      ]
     },
     "execution_count": 18,
     "metadata": {},
     "output_type": "execute_result"
    }
   ],
   "source": [
    "r.set('minha_chave', dumps(test_dict))"
   ]
  },
  {
   "cell_type": "code",
   "execution_count": 19,
   "metadata": {
    "collapsed": false
   },
   "outputs": [
    {
     "data": {
      "text/plain": [
       "True"
      ]
     },
     "execution_count": 19,
     "metadata": {},
     "output_type": "execute_result"
    }
   ],
   "source": [
    "redis_dict = loads(r.get(\"minha_chave\"))\n",
    "test_dict == redis_dict"
   ]
  },
  {
   "cell_type": "markdown",
   "metadata": {},
   "source": [
    "Note que no exemplo acima o objeto foi persistido usando os procedimento ```dumps``` e ```loads``` da biblioteca ```pickle```. \n",
    "\n",
    "Também seria possível persistir o objeto usando os procedimentos ```dumps``` e ```loads``` da biblioteca ```json```. \n",
    "\n",
    "No entanto, como o método ```get``` retorna um objeto ```bytes```, é necessário convertê-lo para ```str``` antes de usar o procedimento ```loads```. \n",
    "\n",
    "Isto pode ser feito com o método ```bytes.decode()```."
   ]
  },
  {
   "cell_type": "code",
   "execution_count": 20,
   "metadata": {
    "collapsed": true
   },
   "outputs": [],
   "source": [
    "from json import dumps, loads"
   ]
  },
  {
   "cell_type": "code",
   "execution_count": 21,
   "metadata": {
    "collapsed": false
   },
   "outputs": [
    {
     "data": {
      "text/plain": [
       "True"
      ]
     },
     "execution_count": 21,
     "metadata": {},
     "output_type": "execute_result"
    }
   ],
   "source": [
    "r.set('minha_chave', dumps(test_dict))"
   ]
  },
  {
   "cell_type": "code",
   "execution_count": 22,
   "metadata": {
    "collapsed": false
   },
   "outputs": [
    {
     "data": {
      "text/plain": [
       "True"
      ]
     },
     "execution_count": 22,
     "metadata": {},
     "output_type": "execute_result"
    }
   ],
   "source": [
    "redis_dict = loads(r.get(\"minha_chave\").decode())\n",
    "test_dict == redis_dict"
   ]
  },
  {
   "cell_type": "code",
   "execution_count": null,
   "metadata": {
    "collapsed": true
   },
   "outputs": [],
   "source": []
  }
 ],
 "metadata": {
  "kernelspec": {
   "display_name": "Python 3",
   "language": "python",
   "name": "python3"
  },
  "language_info": {
   "codemirror_mode": {
    "name": "ipython",
    "version": 3
   },
   "file_extension": ".py",
   "mimetype": "text/x-python",
   "name": "python",
   "nbconvert_exporter": "python",
   "pygments_lexer": "ipython3",
   "version": "3.5.2"
  }
 },
 "nbformat": 4,
 "nbformat_minor": 1
}
