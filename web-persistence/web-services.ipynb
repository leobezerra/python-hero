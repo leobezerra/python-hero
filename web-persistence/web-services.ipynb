{
 "cells": [
  {
   "cell_type": "markdown",
   "metadata": {},
   "source": [
    "# Decoradores e persistência"
   ]
  },
  {
   "cell_type": "markdown",
   "metadata": {},
   "source": [
    "Este notebook é parte da série \"Decoradores e persistência\", adaptada de um minicurso ofertado por [Lucas Castro](https://br.linkedin.com/in/lucasmcastro), da [Evolux](https://evolux.net.br)."
   ]
  },
  {
   "cell_type": "markdown",
   "metadata": {},
   "source": [
    "## Web services com Flask"
   ]
  },
  {
   "cell_type": "markdown",
   "metadata": {},
   "source": [
    "Flask é um microframework que permite criar caminhos para receber requisições Web, tratá-las e respondê-las como se deseja.\n",
    "\n",
    "Com Flask, criar um serviço web é muito simples usando decoradores."
   ]
  },
  {
   "cell_type": "markdown",
   "metadata": {},
   "source": [
    "### Instanciando um objeto Flask"
   ]
  },
  {
   "cell_type": "markdown",
   "metadata": {},
   "source": [
    "O primeiro passo para criar um serviço web com Flask é importar a classe ```Flask``` do módulo ```flask``` e instanciar um objeto desta classe. \n",
    "\n",
    "* **Obs**: o parâmetro especial ```name``` é a forma como o interpretador Python identifica o nome do script sendo executado. Por conveção, criamos o objeto Flask com o nome do próprio script para facilitar identificação posterior."
   ]
  },
  {
   "cell_type": "code",
   "execution_count": null,
   "metadata": {
    "collapsed": true
   },
   "outputs": [],
   "source": [
    "from flask import Flask\n",
    "app = Flask(__name__)"
   ]
  },
  {
   "cell_type": "markdown",
   "metadata": {},
   "source": [
    "### Criando caminhos de requisição e procedimentos para tratá-las"
   ]
  },
  {
   "cell_type": "markdown",
   "metadata": {},
   "source": [
    "Criar uma caminho para receber requisições é bastante simples: basta decorar um procedimento usando o método decorador ```Flask.route()```.\n",
    "\n",
    "O procedimento (ou método decorado) passa a ser vinculado ao caminho de requisição criado, sendo usado para tratar estas requisições.\n",
    "\n",
    "Veja alguns exemplos:"
   ]
  },
  {
   "cell_type": "markdown",
   "metadata": {},
   "source": [
    "* Um *hello world* simples:"
   ]
  },
  {
   "cell_type": "code",
   "execution_count": null,
   "metadata": {
    "collapsed": true
   },
   "outputs": [],
   "source": [
    "@app.route('/')\n",
    "def hello_world():\n",
    "    return 'Hello, World!'"
   ]
  },
  {
   "cell_type": "markdown",
   "metadata": {},
   "source": [
    "* Um gerador de números aleatórios:"
   ]
  },
  {
   "cell_type": "code",
   "execution_count": null,
   "metadata": {
    "collapsed": true
   },
   "outputs": [],
   "source": [
    "from random import randint\n",
    "@app.route(\"/random\")\n",
    "def hello_random():\n",
    "    return str(randint(1,60))"
   ]
  },
  {
   "cell_type": "markdown",
   "metadata": {},
   "source": [
    "* Um *hello world* personalizado:"
   ]
  },
  {
   "cell_type": "code",
   "execution_count": null,
   "metadata": {
    "collapsed": true
   },
   "outputs": [],
   "source": [
    "@app.route('/hello/<name>')\n",
    "def hello(name=None):\n",
    "    return \"Hello {}\".format(name)"
   ]
  },
  {
   "cell_type": "markdown",
   "metadata": {},
   "source": [
    "Note que o caminho acima foi personalizado para aceitar um parâmetro ```name```. \n",
    "\n",
    "Há outras formas de receber parâmetros de entrada com Flask, mas certamente este é o mais simples."
   ]
  },
  {
   "cell_type": "markdown",
   "metadata": {},
   "source": [
    "### Criando serviços web mais complexos"
   ]
  },
  {
   "cell_type": "markdown",
   "metadata": {},
   "source": [
    "Uma característica de serviços web é que eles costumam consumir de outros serviços.\n",
    "\n",
    "Em Python isto pode ser feito usando, por exemplo, o método ```get``` da biblioteca ```requests```.\n",
    "\n",
    "Veja um exemplo abaixo que recebe um CEP, consulta um serviço web e informa o endereço associado a este CEP:"
   ]
  },
  {
   "cell_type": "code",
   "execution_count": null,
   "metadata": {
    "collapsed": false
   },
   "outputs": [],
   "source": [
    "import urllib\n",
    "from requests import get\n",
    "@app.route('/cep/<cep>')\n",
    "def buscarCep(cep=None):\n",
    "    url = \"http://cep.republicavirtual.com.br/web_cep.php?cep=\"+ cep +\"&formato=query_string\"\n",
    "    result = get(url).text\n",
    "    fresult = urllib.parse.parse_qs(result)\n",
    "    return \"<br/>\".join((\n",
    "         \" \".join((fresult['tipo_logradouro'][0], fresult['logradouro'][0], fresult['bairro'][0])),\n",
    "         \"/\".join((fresult['cidade'][0], fresult['uf'][0])),\n",
    "         ))"
   ]
  },
  {
   "cell_type": "markdown",
   "metadata": {},
   "source": [
    "### Colocando o serviço no ar (deploy)"
   ]
  },
  {
   "cell_type": "markdown",
   "metadata": {},
   "source": [
    "Para fazer deploy do seu serviço, basta utilizar o método ```Flask.run()```.\n",
    "\n",
    "* **Obs**: Note que este método é bloqueante. Isto significa que ao executá-lo, seu notebook irá ficar preso na execução deste método. Para encerrá-lo após testar os serviços, clique no botão *Stop*."
   ]
  },
  {
   "cell_type": "code",
   "execution_count": null,
   "metadata": {
    "collapsed": false,
    "scrolled": true
   },
   "outputs": [],
   "source": [
    "app.run()"
   ]
  },
  {
   "cell_type": "code",
   "execution_count": null,
   "metadata": {
    "collapsed": true
   },
   "outputs": [],
   "source": []
  }
 ],
 "metadata": {
  "kernelspec": {
   "display_name": "Python 3",
   "language": "python",
   "name": "python3"
  },
  "language_info": {
   "codemirror_mode": {
    "name": "ipython",
    "version": 3
   },
   "file_extension": ".py",
   "mimetype": "text/x-python",
   "name": "python",
   "nbconvert_exporter": "python",
   "pygments_lexer": "ipython3",
   "version": "3.5.2"
  }
 },
 "nbformat": 4,
 "nbformat_minor": 1
}
