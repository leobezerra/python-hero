{
 "cells": [
  {
   "cell_type": "markdown",
   "metadata": {},
   "source": [
    "# Procedimentos como objetos\n",
    "\n",
    "Este notebook é baseado nos capítulos 05 e 07 do livro [Python Fluente](https://novatec.com.br/livros/pythonfluente/) do autor [Luciano Ramalho](https://www.linkedin.com/in/lucianoramalho/). Os exemplos originais podem ser encontrados no [repositório do livro](https://github.com/fluentpython)."
   ]
  },
  {
   "cell_type": "markdown",
   "metadata": {},
   "source": [
    "Em Python, tudo é um objeto ou uma referência a um objeto. Procedimentos são definidos como objetos, que podem ser referenciados tanto por seu nome como por outras referências:"
   ]
  },
  {
   "cell_type": "code",
   "execution_count": 1,
   "metadata": {},
   "outputs": [
    {
     "name": "stdout",
     "output_type": "stream",
     "text": [
      "12\n",
      "12\n"
     ]
    }
   ],
   "source": [
    "def triplo(numero):\n",
    "    return numero * 3\n",
    "\n",
    "print(triplo(4))\n",
    "triplo_tb = triplo\n",
    "print(triplo_tb(4))"
   ]
  },
  {
   "cell_type": "code",
   "execution_count": 2,
   "metadata": {},
   "outputs": [
    {
     "data": {
      "text/plain": [
       "function"
      ]
     },
     "execution_count": 2,
     "metadata": {},
     "output_type": "execute_result"
    }
   ],
   "source": [
    "type(triplo)"
   ]
  },
  {
   "cell_type": "markdown",
   "metadata": {},
   "source": [
    "Tratar procedimentos como objetos abre ainda outras possibilidades importantes:\n",
    "\n",
    "* Associado a uma referência ou a um elemento de uma estrutura de dados:"
   ]
  },
  {
   "cell_type": "code",
   "execution_count": 3,
   "metadata": {},
   "outputs": [
    {
     "name": "stdout",
     "output_type": "stream",
     "text": [
      "Hello worldworld"
     ]
    }
   ],
   "source": [
    "def print_hello():\n",
    "    print(\"Hello \", end=\"\")\n",
    "\n",
    "def print_world():\n",
    "    print(\"world\", end=\"\")\n",
    "\n",
    "hello_world = [print_hello, print_world, print_world]\n",
    "for print_ in hello_world:\n",
    "    print_()"
   ]
  },
  {
   "cell_type": "markdown",
   "metadata": {},
   "source": [
    "* Ser passado como argumento a uma função:"
   ]
  },
  {
   "cell_type": "code",
   "execution_count": 4,
   "metadata": {},
   "outputs": [
    {
     "name": "stdout",
     "output_type": "stream",
     "text": [
      "8\n",
      "12\n"
     ]
    }
   ],
   "source": [
    "def duplo(numero):\n",
    "    return numero * 2\n",
    "\n",
    "def multiplo(procedimento, numero):\n",
    "    return procedimento(numero)\n",
    "\n",
    "print(multiplo(duplo, 4))\n",
    "print(multiplo(triplo, 4))"
   ]
  },
  {
   "cell_type": "code",
   "execution_count": 5,
   "metadata": {},
   "outputs": [
    {
     "data": {
      "text/plain": [
       "[4, 1, 3, 6]"
      ]
     },
     "execution_count": 5,
     "metadata": {},
     "output_type": "execute_result"
    }
   ],
   "source": [
    "list(map(len, \"Esta é uma string\".split()))"
   ]
  },
  {
   "cell_type": "code",
   "execution_count": 6,
   "metadata": {},
   "outputs": [
    {
     "data": {
      "text/plain": [
       "[2, 6, 12, 20]"
      ]
     },
     "execution_count": 6,
     "metadata": {},
     "output_type": "execute_result"
    }
   ],
   "source": [
    "list(map(duplo, [1, 3, 6, 10]))"
   ]
  },
  {
   "cell_type": "markdown",
   "metadata": {},
   "source": [
    "* Ser retornado por um procedimento:"
   ]
  },
  {
   "cell_type": "code",
   "execution_count": 7,
   "metadata": {},
   "outputs": [
    {
     "name": "stdout",
     "output_type": "stream",
     "text": [
      "Hello "
     ]
    }
   ],
   "source": [
    "from random import choice\n",
    "def random_print(lista):\n",
    "    return choice(lista)\n",
    "\n",
    "print_ = random_print(hello_world)\n",
    "print_()"
   ]
  },
  {
   "cell_type": "code",
   "execution_count": 8,
   "metadata": {},
   "outputs": [
    {
     "name": "stdout",
     "output_type": "stream",
     "text": [
      "0 5 10 15 20 25 30 35 40 45\n",
      "0 2 4 6 8 10 12 14 16 18\n"
     ]
    }
   ],
   "source": [
    "from random import randint\n",
    "def criador_de_procedimentos(maximo):\n",
    "    fator = randint(1,maximo)\n",
    "    def multiplo_aleatorio(numero):\n",
    "        return numero * fator\n",
    "    return multiplo_aleatorio\n",
    "\n",
    "multiplicador1 = criador_de_procedimentos(5)\n",
    "multiplicador2 = criador_de_procedimentos(10)\n",
    "\n",
    "print(\" \".join(str(multiplicador1(i)) for i in range(10)))\n",
    "print(\" \".join(str(multiplicador2(i)) for i in range(10)))"
   ]
  },
  {
   "cell_type": "markdown",
   "metadata": {},
   "source": [
    "### Procedimentos de ordem superior\n",
    "\n",
    "Procedimentos que aceitam outros procedimentos como argumentos e/ou retornam procedimentos são conhecidos como **procedimentos de ordem superior**. \n",
    "\n",
    "É assim que funciona o parâmetro ```key``` presente em muitos procedimentos embutidos do Python, como ```sorted```:"
   ]
  },
  {
   "cell_type": "code",
   "execution_count": 16,
   "metadata": {
    "collapsed": true
   },
   "outputs": [],
   "source": [
    "frutas = [\"morango\", \"figo\", \"maçã\", \"cereja\", \"framboesa\", \"banana\"]"
   ]
  },
  {
   "cell_type": "code",
   "execution_count": 19,
   "metadata": {},
   "outputs": [
    {
     "name": "stdout",
     "output_type": "stream",
     "text": [
      "[7, 4, 4, 6, 9, 6]\n"
     ]
    }
   ],
   "source": [
    "tamanhos = list(map(len, frutas))\n",
    "print(tamanhos)"
   ]
  },
  {
   "cell_type": "code",
   "execution_count": 20,
   "metadata": {},
   "outputs": [
    {
     "data": {
      "text/plain": [
       "[4, 4, 6, 6, 7, 9]"
      ]
     },
     "execution_count": 20,
     "metadata": {},
     "output_type": "execute_result"
    }
   ],
   "source": [
    "sorted(tamanhos)"
   ]
  },
  {
   "cell_type": "code",
   "execution_count": 9,
   "metadata": {},
   "outputs": [
    {
     "data": {
      "text/plain": [
       "['figo', 'maçã', 'cereja', 'banana', 'morango', 'framboesa']"
      ]
     },
     "execution_count": 9,
     "metadata": {},
     "output_type": "execute_result"
    }
   ],
   "source": [
    "sorted(frutas, key=len)"
   ]
  },
  {
   "cell_type": "code",
   "execution_count": 21,
   "metadata": {
    "collapsed": true
   },
   "outputs": [],
   "source": [
    "def len_lex(palavra):\n",
    "    return (len(palavra), palavra)"
   ]
  },
  {
   "cell_type": "code",
   "execution_count": 22,
   "metadata": {},
   "outputs": [
    {
     "data": {
      "text/plain": [
       "['figo', 'maçã', 'banana', 'cereja', 'morango', 'framboesa']"
      ]
     },
     "execution_count": 22,
     "metadata": {},
     "output_type": "execute_result"
    }
   ],
   "source": [
    "sorted(frutas, key=len_lex)"
   ]
  },
  {
   "cell_type": "code",
   "execution_count": 23,
   "metadata": {},
   "outputs": [
    {
     "ename": "TypeError",
     "evalue": "'tuple' object is not callable",
     "output_type": "error",
     "traceback": [
      "\u001b[0;31m---------------------------------------------------------------------------\u001b[0m",
      "\u001b[0;31mTypeError\u001b[0m                                 Traceback (most recent call last)",
      "\u001b[0;32m<ipython-input-23-0d5f3d5fb4c6>\u001b[0m in \u001b[0;36m<module>\u001b[0;34m()\u001b[0m\n\u001b[0;32m----> 1\u001b[0;31m \u001b[0msorted\u001b[0m\u001b[0;34m(\u001b[0m\u001b[0mfrutas\u001b[0m\u001b[0;34m,\u001b[0m \u001b[0mkey\u001b[0m\u001b[0;34m=\u001b[0m\u001b[0;34m(\u001b[0m\u001b[0mlen\u001b[0m\u001b[0;34m,\u001b[0m \u001b[0;32mlambda\u001b[0m \u001b[0mx\u001b[0m\u001b[0;34m:\u001b[0m \u001b[0mx\u001b[0m\u001b[0;34m)\u001b[0m\u001b[0;34m)\u001b[0m\u001b[0;34m\u001b[0m\u001b[0m\n\u001b[0m",
      "\u001b[0;31mTypeError\u001b[0m: 'tuple' object is not callable"
     ]
    }
   ],
   "source": [
    "sorted(frutas, key=(len, lambda x: x))"
   ]
  },
  {
   "cell_type": "code",
   "execution_count": 25,
   "metadata": {},
   "outputs": [
    {
     "ename": "TypeError",
     "evalue": "'list' object is not callable",
     "output_type": "error",
     "traceback": [
      "\u001b[0;31m---------------------------------------------------------------------------\u001b[0m",
      "\u001b[0;31mTypeError\u001b[0m                                 Traceback (most recent call last)",
      "\u001b[0;32m<ipython-input-25-f1d46152de6f>\u001b[0m in \u001b[0;36m<module>\u001b[0;34m()\u001b[0m\n\u001b[0;32m----> 1\u001b[0;31m \u001b[0msorted\u001b[0m\u001b[0;34m(\u001b[0m\u001b[0mfrutas\u001b[0m\u001b[0;34m,\u001b[0m \u001b[0mkey\u001b[0m\u001b[0;34m=\u001b[0m\u001b[0;34m[\u001b[0m\u001b[0mlen\u001b[0m\u001b[0;34m,\u001b[0m \u001b[0;32mlambda\u001b[0m \u001b[0mx\u001b[0m\u001b[0;34m:\u001b[0m \u001b[0mx\u001b[0m\u001b[0;34m]\u001b[0m\u001b[0;34m)\u001b[0m\u001b[0;34m\u001b[0m\u001b[0m\n\u001b[0m",
      "\u001b[0;31mTypeError\u001b[0m: 'list' object is not callable"
     ]
    }
   ],
   "source": [
    "sorted(frutas, key=[len, lambda x: x])"
   ]
  },
  {
   "cell_type": "markdown",
   "metadata": {},
   "source": [
    "Outro exemplo interessante é o procedimento ```partial```, disponível no módulo ```functools```. \n",
    "\n",
    "Este procedimento permite pré-definir o valor de determinados parâmetros de um outro procedimento, sendo bastante útil quando queremos especializar o comportamento de um procedimento mais geral.\n",
    "\n",
    "O exemplo abaixo mostra como especializar o procedimento ```mul```, que originalmente multiplica uma lista de parâmetros:"
   ]
  },
  {
   "cell_type": "code",
   "execution_count": 10,
   "metadata": {},
   "outputs": [
    {
     "name": "stdout",
     "output_type": "stream",
     "text": [
      "8\n",
      "12\n"
     ]
    }
   ],
   "source": [
    "from operator import mul\n",
    "from functools import partial\n",
    "\n",
    "duplo = partial(mul, 2)\n",
    "triplo = partial(mul, 3)\n",
    "\n",
    "print(duplo(4))\n",
    "print(triplo(4))"
   ]
  },
  {
   "cell_type": "markdown",
   "metadata": {},
   "source": [
    "## De parâmetros posicionais a parâmetros exclusivamente nomeados"
   ]
  },
  {
   "cell_type": "markdown",
   "metadata": {},
   "source": [
    "Em Python, um procedimento pode apresentar parâmetros de três diferentes categorias:\n",
    "1. Posicional\n",
    "2. Nomeado\n",
    "3. Exclusivamente nomeado\n",
    "\n",
    "Parâmetros das categorias 1 e 2 são comuns em outras linguagens, sendo importante ressaltar apenas que um parâmetro posicional pode ser passado como se fosse nomeado, ou um parâmetro nomeado ser passado como posicional:"
   ]
  },
  {
   "cell_type": "code",
   "execution_count": 11,
   "metadata": {},
   "outputs": [],
   "source": [
    "def procedimento(posicional1, posicional2, nomeado1=3, nomeado2=4):\n",
    "    print(\n",
    "        \"\"\"\n",
    "        posicional1: {}, \n",
    "        posicional2: {}, \n",
    "        nomeado1: {}, \n",
    "        nomeado2: {}\"\"\".format(\n",
    "            posicional1, posicional2, nomeado1, nomeado2)\n",
    "        )"
   ]
  },
  {
   "cell_type": "markdown",
   "metadata": {},
   "source": [
    "* Parâmetros nomeados apresentam valores-padrão, não precisando ser informados a cada chamada:"
   ]
  },
  {
   "cell_type": "code",
   "execution_count": 12,
   "metadata": {
    "scrolled": true
   },
   "outputs": [
    {
     "name": "stdout",
     "output_type": "stream",
     "text": [
      "posicional1: 1, posicional2: 2, nomeado1: 3, nomeado2: 4\n"
     ]
    }
   ],
   "source": [
    "procedimento(1, 2)"
   ]
  },
  {
   "cell_type": "code",
   "execution_count": 32,
   "metadata": {},
   "outputs": [
    {
     "ename": "TypeError",
     "evalue": "procedimento() missing 1 required positional argument: 'posicional2'",
     "output_type": "error",
     "traceback": [
      "\u001b[0;31m---------------------------------------------------------------------------\u001b[0m",
      "\u001b[0;31mTypeError\u001b[0m                                 Traceback (most recent call last)",
      "\u001b[0;32m<ipython-input-32-4d45d25eee38>\u001b[0m in \u001b[0;36m<module>\u001b[0;34m()\u001b[0m\n\u001b[0;32m----> 1\u001b[0;31m \u001b[0mprocedimento\u001b[0m\u001b[0;34m(\u001b[0m\u001b[0;36m1\u001b[0m\u001b[0;34m)\u001b[0m\u001b[0;34m\u001b[0m\u001b[0m\n\u001b[0m",
      "\u001b[0;31mTypeError\u001b[0m: procedimento() missing 1 required positional argument: 'posicional2'"
     ]
    }
   ],
   "source": [
    "procedimento(1)"
   ]
  },
  {
   "cell_type": "markdown",
   "metadata": {},
   "source": [
    "* Obviamente, parâmetros nomeados também podem ser informados, caso não se deseje usar seus valores-padrão. É possível fazer isso usando o nome do parâmetro ou não:"
   ]
  },
  {
   "cell_type": "code",
   "execution_count": 13,
   "metadata": {},
   "outputs": [
    {
     "name": "stdout",
     "output_type": "stream",
     "text": [
      "posicional1: 1, posicional2: 5, nomeado1: 6, nomeado2: 4\n",
      "posicional1: 1, posicional2: 5, nomeado1: 3, nomeado2: 10\n"
     ]
    }
   ],
   "source": [
    "procedimento(1, 5, 6)\n",
    "procedimento(1, 5, nomeado2=10)"
   ]
  },
  {
   "cell_type": "markdown",
   "metadata": {},
   "source": [
    "* Também é possível tratar um parâmetro posicional como nomeado, sendo possível informá-lo fora de ordem:"
   ]
  },
  {
   "cell_type": "code",
   "execution_count": 14,
   "metadata": {},
   "outputs": [
    {
     "name": "stdout",
     "output_type": "stream",
     "text": [
      "posicional1: 1, posicional2: 5, nomeado1: 3, nomeado2: 10\n"
     ]
    }
   ],
   "source": [
    "procedimento(1, nomeado2=10, posicional2=5)"
   ]
  },
  {
   "cell_type": "markdown",
   "metadata": {},
   "source": [
    "* Não é possível, no entanto, informar um parâmetro posicional utilizando seu nome se já houver sido informado um parâmetro posicional que também possa ser interpretado como ele:"
   ]
  },
  {
   "cell_type": "code",
   "execution_count": 15,
   "metadata": {},
   "outputs": [
    {
     "ename": "TypeError",
     "evalue": "procedimento() got multiple values for argument 'posicional2'",
     "output_type": "error",
     "traceback": [
      "\u001b[0;31m---------------------------------------------------------------------------\u001b[0m",
      "\u001b[0;31mTypeError\u001b[0m                                 Traceback (most recent call last)",
      "\u001b[0;32m<ipython-input-15-be6a861bd61a>\u001b[0m in \u001b[0;36m<module>\u001b[0;34m()\u001b[0m\n\u001b[0;32m----> 1\u001b[0;31m \u001b[0mprocedimento\u001b[0m\u001b[0;34m(\u001b[0m\u001b[0;36m1\u001b[0m\u001b[0;34m,\u001b[0m \u001b[0;36m3\u001b[0m\u001b[0;34m,\u001b[0m \u001b[0mnomeado2\u001b[0m\u001b[0;34m=\u001b[0m\u001b[0;36m10\u001b[0m\u001b[0;34m,\u001b[0m \u001b[0mposicional2\u001b[0m\u001b[0;34m=\u001b[0m\u001b[0;36m5\u001b[0m\u001b[0;34m)\u001b[0m\u001b[0;34m\u001b[0m\u001b[0m\n\u001b[0m",
      "\u001b[0;31mTypeError\u001b[0m: procedimento() got multiple values for argument 'posicional2'"
     ]
    }
   ],
   "source": [
    "procedimento(1, 3, nomeado2=10, posicional2=5)"
   ]
  },
  {
   "cell_type": "markdown",
   "metadata": {},
   "source": [
    "* Também não é possível informar um parâmetro originalmente nomeado antes de um parâmetro originalmente posicional:"
   ]
  },
  {
   "cell_type": "code",
   "execution_count": 33,
   "metadata": {},
   "outputs": [
    {
     "ename": "SyntaxError",
     "evalue": "positional argument follows keyword argument (<ipython-input-33-ae3d973d63cc>, line 1)",
     "output_type": "error",
     "traceback": [
      "\u001b[0;36m  File \u001b[0;32m\"<ipython-input-33-ae3d973d63cc>\"\u001b[0;36m, line \u001b[0;32m1\u001b[0m\n\u001b[0;31m    procedimento(nomeado1=30, 10, 20)\u001b[0m\n\u001b[0m                             ^\u001b[0m\n\u001b[0;31mSyntaxError\u001b[0m\u001b[0;31m:\u001b[0m positional argument follows keyword argument\n"
     ]
    }
   ],
   "source": [
    "procedimento(nomeado1=30, 10, 20)"
   ]
  },
  {
   "cell_type": "markdown",
   "metadata": {},
   "source": [
    "* Um recurso importante em Python é a possibilidade de ter uma lista variável de parâmetros. Pra isso, basta usar um parâmetro ```*args```:"
   ]
  },
  {
   "cell_type": "code",
   "execution_count": 35,
   "metadata": {},
   "outputs": [
    {
     "name": "stdout",
     "output_type": "stream",
     "text": [
      "Título\n",
      "é uma frase\n"
     ]
    }
   ],
   "source": [
    "def print_all(titulo, ok=\"\", *args):\n",
    "    print(titulo)\n",
    "    print(\" \".join(str(arg) for arg in args))\n",
    "\n",
    "print_all(\"Título\", \"Esta\", \"é\", \"uma\", \"frase\")"
   ]
  },
  {
   "cell_type": "code",
   "execution_count": 36,
   "metadata": {},
   "outputs": [
    {
     "ename": "SyntaxError",
     "evalue": "positional argument follows keyword argument (<ipython-input-36-8307c4f60465>, line 1)",
     "output_type": "error",
     "traceback": [
      "\u001b[0;36m  File \u001b[0;32m\"<ipython-input-36-8307c4f60465>\"\u001b[0;36m, line \u001b[0;32m1\u001b[0m\n\u001b[0;31m    print_all(ok=\"Não\", \"Título\", \"Esta é uma frase\".split())\u001b[0m\n\u001b[0m                        ^\u001b[0m\n\u001b[0;31mSyntaxError\u001b[0m\u001b[0;31m:\u001b[0m positional argument follows keyword argument\n"
     ]
    }
   ],
   "source": [
    "print_all(ok=\"Não\", \"Título\", \"Esta é uma frase\".split())"
   ]
  },
  {
   "cell_type": "code",
   "execution_count": 37,
   "metadata": {},
   "outputs": [
    {
     "name": "stdout",
     "output_type": "stream",
     "text": [
      "Título\n",
      "\n"
     ]
    }
   ],
   "source": [
    "print_all(\"Título\", \"Esta é uma frase\".split())"
   ]
  },
  {
   "cell_type": "markdown",
   "metadata": {},
   "source": [
    "### Parâmetros exclusivamente nomeados"
   ]
  },
  {
   "cell_type": "markdown",
   "metadata": {},
   "source": [
    "Um recurso pensado no Python 3 é a presença de parâmetros exclusivamente nomeados. \n",
    "\n",
    "Estes parâmetros se diferenciam dos demais porque só podem ser informados de forma nomeada e podem não apresentar valor padrão.\n",
    "\n",
    "Para dizer que um parâmetro é exclusivamente nomeado, ele deve aparecer após o parâmetro ```*args```:"
   ]
  },
  {
   "cell_type": "code",
   "execution_count": 38,
   "metadata": {
    "scrolled": true
   },
   "outputs": [
    {
     "name": "stdout",
     "output_type": "stream",
     "text": [
      "Título\n",
      "Esta é uma frase\n",
      "Título 2\n",
      "Esta;é;outra;frase\n"
     ]
    }
   ],
   "source": [
    "def print_all(titulo, *args, separador=\" \"):\n",
    "    print(titulo)\n",
    "    print(separador.join(str(arg) for arg in args))\n",
    "\n",
    "print_all(\"Título\", \"Esta\", \"é\", \"uma\", \"frase\")\n",
    "print_all(\"Título 2\", \"Esta\", \"é\", \"outra\", \"frase\", separador=\";\")"
   ]
  },
  {
   "cell_type": "code",
   "execution_count": 39,
   "metadata": {
    "scrolled": true
   },
   "outputs": [
    {
     "name": "stdout",
     "output_type": "stream",
     "text": [
      "Título\n",
      "é uma fraseEstaTítulo 2\n",
      "é;outra;fraseEsta"
     ]
    }
   ],
   "source": [
    "def print_all(titulo, end=\"\\n\", *args, separador=\" \"):\n",
    "    print(titulo)\n",
    "    print(separador.join(str(arg) for arg in args), end=end)\n",
    "\n",
    "print_all(\"Título\", \"Esta\", \"é\", \"uma\", \"frase\")\n",
    "print_all(\"Título 2\", \"Esta\", \"é\", \"outra\", \"frase\", separador=\";\")"
   ]
  },
  {
   "cell_type": "code",
   "execution_count": 40,
   "metadata": {},
   "outputs": [
    {
     "ename": "TypeError",
     "evalue": "print_any() missing 1 required keyword-only argument: 'separador'",
     "output_type": "error",
     "traceback": [
      "\u001b[0;31m---------------------------------------------------------------------------\u001b[0m",
      "\u001b[0;31mTypeError\u001b[0m                                 Traceback (most recent call last)",
      "\u001b[0;32m<ipython-input-40-5bd2072e1e89>\u001b[0m in \u001b[0;36m<module>\u001b[0;34m()\u001b[0m\n\u001b[1;32m      3\u001b[0m     \u001b[0mprint\u001b[0m\u001b[0;34m(\u001b[0m\u001b[0mseparador\u001b[0m\u001b[0;34m.\u001b[0m\u001b[0mjoin\u001b[0m\u001b[0;34m(\u001b[0m\u001b[0mstr\u001b[0m\u001b[0;34m(\u001b[0m\u001b[0marg\u001b[0m\u001b[0;34m)\u001b[0m \u001b[0;32mfor\u001b[0m \u001b[0marg\u001b[0m \u001b[0;32min\u001b[0m \u001b[0margs\u001b[0m\u001b[0;34m)\u001b[0m\u001b[0;34m)\u001b[0m\u001b[0;34m\u001b[0m\u001b[0m\n\u001b[1;32m      4\u001b[0m \u001b[0;34m\u001b[0m\u001b[0m\n\u001b[0;32m----> 5\u001b[0;31m \u001b[0mprint_any\u001b[0m\u001b[0;34m(\u001b[0m\u001b[0;34m\"Título\"\u001b[0m\u001b[0;34m,\u001b[0m \u001b[0;34m\"Esta\"\u001b[0m\u001b[0;34m,\u001b[0m \u001b[0;34m\"é\"\u001b[0m\u001b[0;34m,\u001b[0m \u001b[0;34m\"uma\"\u001b[0m\u001b[0;34m,\u001b[0m \u001b[0;34m\"frase\"\u001b[0m\u001b[0;34m)\u001b[0m\u001b[0;34m\u001b[0m\u001b[0m\n\u001b[0m",
      "\u001b[0;31mTypeError\u001b[0m: print_any() missing 1 required keyword-only argument: 'separador'"
     ]
    }
   ],
   "source": [
    "def print_any(titulo, *args, separador):\n",
    "    print(titulo)\n",
    "    print(separador.join(str(arg) for arg in args))\n",
    "\n",
    "print_any(\"Título\", \"Esta\", \"é\", \"uma\", \"frase\")"
   ]
  },
  {
   "cell_type": "markdown",
   "metadata": {},
   "source": [
    "Assim como existe o parâmetro ```*args```, é possível usar o parâmetro ```**kwargs``` para lidar com uma quantidade variável de parâmetros exclusivamente nomeados:"
   ]
  },
  {
   "cell_type": "code",
   "execution_count": 41,
   "metadata": {},
   "outputs": [
    {
     "name": "stdout",
     "output_type": "stream",
     "text": [
      "Título\n",
      "a: Esta\tb: é\tc: uma\td: frase\n"
     ]
    }
   ],
   "source": [
    "def print_pairs(titulo, *args, separador=\"\\t\", **kwargs):\n",
    "    print(titulo)\n",
    "    print(separador.join(\"{}: {}\".format(key, value) for key, value in kwargs.items()))\n",
    "\n",
    "print_pairs(\"Título\", a=\"Esta\", b=\"é\", c=\"uma\", d=\"frase\")"
   ]
  },
  {
   "cell_type": "code",
   "execution_count": 42,
   "metadata": {},
   "outputs": [
    {
     "ename": "TypeError",
     "evalue": "print_pairs() got an unexpected keyword argument 'a'",
     "output_type": "error",
     "traceback": [
      "\u001b[0;31m---------------------------------------------------------------------------\u001b[0m",
      "\u001b[0;31mTypeError\u001b[0m                                 Traceback (most recent call last)",
      "\u001b[0;32m<ipython-input-42-bb18ed287279>\u001b[0m in \u001b[0;36m<module>\u001b[0;34m()\u001b[0m\n\u001b[1;32m      3\u001b[0m     \u001b[0mprint\u001b[0m\u001b[0;34m(\u001b[0m\u001b[0mseparador\u001b[0m\u001b[0;34m.\u001b[0m\u001b[0mjoin\u001b[0m\u001b[0;34m(\u001b[0m\u001b[0;34m[\u001b[0m\u001b[0mstr\u001b[0m\u001b[0;34m(\u001b[0m\u001b[0marg\u001b[0m\u001b[0;34m)\u001b[0m \u001b[0;32mfor\u001b[0m \u001b[0marg\u001b[0m \u001b[0;32min\u001b[0m \u001b[0margs\u001b[0m\u001b[0;34m]\u001b[0m\u001b[0;34m)\u001b[0m\u001b[0;34m)\u001b[0m\u001b[0;34m\u001b[0m\u001b[0m\n\u001b[1;32m      4\u001b[0m \u001b[0;34m\u001b[0m\u001b[0m\n\u001b[0;32m----> 5\u001b[0;31m \u001b[0mprint_pairs\u001b[0m\u001b[0;34m(\u001b[0m\u001b[0;34m\"Título\"\u001b[0m\u001b[0;34m,\u001b[0m \u001b[0ma\u001b[0m\u001b[0;34m=\u001b[0m\u001b[0;34m\"Esta\"\u001b[0m\u001b[0;34m,\u001b[0m \u001b[0mb\u001b[0m\u001b[0;34m=\u001b[0m\u001b[0;34m\"é\"\u001b[0m\u001b[0;34m,\u001b[0m \u001b[0mc\u001b[0m\u001b[0;34m=\u001b[0m\u001b[0;34m\"uma\"\u001b[0m\u001b[0;34m,\u001b[0m \u001b[0md\u001b[0m\u001b[0;34m=\u001b[0m\u001b[0;34m\"frase\"\u001b[0m\u001b[0;34m)\u001b[0m\u001b[0;34m\u001b[0m\u001b[0m\n\u001b[0m",
      "\u001b[0;31mTypeError\u001b[0m: print_pairs() got an unexpected keyword argument 'a'"
     ]
    }
   ],
   "source": [
    "def print_pairs(titulo, *args, separador=\"\\t\"):\n",
    "    print(titulo)\n",
    "    print(separador.join([str(arg) for arg in args]))\n",
    "\n",
    "print_pairs(\"Título\", a=\"Esta\", b=\"é\", c=\"uma\", d=\"frase\")"
   ]
  },
  {
   "cell_type": "code",
   "execution_count": 43,
   "metadata": {
    "scrolled": true
   },
   "outputs": [
    {
     "name": "stdout",
     "output_type": "stream",
     "text": [
      "Título\n",
      "a: Esta\tb: é\tc: uma\td: frase\n"
     ]
    }
   ],
   "source": [
    "def print_pairs(titulo, *, separador=\"\\t\", **kwargs):\n",
    "    print(titulo)\n",
    "    print(separador.join(\"{}: {}\".format(key, value) for key, value in kwargs.items()))\n",
    "\n",
    "print_pairs(\"Título\", a=\"Esta\", b=\"é\", c=\"uma\", d=\"frase\")"
   ]
  },
  {
   "cell_type": "code",
   "execution_count": 44,
   "metadata": {},
   "outputs": [
    {
     "ename": "TypeError",
     "evalue": "print_pairs() takes 1 positional argument but 3 were given",
     "output_type": "error",
     "traceback": [
      "\u001b[0;31m---------------------------------------------------------------------------\u001b[0m",
      "\u001b[0;31mTypeError\u001b[0m                                 Traceback (most recent call last)",
      "\u001b[0;32m<ipython-input-44-777b23ead544>\u001b[0m in \u001b[0;36m<module>\u001b[0;34m()\u001b[0m\n\u001b[0;32m----> 1\u001b[0;31m \u001b[0mprint_pairs\u001b[0m\u001b[0;34m(\u001b[0m\u001b[0;34m\"Título\"\u001b[0m\u001b[0;34m,\u001b[0m \u001b[0;36m1\u001b[0m\u001b[0;34m,\u001b[0m \u001b[0;36m2\u001b[0m\u001b[0;34m,\u001b[0m \u001b[0ma\u001b[0m\u001b[0;34m=\u001b[0m\u001b[0;34m\"Esta\"\u001b[0m\u001b[0;34m,\u001b[0m \u001b[0mb\u001b[0m\u001b[0;34m=\u001b[0m\u001b[0;34m\"é\"\u001b[0m\u001b[0;34m,\u001b[0m \u001b[0mc\u001b[0m\u001b[0;34m=\u001b[0m\u001b[0;34m\"uma\"\u001b[0m\u001b[0;34m,\u001b[0m \u001b[0md\u001b[0m\u001b[0;34m=\u001b[0m\u001b[0;34m\"frase\"\u001b[0m\u001b[0;34m)\u001b[0m\u001b[0;34m\u001b[0m\u001b[0m\n\u001b[0m",
      "\u001b[0;31mTypeError\u001b[0m: print_pairs() takes 1 positional argument but 3 were given"
     ]
    }
   ],
   "source": [
    "print_pairs(\"Título\", 1, 2, a=\"Esta\", b=\"é\", c=\"uma\", d=\"frase\")"
   ]
  },
  {
   "cell_type": "markdown",
   "metadata": {},
   "source": [
    "* Note que o parâmetro ```**kwargs``` é um **dicionário**!"
   ]
  },
  {
   "cell_type": "markdown",
   "metadata": {},
   "source": [
    "## Decoradores"
   ]
  },
  {
   "cell_type": "markdown",
   "metadata": {},
   "source": [
    "Uma ferramenta importante no dia a dia de programadores é o uso de decoradores. \n",
    "\n",
    "Eles basicamente conferem alguma funcionalidade adicional a um objeto já existente.\n",
    "\n",
    "Em Python, decoradores podem ser implementados de forma simples, como procedimentos invocados através do operador ```@```. "
   ]
  },
  {
   "cell_type": "code",
   "execution_count": 45,
   "metadata": {},
   "outputs": [
    {
     "name": "stdout",
     "output_type": "stream",
     "text": [
      "==========\n",
      "Título 1\n",
      "Este é um procedimento decorado!\n",
      "----------\n",
      "==========\n",
      "Título 2\n",
      "Este é outro procedimento decorado!\n",
      "----------\n"
     ]
    }
   ],
   "source": [
    "def borda(procedimento_decorado):\n",
    "    def print_borda(*args):\n",
    "        print(\"=\" * 10)\n",
    "        procedimento_decorado(*args)\n",
    "        print(\"-\" * 10)\n",
    "    return print_borda\n",
    "\n",
    "@borda\n",
    "def print_one(titulo, argumento):\n",
    "    print(\"{}\\n{}\".format(titulo, argumento))\n",
    "\n",
    "print_one(\"Título 1\", \"Este é um procedimento decorado!\")\n",
    "print_one(\"Título 2\", \"Este é outro procedimento decorado!\")"
   ]
  },
  {
   "cell_type": "markdown",
   "metadata": {},
   "source": [
    "Na prática, a função ```borda``` encapsula a função ```print_one```, equivalendo à expressão:\n",
    "\n",
    "```python3\n",
    "print_one = borda(print_one)\n",
    "``` \n",
    "\n",
    "Assim, cada vez que ```print_one``` é chamado, ```borda``` controla sua execução. \n",
    "\n",
    "É importante destacar que o código de um procedimento usado como decorador é interpretado assim que o módulo é carregado, mas o procedimento retornado só é executado quando o procedimento decorador é invocado:"
   ]
  },
  {
   "cell_type": "code",
   "execution_count": 46,
   "metadata": {},
   "outputs": [
    {
     "name": "stdout",
     "output_type": "stream",
     "text": [
      "Roda assim que é carregado..\n",
      "Saindo do procedimento decorador..\n"
     ]
    }
   ],
   "source": [
    "def procedimento_decorador(procedimento_decorado):\n",
    "    print(\"Roda assim que é carregado..\")\n",
    "    def procedimento_retornado(*args):\n",
    "        print(\"Rodando o procedimento decorado..\")\n",
    "        procedimento_decorado(*args)\n",
    "        print(\"Saindo do procedimento decorado..\")\n",
    "    print(\"Saindo do procedimento decorador..\")\n",
    "    return procedimento_retornado\n",
    "\n",
    "@procedimento_decorador\n",
    "def print_opa():\n",
    "    print(\"Opa!\")"
   ]
  },
  {
   "cell_type": "code",
   "execution_count": 47,
   "metadata": {},
   "outputs": [
    {
     "name": "stdout",
     "output_type": "stream",
     "text": [
      "Rodando o procedimento decorado..\n",
      "Opa!\n",
      "Saindo do procedimento decorado..\n"
     ]
    }
   ],
   "source": [
    "print_opa()"
   ]
  },
  {
   "cell_type": "markdown",
   "metadata": {},
   "source": [
    "### Decoradores aninhados e parametrizados"
   ]
  },
  {
   "cell_type": "markdown",
   "metadata": {},
   "source": [
    "Assim como é possível ter procedimentos aninhados, também é possível ter decoradores aninhados:"
   ]
  },
  {
   "cell_type": "code",
   "execution_count": 48,
   "metadata": {
    "collapsed": true
   },
   "outputs": [],
   "source": [
    "def decorador_par(decorado):\n",
    "    def decorador(*args):\n",
    "        print(\"[{}] \".format(\"Ímpar\" if args[0] % 2 else \"Par\"), end=\"\")\n",
    "        decorado(*args)\n",
    "    return decorador\n",
    "\n",
    "def decorador_rombo(decorado):\n",
    "    def decorador(*args):\n",
    "        if not (args[0] % 10):\n",
    "            print(\"[De rombo!] \", end=\"\")\n",
    "        decorado(*args)\n",
    "    return decorador\n",
    "\n",
    "@decorador_rombo\n",
    "@decorador_par\n",
    "def print_carneiros(numero):\n",
    "    print(\"{} carneiro{}\".format(numero, \"s\" if numero != 1 else \"\"))"
   ]
  },
  {
   "cell_type": "code",
   "execution_count": 49,
   "metadata": {},
   "outputs": [
    {
     "name": "stdout",
     "output_type": "stream",
     "text": [
      "[De rombo!] [Par] 0 carneiros\n",
      "[Ímpar] 1 carneiro\n",
      "[Par] 2 carneiros\n",
      "[Ímpar] 3 carneiros\n",
      "[Par] 4 carneiros\n",
      "[Ímpar] 5 carneiros\n",
      "[Par] 6 carneiros\n",
      "[Ímpar] 7 carneiros\n",
      "[Par] 8 carneiros\n",
      "[Ímpar] 9 carneiros\n",
      "[De rombo!] [Par] 10 carneiros\n"
     ]
    }
   ],
   "source": [
    "for i in range(11):\n",
    "    print_carneiros(i)"
   ]
  },
  {
   "cell_type": "markdown",
   "metadata": {},
   "source": [
    "O código acima é equivalente à expressão:\n",
    "\n",
    "```python3\n",
    "print_carneiros = decorador_rombo(decorador_par(print_carneiros))\n",
    "```"
   ]
  },
  {
   "cell_type": "markdown",
   "metadata": {},
   "source": [
    "Também é possível aceitar parâmetros ao definir/utilizar um decorador:"
   ]
  },
  {
   "cell_type": "code",
   "execution_count": 50,
   "metadata": {
    "collapsed": true
   },
   "outputs": [],
   "source": [
    "def decorador_loop(maximo=5):\n",
    "    def decorador(decorado):\n",
    "        def decorador_retornado(*args):\n",
    "            for i in range(maximo):\n",
    "                decorado(*args)\n",
    "        return decorador_retornado\n",
    "    return decorador\n",
    "\n",
    "@decorador_loop()\n",
    "def print_random5(minimo, maximo):\n",
    "    print(randint(minimo, maximo))\n",
    "\n",
    "@decorador_loop(10)\n",
    "def print_random10(minimo, maximo):\n",
    "    print(randint(minimo, maximo))"
   ]
  },
  {
   "cell_type": "code",
   "execution_count": 51,
   "metadata": {},
   "outputs": [
    {
     "name": "stdout",
     "output_type": "stream",
     "text": [
      "9\n",
      "9\n",
      "7\n",
      "6\n",
      "10\n"
     ]
    }
   ],
   "source": [
    "print_random5(3,10)"
   ]
  },
  {
   "cell_type": "code",
   "execution_count": 52,
   "metadata": {},
   "outputs": [
    {
     "name": "stdout",
     "output_type": "stream",
     "text": [
      "10\n",
      "8\n",
      "4\n",
      "7\n",
      "4\n",
      "5\n",
      "5\n",
      "8\n",
      "8\n",
      "10\n"
     ]
    }
   ],
   "source": [
    "print_random10(3,10)"
   ]
  },
  {
   "cell_type": "code",
   "execution_count": null,
   "metadata": {
    "collapsed": true
   },
   "outputs": [],
   "source": []
  }
 ],
 "metadata": {
  "kernelspec": {
   "display_name": "Python 3",
   "language": "python",
   "name": "python3"
  },
  "language_info": {
   "codemirror_mode": {
    "name": "ipython",
    "version": 3
   },
   "file_extension": ".py",
   "mimetype": "text/x-python",
   "name": "python",
   "nbconvert_exporter": "python",
   "pygments_lexer": "ipython3",
   "version": "3.7.0"
  }
 },
 "nbformat": 4,
 "nbformat_minor": 1
}
