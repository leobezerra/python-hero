{
 "cells": [
  {
   "cell_type": "markdown",
   "metadata": {},
   "source": [
    "# Fatos e mitos sobre referências e objetos em Python"
   ]
  },
  {
   "cell_type": "markdown",
   "metadata": {},
   "source": [
    "Este notebook é a primeira parte de uma adaptação do post [\"Facts and myths about Python names and values\"](https://nedbatchelder.com/text/names.html), de Ned Batchelder."
   ]
  },
  {
   "cell_type": "markdown",
   "metadata": {},
   "source": [
    "### Fato: Nomes se referem a objetos."
   ]
  },
  {
   "cell_type": "markdown",
   "metadata": {},
   "source": [
    "Como em muitas linguagens de programação, uma **associação** em Python associa um nome (lado esquerdo da associação) com um objeto (lado direito da associação). Em Python, dizemos que nomes se referem a objetos, ou que um nome é uma referência a um objeto."
   ]
  },
  {
   "cell_type": "code",
   "execution_count": 1,
   "metadata": {
    "collapsed": true
   },
   "outputs": [],
   "source": [
    "x = 23"
   ]
  },
  {
   "cell_type": "markdown",
   "metadata": {},
   "source": [
    "Agora o nome **x** se refere ao objeto 23. Da próxima vez que usarmos o nome **x** (exceto do lado esquerdo de uma associação), receberemos o objeto 23:"
   ]
  },
  {
   "cell_type": "code",
   "execution_count": 2,
   "metadata": {
    "collapsed": false
   },
   "outputs": [
    {
     "name": "stdout",
     "output_type": "stream",
     "text": [
      "25\n"
     ]
    }
   ],
   "source": [
    "print(x + 2)"
   ]
  },
  {
   "cell_type": "markdown",
   "metadata": {},
   "source": [
    "No diagrama abaixo, o retângulo cinza parecido com uma etiqueta é um nome, com uma seta apontando para seu objeto associado. Aqui, o nome **x** se refere ao inteiro **23**:"
   ]
  },
  {
   "cell_type": "markdown",
   "metadata": {
    "collapsed": true
   },
   "source": [
    "<img src=\"imgs/ned1.png\">"
   ]
  },
  {
   "cell_type": "markdown",
   "metadata": {},
   "source": [
    "### Fato: Muitos nomes podem se referir ao mesmo objeto."
   ]
  },
  {
   "cell_type": "markdown",
   "metadata": {},
   "source": [
    "Não há regra que gida que um objeto só possa ter um nome. Uma associação pode fazer com que um segundo (ou terceiro, ...) nome se refira ao mesmo objeto."
   ]
  },
  {
   "cell_type": "code",
   "execution_count": 3,
   "metadata": {
    "collapsed": true
   },
   "outputs": [],
   "source": [
    "x = 23\n",
    "y = x"
   ]
  },
  {
   "cell_type": "markdown",
   "metadata": {},
   "source": [
    "<img src=\"imgs/ned2.png\">"
   ]
  },
  {
   "cell_type": "markdown",
   "metadata": {},
   "source": [
    "Nem x nem y são o nome real do objeto. Ambos têm o mesmo status: cada um se refere ao objeto da mesma forma."
   ]
  },
  {
   "cell_type": "markdown",
   "metadata": {},
   "source": [
    "### Fato:  nomes são reassociados independentemente de outros nomes."
   ]
  },
  {
   "cell_type": "markdown",
   "metadata": {},
   "source": [
    "Se dois nomes se referem ao mesmo objeto, isto não vincula magicamente os dois nomes. Reassociar um desses nomes não significa reassociar o outro:"
   ]
  },
  {
   "cell_type": "code",
   "execution_count": 4,
   "metadata": {
    "collapsed": true
   },
   "outputs": [],
   "source": [
    "x = 23\n",
    "y = x\n",
    "x = 12"
   ]
  },
  {
   "cell_type": "markdown",
   "metadata": {},
   "source": [
    "<img src=\"imgs/ned3.png\">"
   ]
  },
  {
   "cell_type": "markdown",
   "metadata": {},
   "source": [
    "Quando dizemos ```y = x```, estamos dizendo que **y** deve ser associado ao objeto associado a **x**. Isto não significa que **x** e **y** estarão associados ao mesmo objeto para sempre. Reassociar **x** com um novo objeto não altera a associação de **y**. Imagine o caos se não fosse assim!"
   ]
  },
  {
   "cell_type": "markdown",
   "metadata": {},
   "source": [
    "### Fato: um objeto vive até que não haja mais nenhuma referência a ele."
   ]
  },
  {
   "cell_type": "markdown",
   "metadata": {},
   "source": [
    "O interpretador Python mantém o registro de quantas referências um objeto têm, e automaticamente destrói objetos que não são mais referenciados. Isto se chama \"coleta de lixo\", e significa que você não precisa destruir objetos -- eles são destruídos quando não são mais necessários."
   ]
  },
  {
   "cell_type": "markdown",
   "metadata": {},
   "source": [
    "## Associações"
   ]
  },
  {
   "cell_type": "markdown",
   "metadata": {},
   "source": [
    "### Fato: uma associação nunca copia dados."
   ]
  },
  {
   "cell_type": "markdown",
   "metadata": {},
   "source": [
    "Quando objetos têm mais de um nome, é fácil se confundir e pensar que são dois nomes e dois objetos:"
   ]
  },
  {
   "cell_type": "code",
   "execution_count": 5,
   "metadata": {
    "collapsed": true
   },
   "outputs": [],
   "source": [
    "x = 23\n",
    "y = x\n",
    "# \"Agora eu tenho dois objetos: x e y!\"\n",
    "# NÃO: você tem dois nomes, mas apenas um objeto."
   ]
  },
  {
   "cell_type": "markdown",
   "metadata": {},
   "source": [
    "Associar um objeto a um nome nunca copia dados, nem jamais cria um novo objeto. Associar apenas faz com o que o nome na esquerda se refira ao objeto na direita. Neste caso, temos apenas o objeto **23** e dois nomes **x** e **y**. Ambos se referem a **23**, como vimos no diagrama anterior.\n",
    "\n",
    "As coisas se tornam mais interessantes quando temos objetos mais complexos, como uma lista:"
   ]
  },
  {
   "cell_type": "code",
   "execution_count": 6,
   "metadata": {
    "collapsed": true
   },
   "outputs": [],
   "source": [
    "nums = [1, 2, 3]"
   ]
  },
  {
   "cell_type": "markdown",
   "metadata": {},
   "source": [
    "<img src=\"imgs/ned4.png\">"
   ]
  },
  {
   "cell_type": "markdown",
   "metadata": {},
   "source": [
    "Agora, se associarmos esta lista com outro nome, teremos dois nomes se referindo à mesma lista:"
   ]
  },
  {
   "cell_type": "code",
   "execution_count": 7,
   "metadata": {
    "collapsed": true
   },
   "outputs": [],
   "source": [
    "nums = [1, 2, 3]\n",
    "tri = nums"
   ]
  },
  {
   "cell_type": "markdown",
   "metadata": {},
   "source": [
    "<img src=\"imgs/ned5.png\">"
   ]
  },
  {
   "cell_type": "markdown",
   "metadata": {},
   "source": [
    "Lembre-se: uma associação nunca cria novos objetos e nunca copia dados. Esta associação não transforma magicamente minha lista em duas listas.\n",
    "\n",
    "Neste ponto, temos uma lista, com dois nomes se referindo a ela, que pode levar a uma grande surpresa que é tão comum que deveria ganhar um apelido."
   ]
  },
  {
   "cell_type": "markdown",
   "metadata": {},
   "source": [
    "### Fato: mudanças em um objeto são visíveis através de todos os seus nomes."
   ]
  },
  {
   "cell_type": "markdown",
   "metadata": {},
   "source": [
    "Objetos podem pertencer a uma de duas categorias, em função do seu tipo: mutáveis ou imutáveis. \n",
    "\n",
    "Objetos imutáveis incluem números, strings e tuplas. Quase todo o resto é mutável, incluindo listas, dicionários e objetos definidos por usuários.\n",
    "\n",
    "**Mutável** significa que um objeto tem métodos que podem alterar seu estado *in-place* (sem precisar criar um novo objeto). \n",
    "\n",
    "**Imutável** significa que o objeto nunca poderá mudar. Na verdade, quando você pensa que está alterando um objeto imutável, você está criando novos objetos a partir do objeto existente.\n",
    "\n",
    "Já que números são imutáveis, você não pode alterá-los *in-place*. Você pode apenas criar um novo objeto e associá-lo ao mesmo nome:"
   ]
  },
  {
   "cell_type": "code",
   "execution_count": 8,
   "metadata": {
    "collapsed": true
   },
   "outputs": [],
   "source": [
    "x = 1\n",
    "x = x + 1"
   ]
  },
  {
   "cell_type": "markdown",
   "metadata": {},
   "source": [
    "Acima, ```x+1``` cria um novo objeto, que é então associado ao nome **x**.\n",
    "\n",
    "Mais precisamente, o nome **x** do lado direito da associação permite acessar o objeto **1**. O operador infixo de adição **+** recebe o objeto **1** duas vezes, e cria um objeto **2**.\n",
    "\n",
    "Assim, não é a associação que cria o novo objeto, mas a expressão do lado direito da associação.\n",
    "\n",
    "Com um objeto mutável, você pode mudar seu estado diretamente, geralmente através de um método do objeto:"
   ]
  },
  {
   "cell_type": "code",
   "execution_count": 9,
   "metadata": {
    "collapsed": true
   },
   "outputs": [],
   "source": [
    "nums = [1, 2, 3]\n",
    "nums.append(4)"
   ]
  },
  {
   "cell_type": "markdown",
   "metadata": {},
   "source": [
    "<img src=\"imgs/ned6.png\">\n",
    "<img src=\"imgs/ned7.png\">"
   ]
  },
  {
   "cell_type": "markdown",
   "metadata": {},
   "source": [
    "Não mudamos a qual objeto **nums** se refere. \n",
    "\n",
    "No começo, o nome **nums** se refere a uma lista com três objetos.\n",
    "\n",
    "Em seguida, usamos o nome **numes** para acessar a lista, mas não associamos nada a **nums** -- o nome continua se referindo à mesma lista.\n",
    "\n",
    "O método ```append``` modifica a lista adicionando o objeto **4**, mas isso não cria uma nova lista -- a alteração é feita *in-place* e **nums** continua se referindo a esta lista.\n",
    "\n",
    "Esta distinção entre associar um nome e alterar um objeto às vezes é descrita como \"*reassociar o nome versus alterar o objeto*\".\n",
    "\n",
    "É neste ponto que muitas pessoas se sentem surpresas: **se dois nomes se referem ao mesmo objeto e objedo é alterado, os dois nomes perceberão a mudança**:"
   ]
  },
  {
   "cell_type": "code",
   "execution_count": 10,
   "metadata": {
    "collapsed": false
   },
   "outputs": [
    {
     "name": "stdout",
     "output_type": "stream",
     "text": [
      "[1, 2, 3, 4]\n"
     ]
    }
   ],
   "source": [
    "nums = [1, 2, 3]\n",
    "tri = nums\n",
    "nums.append(4)\n",
    "\n",
    "print(tri)"
   ]
  },
  {
   "cell_type": "markdown",
   "metadata": {},
   "source": [
    "Porque **tri** mudou?! A resposta segue o que aprendemos até aqui.\n",
    "\n",
    "Associações nunca copias valores, então os dois nomes se referem à mesma lista:"
   ]
  },
  {
   "cell_type": "markdown",
   "metadata": {},
   "source": [
    "<img src=\"imgs/ned8.png\">"
   ]
  },
  {
   "cell_type": "markdown",
   "metadata": {},
   "source": [
    "Em seguida, alteramos a lista chamando o método ```append```, que modifica a lista *in-place*.\n",
    "\n",
    "Já que **tri** se refere à mesma lista, quando examinamos **tri** estamos examinamos a mesma lista referida por **nums**, que foi alterada.\n",
    "\n",
    "Assim, **tri** agora também inclui o objeto **4**:"
   ]
  },
  {
   "cell_type": "markdown",
   "metadata": {},
   "source": [
    "<img src=\"imgs/ned9.png\">"
   ]
  },
  {
   "cell_type": "markdown",
   "metadata": {},
   "source": [
    "Este é o principal problema que as pessoas enfrentam com nomes e objetos em Python. \n",
    "\n",
    "Um objeto é referenciado por mais de um nome. Quando o objeto é alterado, todos os nomes visualizam a mudança!\n",
    "\n",
    "Pra que isto aconteça, você precisa de:\n",
    "\n",
    "* Um objeto mutável, neste caso a lista.\n",
    "* Mais de um nome se referindo a este objeto.\n",
    "* Algum trecho de código que altere o objeto através de um de seus nomes.\n",
    "\n",
    "Lembre-se que este não é um bug do Python. Muitos objetos têm mais de um nome ao longo de um código e é perfeitamente normal alterar objetos e essas alterações serem visíveis através dos seus outros nomes.\n",
    "\n",
    "A alternativa seria copiar os valores, mas isso tornaria os programas excessivamente lentos."
   ]
  },
  {
   "cell_type": "markdown",
   "metadata": {},
   "source": [
    "### Mito: Python associa objetos mutáveis e imutáveis de forma diferente.\n",
    "\n",
    "Já que o caso acima só acontece com objetos mutáveis, algumas pessoas acreditam que a associação funciona de forma diferente para objetos mutáveis e imutáveis. Não é isso.\n",
    "\n",
    "Todas as associações funcionam da mesma forma: um nome passa a se referir a um objeto. A diferença é que um objeto imutável não pode ser alterado, então múltiplos nomes associados a ele sempre apresentarão o mesmo estado do objeto. "
   ]
  },
  {
   "cell_type": "markdown",
   "metadata": {},
   "source": [
    "## Associações compostas"
   ]
  },
  {
   "cell_type": "markdown",
   "metadata": {},
   "source": [
    "Um tipo de operador mal compreendido em Python são os operadores de associação composta. O operador ```+=```, por exemplo, é apresentado abaixo."
   ]
  },
  {
   "cell_type": "code",
   "execution_count": 11,
   "metadata": {
    "collapsed": false
   },
   "outputs": [],
   "source": [
    "nums = [1, 2, 3]\n",
    "tri = nums\n",
    "nums += [4]"
   ]
  },
  {
   "cell_type": "markdown",
   "metadata": {},
   "source": [
    "Antes da associação composta: <img src=\"imgs/leo3.png\">\n",
    "Após a associação composta: <img src=\"imgs/leo5.png\">"
   ]
  },
  {
   "cell_type": "markdown",
   "metadata": {},
   "source": [
    "Como pode ser visto, o operador ```+=``` também funciona como um método de alteração in-place, no caso de objetos mutáveis. \n",
    "\n",
    "Em contrapartida, operadores infixos como o ```+``` devem sempre produzir novos objetos, independentemente de seus operandos serem mutáveis ou não:"
   ]
  },
  {
   "cell_type": "code",
   "execution_count": 12,
   "metadata": {
    "collapsed": false
   },
   "outputs": [],
   "source": [
    "nums = [1, 2, 3]\n",
    "tri = nums\n",
    "nums = nums + [4]"
   ]
  },
  {
   "cell_type": "markdown",
   "metadata": {},
   "source": [
    "Antes da associação: <img src=\"imgs/leo3.png\">\n",
    "Após a associação: <img src=\"imgs/leo4.png\">"
   ]
  },
  {
   "cell_type": "markdown",
   "metadata": {},
   "source": [
    "Assim, é importante entender que, diferentemente de outras linguagens, **utilizar um operador de associação composta em Python não necessariamente leva ao mesmo resultado que fazer uma operação com um operador infixo e em seguida uma associação!**\n",
    "\n",
    "Note que esta diferença só se torna visível para objetos mutáveis, uma vez que objetos imutáveis não permitem alteração in-place:"
   ]
  },
  {
   "cell_type": "code",
   "execution_count": 13,
   "metadata": {
    "collapsed": true
   },
   "outputs": [],
   "source": [
    "x = 23\n",
    "x = y\n",
    "x += 1"
   ]
  },
  {
   "cell_type": "markdown",
   "metadata": {},
   "source": [
    "Antes da associação composta: <img src=\"imgs/leo1.png\">\n",
    "Após a associação composta: <img src=\"imgs/leo2.png\">"
   ]
  }
 ],
 "metadata": {
  "kernelspec": {
   "display_name": "Python 3",
   "language": "python",
   "name": "python3"
  },
  "language_info": {
   "codemirror_mode": {
    "name": "ipython",
    "version": 3
   },
   "file_extension": ".py",
   "mimetype": "text/x-python",
   "name": "python",
   "nbconvert_exporter": "python",
   "pygments_lexer": "ipython3",
   "version": "3.5.2"
  }
 },
 "nbformat": 4,
 "nbformat_minor": 1
}
