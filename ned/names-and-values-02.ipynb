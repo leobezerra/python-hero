{
 "cells": [
  {
   "cell_type": "markdown",
   "metadata": {},
   "source": [
    "# Fatos e mitos sobre referências e objetos em Python"
   ]
  },
  {
   "cell_type": "markdown",
   "metadata": {},
   "source": [
    "Este notebook é a segunda parte de uma adaptação do post [\"Facts and myths about Python names and values\"](https://nedbatchelder.com/text/names.html), de Ned Batchelder."
   ]
  },
  {
   "cell_type": "markdown",
   "metadata": {},
   "source": [
    "## A diversidade do Python"
   ]
  },
  {
   "cell_type": "markdown",
   "metadata": {},
   "source": [
    "### Fato: referências podem ser mais que apenas nomes."
   ]
  },
  {
   "cell_type": "markdown",
   "metadata": {},
   "source": [
    "Todos os exemplos usados até aqui usaram nomes como referências a objetos, mas outras coisas também podem ser referências.\n",
    "\n",
    "Python tem um leque de estruturas de dados compostas, cada uma armazenando referências a objetos: elementos de uma lista, chaves e valores de um dicionário, atributos de objetos, e por aí vai.\n",
    "\n",
    "Cada exemplo acima pode ser usado do lado esquerdo de uma operação de associação e todos os detalhes discutos para associação também se aplicam aqui.\n",
    "\n",
    "Em resumo: **qualquer coisa que possa aparecer do lado esquerdo de uma associação é uma referência** e você pode substituir o **nome** pelo termo **referência** em todos os lugares onde ele aparecia.\n",
    "\n",
    "No nosso diagrama de listas, eu mostrei números como elementos, mas na verdade cada elemento é uma referência a número. \n",
    "\n",
    "A ilustração mais apropriada é esta:"
   ]
  },
  {
   "cell_type": "markdown",
   "metadata": {},
   "source": [
    "<img src=\"imgs/ned10.png\">"
   ]
  },
  {
   "cell_type": "markdown",
   "metadata": {},
   "source": [
    "Por simplicidade, vamos continuar usando o estilo de ilustração anterior.\n",
    "\n",
    "Se você tiver elementos de uma lista se referindo a outros objetos mutáveis, como sub-listas, é importante se lembrar que os elementos da lista são apenas referências a objetos.\n",
    "\n",
    "Veja mais alguns exemplos de associações. Cada um desses elementos que aparecem do lado esquerdo das operações de associação é uma referência:"
   ]
  },
  {
   "cell_type": "code",
   "execution_count": 1,
   "metadata": {
    "collapsed": false
   },
   "outputs": [
    {
     "name": "stdout",
     "output_type": "stream",
     "text": [
      "{'a': 24}\n"
     ]
    }
   ],
   "source": [
    "my_dict = {}\n",
    "my_dict[\"a\"] = 24\n",
    "print(my_dict)"
   ]
  },
  {
   "cell_type": "code",
   "execution_count": 2,
   "metadata": {
    "collapsed": false
   },
   "outputs": [
    {
     "name": "stdout",
     "output_type": "stream",
     "text": [
      "[25, 2, 3]\n"
     ]
    }
   ],
   "source": [
    "my_list = [1, 2, 3]\n",
    "my_list[0] = 25\n",
    "print(my_list)"
   ]
  },
  {
   "cell_type": "markdown",
   "metadata": {},
   "source": [
    "Muitas estruturas de Python armazenam objetos, cada um deles através de uma referência.\n",
    "\n",
    "Todas as regras explicadas aqui sobre nomes se aplicam exatamente da mesma forma a qualquer uma dessas referências.\n",
    "\n",
    "O coletor de lixo, por exemplo, não conta apenas nomes -- conta qualquer tipo de referência para decidir quando um objeto pode ser liberado.\n",
    "\n",
    "Note que ```i = x``` faz uma associação do nome **i** com o objeto referenciado por **x**. Já ```i[0] = x``` faz uma associação da referência presente na primeira posição da lista referenciada por **i** com o objeto referenciado por **x**.\n",
    "\n",
    "É importante entender corretamente o que está sendo associado com o quê. Só porque um nome aparece em alguma parte do lado esquerdo de uma associação, isso não significa que o nome esteja sendo reassociado."
   ]
  },
  {
   "cell_type": "markdown",
   "metadata": {},
   "source": [
    "### Fato: muitas coisas são associações"
   ]
  },
  {
   "cell_type": "markdown",
   "metadata": {},
   "source": [
    "Assim como muitas coisas podem servir como referências, muitas operações em Python são associações. \n",
    "\n",
    "Cada uma das linhas a seguir é uma associação com o nome **X**:"
   ]
  },
  {
   "cell_type": "code",
   "execution_count": 3,
   "metadata": {
    "collapsed": false
   },
   "outputs": [
    {
     "name": "stdout",
     "output_type": "stream",
     "text": [
      "4384446088\n",
      "4384801544\n",
      "4384150672\n",
      "4384446088\n",
      "4385238184\n"
     ]
    }
   ],
   "source": [
    "for X in \"texto\":\n",
    "    print(id(X))"
   ]
  },
  {
   "cell_type": "code",
   "execution_count": 4,
   "metadata": {
    "collapsed": false
   },
   "outputs": [
    {
     "data": {
      "text/plain": [
       "[4384446088, 4384801544, 4384150672, 4384446088, 4385238184]"
      ]
     },
     "execution_count": 4,
     "metadata": {},
     "output_type": "execute_result"
    }
   ],
   "source": [
    "[id(X) for X in \"texto\"]"
   ]
  },
  {
   "cell_type": "code",
   "execution_count": 5,
   "metadata": {
    "collapsed": false
   },
   "outputs": [
    {
     "data": {
      "text/plain": [
       "{4384150672, 4384446088, 4384801544, 4385238184}"
      ]
     },
     "execution_count": 5,
     "metadata": {},
     "output_type": "execute_result"
    }
   ],
   "source": [
    "{id(X) for X in \"texto\"}"
   ]
  },
  {
   "cell_type": "code",
   "execution_count": 6,
   "metadata": {
    "collapsed": false
   },
   "outputs": [
    {
     "name": "stdout",
     "output_type": "stream",
     "text": [
      "140214689169640\n"
     ]
    }
   ],
   "source": [
    "class X():\n",
    "    pass\n",
    "print(id(X))"
   ]
  },
  {
   "cell_type": "code",
   "execution_count": 7,
   "metadata": {
    "collapsed": false
   },
   "outputs": [
    {
     "name": "stdout",
     "output_type": "stream",
     "text": [
      "4411468656\n"
     ]
    }
   ],
   "source": [
    "def X():\n",
    "    pass\n",
    "print(id(X))"
   ]
  },
  {
   "cell_type": "code",
   "execution_count": 8,
   "metadata": {
    "collapsed": false
   },
   "outputs": [
    {
     "name": "stdout",
     "output_type": "stream",
     "text": [
      "4383079328\n"
     ]
    }
   ],
   "source": [
    "def fn(X): \n",
    "    print(id(X))\n",
    "fn(12)"
   ]
  },
  {
   "cell_type": "code",
   "execution_count": 9,
   "metadata": {
    "collapsed": false
   },
   "outputs": [
    {
     "name": "stdout",
     "output_type": "stream",
     "text": [
      "4410248432\n"
     ]
    }
   ],
   "source": [
    "with open(\"imgs/ned1.png\") as X:\n",
    "    print(id(X))"
   ]
  },
  {
   "cell_type": "code",
   "execution_count": 10,
   "metadata": {
    "collapsed": false
   },
   "outputs": [
    {
     "name": "stdout",
     "output_type": "stream",
     "text": [
      "4389861240\n"
     ]
    }
   ],
   "source": [
    "import random\n",
    "print(id(random))"
   ]
  },
  {
   "cell_type": "code",
   "execution_count": 11,
   "metadata": {
    "collapsed": false
   },
   "outputs": [
    {
     "name": "stdout",
     "output_type": "stream",
     "text": [
      "4389861240\n"
     ]
    }
   ],
   "source": [
    "import random as X\n",
    "print(id(X))"
   ]
  },
  {
   "cell_type": "code",
   "execution_count": 12,
   "metadata": {
    "collapsed": false
   },
   "outputs": [
    {
     "name": "stdout",
     "output_type": "stream",
     "text": [
      "4389391944\n"
     ]
    }
   ],
   "source": [
    "from random import randint\n",
    "print(id(randint))"
   ]
  },
  {
   "cell_type": "code",
   "execution_count": 13,
   "metadata": {
    "collapsed": false
   },
   "outputs": [
    {
     "name": "stdout",
     "output_type": "stream",
     "text": [
      "4389391944\n"
     ]
    }
   ],
   "source": [
    "from random import randint as X\n",
    "print(id(X))"
   ]
  },
  {
   "cell_type": "code",
   "execution_count": 14,
   "metadata": {
    "collapsed": false
   },
   "outputs": [
    {
     "name": "stdout",
     "output_type": "stream",
     "text": [
      "4411991496\n"
     ]
    }
   ],
   "source": [
    "try:\n",
    "    some_dict[\"a\"] = 1\n",
    "except NameError as X:\n",
    "    print(id(X))"
   ]
  },
  {
   "cell_type": "markdown",
   "metadata": {},
   "source": [
    "Eu não quero dizer que essas instruções atuam como associações -- eu quero dizer que elas são associações.\n",
    "\n",
    "Todas elas fazem com o que o nome **X** (ou ```random``` e ```randint```, nos exemplos 23 e 25) se refira a um objeto e tudo o que eu tenho dito sobre associações se aplicam a elas igualmente."
   ]
  },
  {
   "cell_type": "markdown",
   "metadata": {},
   "source": [
    "### Fato: Python passa argumentos de função através de associações."
   ]
  },
  {
   "cell_type": "markdown",
   "metadata": {},
   "source": [
    "Vamos analisar o caso mais interessante dentre essas associações: chamar um procedimento.\n",
    "\n",
    "Quando eu defino um procedimento, eu nomeio seus parâmetros:"
   ]
  },
  {
   "cell_type": "code",
   "execution_count": 15,
   "metadata": {
    "collapsed": true
   },
   "outputs": [],
   "source": [
    "def my_proc(x, y):\n",
    "    return x+y"
   ]
  },
  {
   "cell_type": "markdown",
   "metadata": {},
   "source": [
    "Aqui, **x** e **y** são parâmetros da função referenciada pelo nome ```my_proc``` -- lembre-se que em Python tudo é objeto ou referência, logo um procedimento é um objeto cujo nome é uma referência.\n",
    "\n",
    "Ao invocar ```my_proc```, eu forneço objetos existentes para serem usados como parâmetros do procedimento. Estes objetos são associados aos nomes definidos para os parâmetros da mesma forma que uma instrução de associação simples faria:"
   ]
  },
  {
   "cell_type": "code",
   "execution_count": 16,
   "metadata": {
    "collapsed": false
   },
   "outputs": [
    {
     "name": "stdout",
     "output_type": "stream",
     "text": [
      "17\n"
     ]
    }
   ],
   "source": [
    "def my_proc(x, y):\n",
    "    return x+y\n",
    "\n",
    "print(my_proc(8, 9))"
   ]
  },
  {
   "cell_type": "markdown",
   "metadata": {},
   "source": [
    "Quando ```my_proc``` é invocada, o nome **x** é associado ao objeto **8**, e o nome **y** é associado ao objeto **9**. Esta associação funciona exatamente como as instruções de associação que discutimos. Os nome **x** e **y** são locais ao procedimento, então quando o procedimento retorna, estes nomes desaparecem. No entanto, se os objetos aos quais eles estavam associados estiverem sendo referidos por outros nomes, estes objetos não desaparecerão.\n",
    "\n",
    "Assim como em qualquer outra associação, objetos mutáveis podem ser passados como parâmetros de procedimentos, e mudanças feitas nesses objetos serão visíveis para todos os seus nomes:"
   ]
  },
  {
   "cell_type": "code",
   "execution_count": 1,
   "metadata": {
    "collapsed": false
   },
   "outputs": [
    {
     "name": "stdout",
     "output_type": "stream",
     "text": [
      "[1, 2, 3, 4, 4]\n"
     ]
    }
   ],
   "source": [
    "def augment_twice(a_list, val):\n",
    "    \"\"\"Acrescenta duas referências a `val` no final da lista `a_list`.\"\"\"\n",
    "    a_list.append(val)\n",
    "    a_list.append(val)\n",
    "\n",
    "nums = [1, 2, 3]\n",
    "augment_twice(nums, 4)\n",
    "print(nums)"
   ]
  },
  {
   "cell_type": "markdown",
   "metadata": {},
   "source": [
    "Talvez o resultado da execução do código acima seja surpreendente para você, então vamos analisá-lo passo a passo. Quando invocamos o procedimento ```augment_twice```, os nomes e objetos estão assim:"
   ]
  },
  {
   "cell_type": "markdown",
   "metadata": {},
   "source": [
    "<img src=\"imgs/ned11.png\">"
   ]
  },
  {
   "cell_type": "markdown",
   "metadata": {},
   "source": [
    "As referências locais em um procedimento são desenhados em uma moldura. Invocar o procedimento associou os objetos aos nomes dos parâmetros, assim como qualquer instrução de associação faria.\n",
    "\n",
    "Lembre-se que associações nunca cria novos objetos nem copia dado algum, então aqui a referência local ```a_list``` está associada ao mesmo objeto passado na invocação -- isto é, o objeto ao qual ```nums``` também está associado.\n",
    "\n",
    "Neste ponto, chamamos a_list.append duas vezes, que altera a lista:"
   ]
  },
  {
   "cell_type": "markdown",
   "metadata": {},
   "source": [
    "<img src=\"imgs/ned12.png\">"
   ]
  },
  {
   "cell_type": "markdown",
   "metadata": {},
   "source": [
    "Quando o procedimento se encerra, as referências locais são destruídas. Objetos que não sejam mais referenciados são coletados, mas os outros permanecem:"
   ]
  },
  {
   "cell_type": "markdown",
   "metadata": {},
   "source": [
    "<img src=\"imgs/ned13.png\">"
   ]
  },
  {
   "cell_type": "markdown",
   "metadata": {},
   "source": [
    "Nós passamos a lista para o procedimento, que a modificou. Nenhum objeto foi copiado. \n",
    "\n",
    "Ainda que este comportamento possa ser surpreendente, ela é essencial Sem ela, não seria possível criar métodos que alterassem objetos.\n",
    "\n",
    "Aqui vai uma outra forma de criar um procedimento, mas que não funciona. Vamos ver porquê:"
   ]
  },
  {
   "cell_type": "code",
   "execution_count": 2,
   "metadata": {
    "collapsed": false
   },
   "outputs": [
    {
     "name": "stdout",
     "output_type": "stream",
     "text": [
      "[1, 2, 3]\n"
     ]
    }
   ],
   "source": [
    "def augment_twice_bad(a_list, val):\n",
    "    \"\"\"Acrescenta duas referências a `val` no final da lista `a_list`.\"\"\"\n",
    "    a_list = a_list + [val, val]\n",
    "\n",
    "nums = [1, 2, 3]\n",
    "augment_twice_bad(nums, 4)\n",
    "print(nums)"
   ]
  },
  {
   "cell_type": "markdown",
   "metadata": {},
   "source": [
    "No momento em que invocamos ```augment_twice_bad```, tudo parece igual ao exemplo anterior:"
   ]
  },
  {
   "cell_type": "markdown",
   "metadata": {},
   "source": [
    "<img src=\"imgs/ned14.png\">"
   ]
  },
  {
   "cell_type": "markdown",
   "metadata": {},
   "source": [
    "A próxima instrução é uma associação.\n",
    "\n",
    "A expressão no lado direito cria uma nova lista, que então é associada à referência ```a_list```.\n",
    "\n",
    "**Lembre-se que os operadores infixos não tentam fazer alterações in-place! Este papel é dos operadores de associação composta!**"
   ]
  },
  {
   "cell_type": "markdown",
   "metadata": {},
   "source": [
    "<img src=\"imgs/ned15.png\">"
   ]
  },
  {
   "cell_type": "markdown",
   "metadata": {},
   "source": [
    "Quando o procedimento acaba, suas referências locais são destruídas e quaisquer objetos que não sejam mais referenciados são coletados, nos levando de volta ao estado anterior à execução do procedimento:"
   ]
  },
  {
   "cell_type": "markdown",
   "metadata": {},
   "source": [
    "<img src=\"imgs/ned16.png\">"
   ]
  },
  {
   "cell_type": "markdown",
   "metadata": {},
   "source": [
    "É realmente importante ter em mente a diferença entre alterar um objeto in-place e reassociar uma referência.\n",
    "\n",
    "O procedimento ```augment_twice``` funcionou porque alterou o objeto passado, então a alteração estava disponível após o procedimento retornar.\n",
    "\n",
    "Já o procedimento ```augment_twice_bad``` usou uma associação para reassociar uma referência local, então estas mudanças não são visíveis fora do procedimento.\n",
    "\n",
    "Outra opção para o nosso procedimento é criar um novo objeto e retorná-lo:"
   ]
  },
  {
   "cell_type": "code",
   "execution_count": 4,
   "metadata": {
    "collapsed": false
   },
   "outputs": [
    {
     "name": "stdout",
     "output_type": "stream",
     "text": [
      "[1, 2, 3, 4, 4]\n"
     ]
    }
   ],
   "source": [
    "def augment_twice_good(a_list, val):\n",
    "    a_list = a_list + [val, val]\n",
    "    return a_list\n",
    "\n",
    "nums = [1, 2, 3]\n",
    "nums = augment_twice_good(nums, 4)\n",
    "print(nums)"
   ]
  },
  {
   "cell_type": "markdown",
   "metadata": {},
   "source": [
    "Aqui nós criamos um objeto inteiramente novo dentro de ```augment_twice_good``` e o retornamos de dentro do procedimento. Quem chamou o procedimento usa uma associação para se referir a esse objeto, então conseguimos o efeito que queremos.\n",
    "\n",
    "Este último procedimento é talvez o melhor, já que cria a menor quantidade de surpresas, uma vez que não tenta fazer alterações in-place, criando diretamente novos objetos.\n",
    "\n",
    "Não há resposta certa entre escolher alterar ou reassociar: o que você deve usar depende do efeito que você precisa.\n",
    "\n",
    "O mais importante é entender como cada situação acontece, saber as ferramentas à sua disposição e então escolher a que funcione melhor para o seu problema específico."
   ]
  },
  {
   "cell_type": "markdown",
   "metadata": {},
   "source": [
    "## Tipagem dinâmica"
   ]
  },
  {
   "cell_type": "markdown",
   "metadata": {},
   "source": [
    "Alguns detalhes sobre os objetos e referências Python:"
   ]
  },
  {
   "cell_type": "markdown",
   "metadata": {},
   "source": [
    "### Fato: Qualquer nome pode se referir a qualquer objeto em qualquer momento."
   ]
  },
  {
   "cell_type": "markdown",
   "metadata": {},
   "source": [
    "Python tem tipagem dinâmica, o que significa que referências em si não tem tipos. \n",
    "\n",
    "Qualquer nome pode se referir a qualquer objeto em qualquer momento. \n",
    "\n",
    "Um nome pode se referir a um inteiro, depois a uma string, em seguida a um procedimento e, por fim, a um módulo.\n",
    "\n",
    "Obviamente, este seria um código bastante confuso, então **não faça isso**, mas o interpretador Python não se confundirá!"
   ]
  },
  {
   "cell_type": "markdown",
   "metadata": {},
   "source": [
    "### Fato: Referências não têm tipo, objetos não tem escopo."
   ]
  },
  {
   "cell_type": "markdown",
   "metadata": {},
   "source": [
    "Assim como referências não têm tipo, objetos não têm escopo.\n",
    "\n",
    "Quando dizemos que um procedimento tem uma variável local, queremos dizer que aquela referência tem seu escopo restrito ao procedimento: você não consegue usá-la fora do procedimento e, quando o procedimento retornar, aquela referência será destruída.\n",
    "\n",
    "Mas como já vimos, se o objeto referido internamente no procedimento tiver referências externas ao procedimento, ele continuará existindo mesmo quando o procedimento retornar. \n",
    "\n",
    "**É uma referência local, não um objeto local.**"
   ]
  },
  {
   "cell_type": "code",
   "execution_count": 3,
   "metadata": {
    "collapsed": false
   },
   "outputs": [
    {
     "name": "stdout",
     "output_type": "stream",
     "text": [
      "4448867976\n",
      "4448867976\n",
      "[1, 3, 2]\n"
     ]
    }
   ],
   "source": [
    "def proc(a):\n",
    "    a.append(2)\n",
    "    print(id(a))\n",
    "    \n",
    "b = [1,3]\n",
    "proc(b)\n",
    "print(id(b))\n",
    "print(b)"
   ]
  },
  {
   "cell_type": "markdown",
   "metadata": {},
   "source": [
    "### Fato: Objetos não podem ser destruídos, apenas referências."
   ]
  },
  {
   "cell_type": "markdown",
   "metadata": {},
   "source": [
    "A gerência de memória do Python é central para o comportamento do interpretador -- **não só você não têm que destruir objetos, você não tem como destruir objetos**.\n",
    "\n",
    "Talvez você tenha lido sobre a instrução ```del```:"
   ]
  },
  {
   "cell_type": "code",
   "execution_count": 6,
   "metadata": {
    "collapsed": true
   },
   "outputs": [],
   "source": [
    "nums = [1, 2, 3]\n",
    "del nums"
   ]
  },
  {
   "cell_type": "markdown",
   "metadata": {},
   "source": [
    "Isto não destrói o objeto referido por **nums** -- isto destrói a referência **nums**.\n",
    "\n",
    "Esta referência é removida do escopo atual e então o coletor de lixo do Python entra em ação: se o objeto referido por **nums** só estivesse sendo referido por **nums**, este objeto será coletado. Caso contrário, o objeto continua existindo."
   ]
  },
  {
   "cell_type": "markdown",
   "metadata": {},
   "source": [
    "### Mito: Python não têm variáveis."
   ]
  },
  {
   "cell_type": "markdown",
   "metadata": {},
   "source": [
    "Algumas pessoas gostam de dizer que \"*Python não tem variáveis --  apenas nomes*\". \n",
    "\n",
    "people like to say, “Python has no variables, it has names.” This slogan is misleading. The truth is that Python has variables, they just work differently than variables in C.\n",
    "\n",
    "Names are Python’s variables: they refer to values, and those values can change (vary) over the course of your program. Just because another language (albeit an important one) behaves differently is no reason to describe Python as not having variables.\n",
    "\n",
    "\n"
   ]
  },
  {
   "cell_type": "code",
   "execution_count": null,
   "metadata": {
    "collapsed": true
   },
   "outputs": [],
   "source": []
  }
 ],
 "metadata": {
  "kernelspec": {
   "display_name": "Python 3",
   "language": "python",
   "name": "python3"
  },
  "language_info": {
   "codemirror_mode": {
    "name": "ipython",
    "version": 3
   },
   "file_extension": ".py",
   "mimetype": "text/x-python",
   "name": "python",
   "nbconvert_exporter": "python",
   "pygments_lexer": "ipython3",
   "version": "3.5.2"
  }
 },
 "nbformat": 4,
 "nbformat_minor": 1
}
