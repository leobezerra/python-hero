{
 "cells": [
  {
   "cell_type": "markdown",
   "metadata": {},
   "source": [
    "# Programação orientada a objetos"
   ]
  },
  {
   "cell_type": "markdown",
   "metadata": {},
   "source": [
    "Este notebook é a terceira parte da série sobre Programação orientada a objetos."
   ]
  },
  {
   "cell_type": "markdown",
   "metadata": {},
   "source": [
    "---\n",
    "Nos notebooks anteriores, falamos sobre o primeiro pilar da POO: abstração/encapsulamento.\n",
    "\n",
    "Neste notebook e no próximo, discutiremos os outros dois pilares que estão fortemente relacionados: herança e polimorfismo.\n",
    "\n",
    "**DISCLAIMER: este notebook aborda esses dois conceitos de forma bastante tradicional. O próximo notebook usa uma visão revisada desses conceitos, principalmente sob a ótica de Python.**"
   ]
  },
  {
   "cell_type": "markdown",
   "metadata": {},
   "source": [
    "## Herança"
   ]
  },
  {
   "cell_type": "markdown",
   "metadata": {},
   "source": [
    "Herança é o mecanismo que permite que uma classe derivada reaproveite o código de uma classe base.\n",
    "\n",
    "Em Python, dizemos que uma classe deriva (herda) de outra(s) listando as classes-base na definição da classe:"
   ]
  },
  {
   "cell_type": "code",
   "execution_count": 1,
   "metadata": {
    "collapsed": true
   },
   "outputs": [],
   "source": [
    "from collections import UserList\n",
    "class Stack(UserList):\n",
    "    def push(self, value):\n",
    "        self.append(value)\n",
    "    \n",
    "    def pop(self):\n",
    "        super().pop(-1)\n",
    "    \n",
    "    def top(self):\n",
    "        return self.__getitem__(-1)"
   ]
  },
  {
   "cell_type": "code",
   "execution_count": 2,
   "metadata": {
    "collapsed": true
   },
   "outputs": [],
   "source": [
    "pilha = Stack()"
   ]
  },
  {
   "cell_type": "code",
   "execution_count": 3,
   "metadata": {
    "collapsed": true
   },
   "outputs": [],
   "source": [
    "pilha.push(3)\n",
    "pilha.push(5)\n",
    "pilha.push(10)\n",
    "pilha.push(6)"
   ]
  },
  {
   "cell_type": "code",
   "execution_count": 4,
   "metadata": {
    "collapsed": false
   },
   "outputs": [
    {
     "data": {
      "text/plain": [
       "6"
      ]
     },
     "execution_count": 4,
     "metadata": {},
     "output_type": "execute_result"
    }
   ],
   "source": [
    "pilha.top()"
   ]
  },
  {
   "cell_type": "code",
   "execution_count": 5,
   "metadata": {
    "collapsed": false,
    "scrolled": true
   },
   "outputs": [
    {
     "data": {
      "text/plain": [
       "5"
      ]
     },
     "execution_count": 5,
     "metadata": {},
     "output_type": "execute_result"
    }
   ],
   "source": [
    "pilha.pop()\n",
    "pilha.pop()\n",
    "pilha.top()"
   ]
  },
  {
   "cell_type": "markdown",
   "metadata": {},
   "source": [
    "Vamos discutir algumas coisas sobre esse código:\n",
    "\n",
    "* A classe derivada herda acesso aos atributos e métodos da classe base. É possível acessá-los diretamente (como no método `push`) ou através da referência à classe base retornada pelo método embutido `super()` (como no método `pop`). A prioridade de resolução de escopo segue a ordem: local, classe, super, global.\n",
    "\n",
    "* Como herdamos da classe `UserList`, não temos como acessar diretamente seus atributos por não sabermos como ela é implementada internamente. É por isso que tentamos usar sempre seus métodos, incluindo o método mágico `__getitem__` para acessar o último elemento no método `top`. \n",
    "\n",
    "**Obs #1: Também poderíamos acessar o último elemento usando `self[-1]`, uma vez que o operador `[]` invoca o método mágico `__getitem__`. Usei o método mágico explicitamente apenas para mostrar que podemos fazer isso :)**  \n",
    "\n",
    "**Obs #2: Como a classe `UserList` foi projetada para ser extensível, ela expõe um atributo `data` para abstrair os dados que ela armazena. Assim, `self[-1]` e `self.data[-1]` são equivalentes.**\n",
    "\n",
    "* A classe derivada pode reimplementar algum método existente na classe base. Chamamos isso de **sobrescrita de métodos**. Foi o que fizemos com o método `pop()`, que é implementado tanto por `UserList` como por `Stack`.\n",
    "\n",
    "* Como Python não implementa herança privada, todos os métodos da classe base ficam expostos na classe derivada. Assim, a ordem da nossa pilha poderia ser alterada pelo usuário:"
   ]
  },
  {
   "cell_type": "code",
   "execution_count": 6,
   "metadata": {
    "collapsed": true
   },
   "outputs": [],
   "source": [
    "pilha.insert(1, 4) "
   ]
  },
  {
   "cell_type": "code",
   "execution_count": 7,
   "metadata": {
    "collapsed": false
   },
   "outputs": [
    {
     "name": "stdout",
     "output_type": "stream",
     "text": [
      "[3, 4, 5]\n"
     ]
    }
   ],
   "source": [
    "print(pilha)"
   ]
  },
  {
   "cell_type": "markdown",
   "metadata": {},
   "source": [
    "### Herança múltipla"
   ]
  },
  {
   "cell_type": "markdown",
   "metadata": {},
   "source": [
    "Python também permite que uma classe derivada herde métodos e atributos de múltiplas classes.\n",
    "\n",
    "Como vamos discutir mais da frente, a herança simples é uma ferramenta que deve ser usada com cautela.\n",
    "\n",
    "A herança múltipla, então, nem se fala 😂\n",
    "\n",
    "Vamos ver um exemplo de herança múltipla e como o interpretador Python procede quando uma classe herda de classes base que implementam um método de mesmo nome: "
   ]
  },
  {
   "cell_type": "code",
   "execution_count": 9,
   "metadata": {
    "collapsed": true
   },
   "outputs": [],
   "source": [
    "class Student():\n",
    "    def __init__(self, student_id):\n",
    "        self.student_id = student_id\n",
    "\n",
    "    def __str__(self):\n",
    "        return f\"Student #ID: {self.student_id}\"\n",
    "\n",
    "class Employee():\n",
    "    def __init__(self, employee_id):\n",
    "        self.employee_id = employee_id\n",
    "\n",
    "    def __str__(self):\n",
    "        return f\"Employee #ID: {self.employee_id}\"\n",
    "\n",
    "class Trainee(Student, Employee):\n",
    "    def __init__(self, student_id, employee_id):\n",
    "        Student.__init__(self, student_id)\n",
    "        Employee.__init__(self, employee_id)"
   ]
  },
  {
   "cell_type": "code",
   "execution_count": 10,
   "metadata": {
    "collapsed": false
   },
   "outputs": [
    {
     "name": "stdout",
     "output_type": "stream",
     "text": [
      "Student #ID: 5534\n"
     ]
    }
   ],
   "source": [
    "leo = Trainee(5534, 4529)\n",
    "print(leo)"
   ]
  },
  {
   "cell_type": "markdown",
   "metadata": {},
   "source": [
    "Note que, apesar de ser possível usar o procedimento `super()`, faz pouco sentido fazer isso considerando que temos múltiplas classes-base.\n",
    "\n",
    "Em vez disso, invocamos os métodos `__init__` de cada classe base e precisamos passar a referência `self` para esses métodos.\n",
    "\n",
    "Além disso, a chamada ao procedimento `print()` acessa apenas o método mágico `__str__` da classe `Student`. Isto acontece porque o interpretador Python usa um algoritmo para determinar a precedência de métodos de mesmo nome presentes nas classes base herdadas.\n",
    "\n",
    "O resultado deste algoritmo está presente no atributo de classe `__mro__` (do inglês, *method resolution order*) e varia em função ordem em que as classes-base são listadas na declaração de herança:"
   ]
  },
  {
   "cell_type": "code",
   "execution_count": 11,
   "metadata": {
    "collapsed": false
   },
   "outputs": [
    {
     "data": {
      "text/plain": [
       "(__main__.Trainee, __main__.Student, __main__.Employee, object)"
      ]
     },
     "execution_count": 11,
     "metadata": {},
     "output_type": "execute_result"
    }
   ],
   "source": [
    "Trainee.__mro__"
   ]
  },
  {
   "cell_type": "code",
   "execution_count": 12,
   "metadata": {
    "collapsed": true
   },
   "outputs": [],
   "source": [
    "class Trainee(Employee, Student):\n",
    "    def __init__(self, student_id, employee_id):\n",
    "        Student.__init__(self, student_id)\n",
    "        Employee.__init__(self, employee_id)"
   ]
  },
  {
   "cell_type": "code",
   "execution_count": 13,
   "metadata": {
    "collapsed": false,
    "scrolled": true
   },
   "outputs": [
    {
     "data": {
      "text/plain": [
       "(__main__.Trainee, __main__.Employee, __main__.Student, object)"
      ]
     },
     "execution_count": 13,
     "metadata": {},
     "output_type": "execute_result"
    }
   ],
   "source": [
    "Trainee.__mro__"
   ]
  },
  {
   "cell_type": "markdown",
   "metadata": {},
   "source": [
    "Neste caso, é simples acessar ambos os métodos `__str__`, fazendo uma sobrescrita deste método na classe `Trainee`:"
   ]
  },
  {
   "cell_type": "code",
   "execution_count": 14,
   "metadata": {
    "collapsed": true
   },
   "outputs": [],
   "source": [
    "class Trainee(Employee, Student):\n",
    "    def __init__(self, student_id, employee_id):\n",
    "        Student.__init__(self, student_id)\n",
    "        Employee.__init__(self, employee_id)\n",
    "        \n",
    "    def __str__(self):\n",
    "        return \"\\n\".join([Student.__str__(self), Employee.__str__(self)])"
   ]
  },
  {
   "cell_type": "code",
   "execution_count": 15,
   "metadata": {
    "collapsed": false,
    "scrolled": false
   },
   "outputs": [
    {
     "name": "stdout",
     "output_type": "stream",
     "text": [
      "Student #ID: 5534\n",
      "Employee #ID: 4529\n"
     ]
    }
   ],
   "source": [
    "leo = Trainee(5534, 4529)\n",
    "print(leo)"
   ]
  },
  {
   "cell_type": "markdown",
   "metadata": {},
   "source": [
    "Também é possível usar a MRO para acessar todos os métodos de mesmo nome das classes-base de `Trainee`:"
   ]
  },
  {
   "cell_type": "code",
   "execution_count": 16,
   "metadata": {
    "collapsed": true
   },
   "outputs": [],
   "source": [
    "class Trainee(Employee, Student):\n",
    "    def __init__(self, student_id, employee_id):\n",
    "        Student.__init__(self, student_id)\n",
    "        Employee.__init__(self, employee_id)\n",
    "        \n",
    "    def __str__(self):\n",
    "        return \"\\n\".join([base.__str__(self) for base in type(self).__mro__[1:-1]])"
   ]
  },
  {
   "cell_type": "code",
   "execution_count": 17,
   "metadata": {
    "collapsed": false,
    "scrolled": false
   },
   "outputs": [
    {
     "name": "stdout",
     "output_type": "stream",
     "text": [
      "Employee #ID: 4529\n",
      "Student #ID: 5534\n"
     ]
    }
   ],
   "source": [
    "leo = Trainee(5534, 4529)\n",
    "print(leo)"
   ]
  },
  {
   "cell_type": "markdown",
   "metadata": {},
   "source": [
    "## Polimorfismo"
   ]
  },
  {
   "cell_type": "markdown",
   "metadata": {},
   "source": [
    "Python é uma linguagem dinâmica que se baseia no polimorfismo de maneira bastante natural.\n",
    "\n",
    "Os containers embutidos são um forte exemplo de **polimorfismo paramétrico**, que em outras linguagens é implementado através de programação genérica (e.g., templates em C++):"
   ]
  },
  {
   "cell_type": "code",
   "execution_count": 17,
   "metadata": {
    "collapsed": false
   },
   "outputs": [
    {
     "name": "stdout",
     "output_type": "stream",
     "text": [
      "[10, 3, 7, 5]\n",
      "{0.4, 3.4, 7.6}\n",
      "{'a': 'c', 'e': 'b'}\n"
     ]
    }
   ],
   "source": [
    "print([10, 3, 7, 5])\n",
    "print({0.4, 7.6, 3.4})\n",
    "print({\"a\": \"c\", \"e\": \"b\"})"
   ]
  },
  {
   "cell_type": "markdown",
   "metadata": {},
   "source": [
    "De fato, a capacidade polimórfica dos objetos Python é ainda maior do que a de linguagens com tipagem estática como C++ ou Java. \n",
    "\n",
    "O exemplo abaixo mostra a capacidade dos containers Python para armazenar tipos heterogêneos de dados de forma dinâmica, o que não é possível diretamente nessas outras linguagens:"
   ]
  },
  {
   "cell_type": "code",
   "execution_count": 18,
   "metadata": {
    "collapsed": true
   },
   "outputs": [],
   "source": [
    "hetero_set = set()"
   ]
  },
  {
   "cell_type": "code",
   "execution_count": 19,
   "metadata": {
    "collapsed": true
   },
   "outputs": [],
   "source": [
    "hetero_set.add(5)\n",
    "hetero_set.add(\"a\")\n",
    "hetero_set.add(3.4)\n",
    "hetero_set.add((3))"
   ]
  },
  {
   "cell_type": "code",
   "execution_count": 20,
   "metadata": {
    "collapsed": false,
    "scrolled": true
   },
   "outputs": [
    {
     "name": "stdout",
     "output_type": "stream",
     "text": [
      "{3.4, 3, 'a', 5}\n",
      "True\n",
      "False\n",
      "False\n",
      "True\n"
     ]
    }
   ],
   "source": [
    "print(hetero_set)\n",
    "print(\"a\" in hetero_set)\n",
    "print(\"b\" in hetero_set)\n",
    "print(4.1 in hetero_set)\n",
    "print(3 in hetero_set)"
   ]
  },
  {
   "cell_type": "markdown",
   "metadata": {},
   "source": [
    "Dado o elevado polimorfismo inerente a linguagem, nossa postura tem que ser de aproveitar ao máximo a integração com o repertório de tipos e procedimentos polimórficos disponíveis na linguagem.\n",
    "\n",
    "Pra entender as opções de polimorfismo existentes em Python, vamos começar discutindo interfaces e no notebook seguinte discutiremos protocolos."
   ]
  },
  {
   "cell_type": "markdown",
   "metadata": {},
   "source": [
    "### Interfaces"
   ]
  },
  {
   "cell_type": "markdown",
   "metadata": {},
   "source": [
    "Linguagens de programação mais tradicionais adotam o conceito de interfaces (ou, mais geralmente, classes abstratas), que ajudam a formalizar a característica de um conjunto de classes.\n",
    "\n",
    "O módulo `collections.abc` traz vários exemplos de interfaces, como a interface `Sized`, que indica que um objeto consegue determinar/informar seu tamanho:"
   ]
  },
  {
   "cell_type": "code",
   "execution_count": 18,
   "metadata": {
    "collapsed": false
   },
   "outputs": [
    {
     "name": "stdout",
     "output_type": "stream",
     "text": [
      "True\n",
      "True\n",
      "True\n"
     ]
    }
   ],
   "source": [
    "from collections.abc import Sized\n",
    "print(isinstance(list(), Sized))\n",
    "print(isinstance(set(), Sized))\n",
    "print(isinstance(str(), Sized))"
   ]
  },
  {
   "cell_type": "markdown",
   "metadata": {},
   "source": [
    "Dizemos que uma classe implementa uma interface quando ela herda da interface e implementa os métodos prescritos na interface.\n",
    "\n",
    "No caso da interface `Sized`, o método prescrito é o método mágico `__len__`.\n",
    "\n",
    "Vamos fazer uma classe `Team` que armazena uma lista de jogadores de uma equipe. Vamos garantir que ela implemente a interface `Sized`: "
   ]
  },
  {
   "cell_type": "code",
   "execution_count": 19,
   "metadata": {
    "collapsed": true
   },
   "outputs": [],
   "source": [
    "class Team(Sized):\n",
    "    def __init__(self, args=[]):\n",
    "        self.players = list(args)"
   ]
  },
  {
   "cell_type": "code",
   "execution_count": 20,
   "metadata": {
    "collapsed": false,
    "scrolled": true
   },
   "outputs": [
    {
     "ename": "TypeError",
     "evalue": "Can't instantiate abstract class Team with abstract methods __len__",
     "output_type": "error",
     "traceback": [
      "\u001b[0;31m---------------------------------------------------------------------------\u001b[0m",
      "\u001b[0;31mTypeError\u001b[0m                                 Traceback (most recent call last)",
      "\u001b[0;32m<ipython-input-20-bf38b594693b>\u001b[0m in \u001b[0;36m<module>\u001b[0;34m\u001b[0m\n\u001b[0;32m----> 1\u001b[0;31m \u001b[0mequipe1\u001b[0m \u001b[0;34m=\u001b[0m \u001b[0mTeam\u001b[0m\u001b[0;34m(\u001b[0m\u001b[0;34m)\u001b[0m\u001b[0;34m\u001b[0m\u001b[0m\n\u001b[0m",
      "\u001b[0;31mTypeError\u001b[0m: Can't instantiate abstract class Team with abstract methods __len__"
     ]
    }
   ],
   "source": [
    "equipe1 = Team()"
   ]
  },
  {
   "cell_type": "markdown",
   "metadata": {},
   "source": [
    "**Note que o interpretador Python chama a interface `Sized` de classe abstrata. Mais na frente vamos discutir as nuances que diferenciam esses dois conceitos.**"
   ]
  },
  {
   "cell_type": "markdown",
   "metadata": {},
   "source": [
    "Apenas herdar da interface `Sized` não é suficiente, porque o método `__len__` prescrito nessa interface é um **método abstrato**.\n",
    "\n",
    "Isto quer dizer que a interface `Sized` especifica que todas as suas classes derivadas precisam implementar o método mágico `__len__`, mas não fornece uma implementação padrão.\n",
    "\n",
    "Vamos completar nossa classe `Team` pra que ela implemente a interface `Sized`:"
   ]
  },
  {
   "cell_type": "code",
   "execution_count": 21,
   "metadata": {
    "collapsed": true
   },
   "outputs": [],
   "source": [
    "class Team(Sized):\n",
    "    def __init__(self, args=[]):\n",
    "        self.players = list(args)\n",
    "    \n",
    "    def __len__(self):\n",
    "        return len(self.players)"
   ]
  },
  {
   "cell_type": "code",
   "execution_count": 22,
   "metadata": {
    "collapsed": false
   },
   "outputs": [
    {
     "data": {
      "text/plain": [
       "0"
      ]
     },
     "execution_count": 22,
     "metadata": {},
     "output_type": "execute_result"
    }
   ],
   "source": [
    "equipe1 = Team()\n",
    "len(equipe1)"
   ]
  },
  {
   "cell_type": "code",
   "execution_count": 23,
   "metadata": {
    "collapsed": false,
    "scrolled": true
   },
   "outputs": [
    {
     "data": {
      "text/plain": [
       "4"
      ]
     },
     "execution_count": 23,
     "metadata": {},
     "output_type": "execute_result"
    }
   ],
   "source": [
    "equipe2 = Team([\"Python\", \"C++\", \"Ruby\", \"Java\"])\n",
    "len(equipe2)"
   ]
  },
  {
   "cell_type": "markdown",
   "metadata": {},
   "source": [
    "### Implementando múltiplas interfaces"
   ]
  },
  {
   "cell_type": "markdown",
   "metadata": {},
   "source": [
    "Interfaces são um exemplo onde herança múltipla é útil. Vamos adicionar mais uma característica à nossa classe `Team`, implementando a interface `Container`:"
   ]
  },
  {
   "cell_type": "code",
   "execution_count": 24,
   "metadata": {
    "collapsed": true
   },
   "outputs": [],
   "source": [
    "from collections.abc import Container\n",
    "class Team(Sized, Container):\n",
    "    def __init__(self, args=[]):\n",
    "        self.players = list(args)\n",
    "    \n",
    "    def __len__(self):\n",
    "        return len(self.players)"
   ]
  },
  {
   "cell_type": "code",
   "execution_count": 25,
   "metadata": {
    "collapsed": false
   },
   "outputs": [
    {
     "ename": "TypeError",
     "evalue": "Can't instantiate abstract class Team with abstract methods __contains__",
     "output_type": "error",
     "traceback": [
      "\u001b[0;31m---------------------------------------------------------------------------\u001b[0m",
      "\u001b[0;31mTypeError\u001b[0m                                 Traceback (most recent call last)",
      "\u001b[0;32m<ipython-input-25-bf38b594693b>\u001b[0m in \u001b[0;36m<module>\u001b[0;34m\u001b[0m\n\u001b[0;32m----> 1\u001b[0;31m \u001b[0mequipe1\u001b[0m \u001b[0;34m=\u001b[0m \u001b[0mTeam\u001b[0m\u001b[0;34m(\u001b[0m\u001b[0;34m)\u001b[0m\u001b[0;34m\u001b[0m\u001b[0m\n\u001b[0m",
      "\u001b[0;31mTypeError\u001b[0m: Can't instantiate abstract class Team with abstract methods __contains__"
     ]
    }
   ],
   "source": [
    "equipe1 = Team()"
   ]
  },
  {
   "cell_type": "markdown",
   "metadata": {},
   "source": [
    "Note que o método prescrito pela interface `Container` é o método mágico `__contains__`, que usamos através do operador `in`."
   ]
  },
  {
   "cell_type": "code",
   "execution_count": 26,
   "metadata": {
    "collapsed": true
   },
   "outputs": [],
   "source": [
    "from collections.abc import Container\n",
    "class Team(Sized, Container):\n",
    "    def __init__(self, args=[]):\n",
    "        self.players = list(args)\n",
    "    \n",
    "    def __len__(self):\n",
    "        return len(self.players)\n",
    "    \n",
    "    def __contains__(self, value):\n",
    "        return value in self.players"
   ]
  },
  {
   "cell_type": "code",
   "execution_count": 27,
   "metadata": {
    "collapsed": false
   },
   "outputs": [
    {
     "name": "stdout",
     "output_type": "stream",
     "text": [
      "False\n"
     ]
    }
   ],
   "source": [
    "equipe1 = Team()\n",
    "print(\"Leo\" in equipe1)"
   ]
  },
  {
   "cell_type": "code",
   "execution_count": 28,
   "metadata": {
    "collapsed": false,
    "scrolled": false
   },
   "outputs": [
    {
     "name": "stdout",
     "output_type": "stream",
     "text": [
      "True\n"
     ]
    }
   ],
   "source": [
    "equipe2 = Team([\"Python\", \"C++\", \"Ruby\", \"Java\"])\n",
    "print(\"Python\" in equipe2)"
   ]
  },
  {
   "cell_type": "markdown",
   "metadata": {},
   "source": [
    "Em alguns casos, a combinação de interfaces forma um conceito mais amplo, também fornecido como interface.\n",
    "\n",
    "É o caso da interface `Sequence`, que agrega as funcionalidades das interfaces `Sized`, `Container` e `Iterable`:"
   ]
  },
  {
   "cell_type": "code",
   "execution_count": 29,
   "metadata": {
    "collapsed": true
   },
   "outputs": [],
   "source": [
    "from collections.abc import Sequence\n",
    "class Team(Sequence):\n",
    "    def __init__(self, args=[]):\n",
    "        self.players = list(args)"
   ]
  },
  {
   "cell_type": "code",
   "execution_count": 30,
   "metadata": {
    "collapsed": false,
    "scrolled": true
   },
   "outputs": [
    {
     "ename": "TypeError",
     "evalue": "Can't instantiate abstract class Team with abstract methods __getitem__, __len__",
     "output_type": "error",
     "traceback": [
      "\u001b[0;31m---------------------------------------------------------------------------\u001b[0m",
      "\u001b[0;31mTypeError\u001b[0m                                 Traceback (most recent call last)",
      "\u001b[0;32m<ipython-input-30-bf38b594693b>\u001b[0m in \u001b[0;36m<module>\u001b[0;34m\u001b[0m\n\u001b[0;32m----> 1\u001b[0;31m \u001b[0mequipe1\u001b[0m \u001b[0;34m=\u001b[0m \u001b[0mTeam\u001b[0m\u001b[0;34m(\u001b[0m\u001b[0;34m)\u001b[0m\u001b[0;34m\u001b[0m\u001b[0m\n\u001b[0m",
      "\u001b[0;31mTypeError\u001b[0m: Can't instantiate abstract class Team with abstract methods __getitem__, __len__"
     ]
    }
   ],
   "source": [
    "equipe1 = Team()"
   ]
  },
  {
   "cell_type": "markdown",
   "metadata": {},
   "source": [
    "A interface `Sequence` prescreve os métodos `__getitem__` e `__len__`. Vamos adicioná-los à nossa classe:"
   ]
  },
  {
   "cell_type": "code",
   "execution_count": 31,
   "metadata": {
    "collapsed": true
   },
   "outputs": [],
   "source": [
    "from collections.abc import Sequence\n",
    "class Team(Sequence):\n",
    "    def __init__(self, args=[]):\n",
    "        self.players = list(args)\n",
    "    \n",
    "    def __len__(self):\n",
    "        return len(self.players)\n",
    "    \n",
    "    def __getitem__(self, index):\n",
    "        return self.players[index]"
   ]
  },
  {
   "cell_type": "code",
   "execution_count": 32,
   "metadata": {
    "collapsed": true
   },
   "outputs": [],
   "source": [
    "equipe2 = Team([\"Python\", \"C++\", \"Ruby\", \"Java\"])"
   ]
  },
  {
   "cell_type": "code",
   "execution_count": 33,
   "metadata": {
    "collapsed": false,
    "scrolled": true
   },
   "outputs": [
    {
     "name": "stdout",
     "output_type": "stream",
     "text": [
      "Python\n",
      "C++\n",
      "Ruby\n",
      "Java\n"
     ]
    }
   ],
   "source": [
    "for i in range(len(equipe2)):\n",
    "    print(equipe2[i])"
   ]
  },
  {
   "cell_type": "markdown",
   "metadata": {},
   "source": [
    "Note que dissemos que a interface `Sequence` agrega as funcionalidades das interfaces `Sized`, `Container` e `Iterable`, mas nós não chegamos a implementar os métodos prescritos em `Container` (método mágico `__contains__`) nem em `Iterable` (método mágico `__iter__`).\n",
    "\n",
    "No entanto, nós conseguimos usar os dois métodos na nossa classe `Team`:"
   ]
  },
  {
   "cell_type": "code",
   "execution_count": 34,
   "metadata": {
    "collapsed": false,
    "scrolled": true
   },
   "outputs": [
    {
     "data": {
      "text/plain": [
       "True"
      ]
     },
     "execution_count": 34,
     "metadata": {},
     "output_type": "execute_result"
    }
   ],
   "source": [
    "\"Ruby\" in equipe2"
   ]
  },
  {
   "cell_type": "code",
   "execution_count": 35,
   "metadata": {
    "collapsed": false,
    "scrolled": true
   },
   "outputs": [
    {
     "name": "stdout",
     "output_type": "stream",
     "text": [
      "Python\n",
      "C++\n",
      "Ruby\n",
      "Java\n"
     ]
    }
   ],
   "source": [
    "for lang in equipe2:\n",
    "    print(lang)"
   ]
  },
  {
   "cell_type": "markdown",
   "metadata": {},
   "source": [
    "Isto acontece porque a interface `Sequence` implementa os métodos `__contains__` e `__iter__` a partir do método `__getitem__`.\n",
    "\n",
    "Pra ser mais preciso, podemos distinguir três conceitos importantes relacionados a polimorfismo:\n",
    "* **interfaces** prescrevem métodos\n",
    "* **classes-base abstratas (ABCs, do inglês *abstract base classes*)** prescrevem e/ou fornecem métodos\n",
    "* **mixins** fornecem métodos\n",
    "\n",
    "Alguns comentários sobre isso:\n",
    "- Estávamos chamando `Sequence` de interface, mas agora vemos que o correto é chamá-la de ABC.\n",
    "- Toda interface e mixin são ABCs, mas a recíproca não é necessariamente verdadeira.\n",
    "- A documentação do módulo `collections.abc` do Python considera que um *mixin* é um método que uma classe ganha de brinde quando implementa uma classe-base abstrata."
   ]
  },
  {
   "cell_type": "markdown",
   "metadata": {},
   "source": [
    "### Mixins e herança múltipla\n",
    "\n"
   ]
  },
  {
   "cell_type": "markdown",
   "metadata": {},
   "source": [
    "Interfaces devem ser pensadas de forma a casar com a necessidade do cliente. Este é um dos cinco princípios básicos que ajudam a nortear o processo de modelagem de um sistema orientado a objetos, conhecidos pelo acrônimo [S.O.L.I.D.](https://scotch.io/bar-talk/s-o-l-i-d-the-first-five-principles-of-object-oriented-design):\n",
    "\n",
    "> A client should never be forced to implement an interface that it doesn't use or clients shouldn't be forced to depend on methods they do not use.\n",
    "\n",
    "Tradução livre:\n",
    "> \"Um cliente nunca deveria ser forçado a implementar uma interface que ele não use\" ou \"clientes não devem ser forçados a depender de métodos que eles não usem\".\n",
    "\n",
    "Este pode ser o caso de um cliente que decida implementar a ABC `Sequence`, mas não tenha interesse no método `__contains__`, ou não tenha como implementar o método `__len__`.\n",
    "\n",
    "É por isso que **mixins** se tornaram populares em linguagens que fornecem polimorfismo através de ABCs. \n",
    "\n",
    "Uma mixin bem projetada costuma fornecer apenas uma funcionalidade, então herdar de várias mixins dificilmente se torna um problema. Além disso, só faz sentido implementar mixins que representem comportamentos comuns o suficiente para serem reutilizado por várias classes.\n",
    "\n",
    "> Mixins take various forms depending on the language, but at the end of the day they encapsulate behavior that can be reused in other classes.\n",
    "\n",
    "[Fonte](https://easyaspython.com/mixins-for-fun-and-profit-cb9962760556). Tradução livre:\n",
    "\n",
    "> Mixins podem assumir diferentes formas depedendo da linguagem, mas no fim das contas elas encapsulam comportamento que pode ser reusado em outras classes."
   ]
  },
  {
   "cell_type": "markdown",
   "metadata": {},
   "source": [
    "O exemplo a seguir mostra duas mixins que permitem serializar objetos nos formatos JSON e Pickle. Por convenção, acrescentamos o sufixo Mixin ao nome do mixin:"
   ]
  },
  {
   "cell_type": "code",
   "execution_count": 42,
   "metadata": {
    "collapsed": true
   },
   "outputs": [],
   "source": [
    "from collections import UserDict\n",
    "\n",
    "class JSONExporterMixin:\n",
    "    def json(self):\n",
    "        from json import dumps\n",
    "        return dumps(self.data)\n",
    "\n",
    "class PickleExporterMixin:\n",
    "    def pickle(self):\n",
    "        from pickle import dumps\n",
    "        return dumps(self.data)\n",
    "    \n",
    "class SerialDict(JSONExporterMixin, PickleExporterMixin, UserDict):\n",
    "    pass"
   ]
  },
  {
   "cell_type": "code",
   "execution_count": 43,
   "metadata": {
    "collapsed": true
   },
   "outputs": [],
   "source": [
    "teste = SerialDict({\"a\": 345, \"b\": 648})"
   ]
  },
  {
   "cell_type": "code",
   "execution_count": 44,
   "metadata": {
    "collapsed": false
   },
   "outputs": [
    {
     "data": {
      "text/plain": [
       "'{\"a\": 345, \"b\": 648}'"
      ]
     },
     "execution_count": 44,
     "metadata": {},
     "output_type": "execute_result"
    }
   ],
   "source": [
    "teste.json()"
   ]
  },
  {
   "cell_type": "code",
   "execution_count": 45,
   "metadata": {
    "collapsed": false,
    "scrolled": true
   },
   "outputs": [
    {
     "data": {
      "text/plain": [
       "b'\\x80\\x03}q\\x00(X\\x01\\x00\\x00\\x00aq\\x01MY\\x01X\\x01\\x00\\x00\\x00bq\\x02M\\x88\\x02u.'"
      ]
     },
     "execution_count": 45,
     "metadata": {},
     "output_type": "execute_result"
    }
   ],
   "source": [
    "teste.pickle()"
   ]
  },
  {
   "cell_type": "markdown",
   "metadata": {},
   "source": [
    "Usando a mesma lógica, nós podemos fazer mixins que forneçam fábricas para construir dicionários customizados a partir de strings em formato JSON ou Pickle:"
   ]
  },
  {
   "cell_type": "code",
   "execution_count": 46,
   "metadata": {
    "collapsed": true
   },
   "outputs": [],
   "source": [
    "class JSONImporterMixin:\n",
    "    @classmethod\n",
    "    def from_json(cls, json):\n",
    "        from json import loads\n",
    "        return cls(loads(json))\n",
    "\n",
    "class PickleImporterMixin:\n",
    "    @classmethod\n",
    "    def from_pickle(cls, pickle):\n",
    "        from pickle import loads\n",
    "        return cls(loads(pickle))\n",
    "    \n",
    "class SerialDict(JSONImporterMixin, PickleImporterMixin, JSONExporterMixin, PickleExporterMixin, UserDict):\n",
    "    pass"
   ]
  },
  {
   "cell_type": "code",
   "execution_count": 47,
   "metadata": {
    "collapsed": true
   },
   "outputs": [],
   "source": [
    "teste = SerialDict({\"a\": 345, \"b\": 648})"
   ]
  },
  {
   "cell_type": "code",
   "execution_count": 48,
   "metadata": {
    "collapsed": true
   },
   "outputs": [],
   "source": [
    "json = teste.json()"
   ]
  },
  {
   "cell_type": "code",
   "execution_count": 49,
   "metadata": {
    "collapsed": true
   },
   "outputs": [],
   "source": [
    "teste2 = SerialDict.from_json(json)"
   ]
  },
  {
   "cell_type": "code",
   "execution_count": 50,
   "metadata": {
    "collapsed": false
   },
   "outputs": [
    {
     "data": {
      "text/plain": [
       "True"
      ]
     },
     "execution_count": 50,
     "metadata": {},
     "output_type": "execute_result"
    }
   ],
   "source": [
    "teste == teste2"
   ]
  },
  {
   "cell_type": "code",
   "execution_count": 51,
   "metadata": {
    "collapsed": true
   },
   "outputs": [],
   "source": [
    "pickle = teste.pickle()"
   ]
  },
  {
   "cell_type": "code",
   "execution_count": 52,
   "metadata": {
    "collapsed": true
   },
   "outputs": [],
   "source": [
    "teste2 = SerialDict.from_pickle(pickle)"
   ]
  },
  {
   "cell_type": "code",
   "execution_count": 53,
   "metadata": {
    "collapsed": false
   },
   "outputs": [
    {
     "data": {
      "text/plain": [
       "True"
      ]
     },
     "execution_count": 53,
     "metadata": {},
     "output_type": "execute_result"
    }
   ],
   "source": [
    "teste == teste2"
   ]
  }
 ],
 "metadata": {
  "kernelspec": {
   "display_name": "Python 3",
   "language": "python",
   "name": "python3"
  },
  "language_info": {
   "codemirror_mode": {
    "name": "ipython",
    "version": 3
   },
   "file_extension": ".py",
   "mimetype": "text/x-python",
   "name": "python",
   "nbconvert_exporter": "python",
   "pygments_lexer": "ipython3",
   "version": "3.5.2"
  }
 },
 "nbformat": 4,
 "nbformat_minor": 1
}
