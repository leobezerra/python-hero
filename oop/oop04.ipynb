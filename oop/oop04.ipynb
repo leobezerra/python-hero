{
 "cells": [
  {
   "cell_type": "markdown",
   "metadata": {},
   "source": [
    "# Programação orientada a objetos"
   ]
  },
  {
   "cell_type": "markdown",
   "metadata": {},
   "source": [
    "Este notebook é a quarta parte da série sobre Programação orientada a objetos e é baseado nos slides [\"Design patterns in Python\"](http://www.aleax.it/gdd_pydp.pdf), de Alex Martelli."
   ]
  },
  {
   "cell_type": "markdown",
   "metadata": {},
   "source": [
    "## O que vem antes de padrões de projeto"
   ]
  },
  {
   "cell_type": "markdown",
   "metadata": {},
   "source": [
    "Apesar de ter se tornado o paradigma de programação dominante das últimas décadas, algumas das promessas de POO não se traduzem em benefícios práticos:"
   ]
  },
  {
   "cell_type": "markdown",
   "metadata": {},
   "source": [
    "> The problem with object-oriented languages is they’ve got all this implicit environment that they carry around with them. You wanted a banana but what you got was a gorilla holding the banana and the entire jungle.\n",
    "\n",
    "Joe Armstrong, criador de Erlang. Tradução livre:\n",
    "\n",
    "> O problema com linguagens orientadas a objetos é que elas carregam todo esse ambiente implícito com elas. Você queria uma banana mas o que você recebeu foi um gorila segurando uma banana e a selva inteira."
   ]
  },
  {
   "cell_type": "markdown",
   "metadata": {},
   "source": [
    "Neste notebook, vamos começar com uma discussão sobre **composição** como uma alternativa a herança e em seguida vamos discutir como Python lida com polimorfismo de forma mais simples que outras linguagens, fazendo uso de **protocolos**."
   ]
  },
  {
   "cell_type": "markdown",
   "metadata": {},
   "source": [
    "## Herança x composição"
   ]
  },
  {
   "cell_type": "markdown",
   "metadata": {},
   "source": [
    "Uma das discussões mais centrais em relação às vantagens de POO gira em torno de herança. Em sistemas grandes, uma classe facilmente se perde no meio de uma hierarquia significativa, levando ao problema da origem Jedi:\n",
    "\n",
    "> Rey tem poderes Jedi, então algum Jedi deve fazer parte de sua linhagem.\n",
    "\n",
    "Em grandes frameworks, encontrar quem é o ancestral Jedi de Rey é um desafio significativo. Uma das formas de amenizar esse problema é entendendo a diferença de relação entre classes."
   ]
  },
  {
   "cell_type": "markdown",
   "metadata": {},
   "source": [
    "### Relação é-um\n",
    "\n",
    "Uma relação do tipo **é-um** (em inglês, **is-a**) é geralmente representada através de herança. Vamos tomar como exemplo uma classe pra representar uma pessoa."
   ]
  },
  {
   "cell_type": "code",
   "execution_count": 1,
   "metadata": {
    "collapsed": false
   },
   "outputs": [],
   "source": [
    "class Person:\n",
    "    def __init__(self, name):\n",
    "        self.name = name\n",
    "    \n",
    "    def __str__(self):\n",
    "        return \"Name: {}\".format(self.name)\n",
    "    \n",
    "    def hello(self):\n",
    "        print(\"Hi, I'm {}\".format(self.name))"
   ]
  },
  {
   "cell_type": "markdown",
   "metadata": {},
   "source": [
    "Essa classe é bastante geral, o que indica que muitas classes especializadas podem reusar seu código. Vamos ver o caso da classe que representa um contribuinte:"
   ]
  },
  {
   "cell_type": "code",
   "execution_count": 2,
   "metadata": {
    "collapsed": false
   },
   "outputs": [],
   "source": [
    "class TaxPayer(Person):\n",
    "    def __init__(self, name, cpf, income):\n",
    "        super().__init__(name)\n",
    "        self.cpf = cpf\n",
    "        self.income = float(income)\n",
    "        \n",
    "    def __str__(self):\n",
    "        return \"{}, CPF: {}, Renda: {}, Imposto a pagar: {}\".format(super().__str__(), self.cpf, self.income, self.duetax)\n",
    "    \n",
    "    @property\n",
    "    def duetax(self):\n",
    "        return self.income * 0.2"
   ]
  },
  {
   "cell_type": "code",
   "execution_count": 3,
   "metadata": {
    "collapsed": false
   },
   "outputs": [],
   "source": [
    "clovis = TaxPayer(\"Clóvis\", \"000.111.222-33\", 1000)"
   ]
  },
  {
   "cell_type": "code",
   "execution_count": 4,
   "metadata": {
    "collapsed": false
   },
   "outputs": [
    {
     "name": "stdout",
     "output_type": "stream",
     "text": [
      "Name: Clóvis, CPF: 000.111.222-33, Renda: 1000.0, Imposto a pagar: 200.0\n"
     ]
    }
   ],
   "source": [
    "print(clovis)"
   ]
  },
  {
   "cell_type": "markdown",
   "metadata": {},
   "source": [
    "Dependendo da aplicação, pode ser mais útil modelar uma classe contato, para ser usado em agendas:"
   ]
  },
  {
   "cell_type": "code",
   "execution_count": 5,
   "metadata": {
    "collapsed": false
   },
   "outputs": [],
   "source": [
    "class Contact(Person):\n",
    "    def __init__(self, name, mail, phone):\n",
    "        super().__init__(name)\n",
    "        self.mail = mail\n",
    "        self.phone = phone\n",
    "    \n",
    "    def __str__(self):\n",
    "        return \"{}, Mail: {}, Telefone: {}\".format(super().__str__(), self.mail, self.phone)"
   ]
  },
  {
   "cell_type": "code",
   "execution_count": 6,
   "metadata": {
    "collapsed": true
   },
   "outputs": [],
   "source": [
    "nilson = Contact(\"Nilson\", \"ni@ls.on\", \"001122334455\")"
   ]
  },
  {
   "cell_type": "code",
   "execution_count": 7,
   "metadata": {
    "collapsed": false,
    "scrolled": true
   },
   "outputs": [
    {
     "name": "stdout",
     "output_type": "stream",
     "text": [
      "Name: Nilson, Mail: ni@ls.on, Telefone: 001122334455\n"
     ]
    }
   ],
   "source": [
    "print(nilson)"
   ]
  },
  {
   "cell_type": "markdown",
   "metadata": {},
   "source": [
    "### Relação tem-um"
   ]
  },
  {
   "cell_type": "markdown",
   "metadata": {},
   "source": [
    "Uma relação do tipo **tem-um** (em inglês, **has-a**) é geralmente representada através de composição, onde uma classe contém um objeto de outra classe. \n",
    "\n",
    "Vamos revisar o exemplo sob esta perspectiva. Neste caso, em vez de dizer que um contribuinte ou um contato são pessoas, vamos dizer que pessoas têm um registro de contribuinte e um cartão de contatos:"
   ]
  },
  {
   "cell_type": "code",
   "execution_count": 8,
   "metadata": {
    "collapsed": true
   },
   "outputs": [],
   "source": [
    "class TaxRecord:\n",
    "    def __init__(self, cpf, income):\n",
    "        self.cpf = cpf\n",
    "        self.income = float(income)\n",
    "        \n",
    "    def __str__(self):\n",
    "        return \"CPF: {}, Renda: {}, Imposto a pagar: {}\".format(self.cpf, self.income, self.duetax)\n",
    "    \n",
    "    @property\n",
    "    def duetax(self):\n",
    "        return self.income * 0.2"
   ]
  },
  {
   "cell_type": "code",
   "execution_count": 9,
   "metadata": {
    "collapsed": true
   },
   "outputs": [],
   "source": [
    "class ContactCard:\n",
    "    def __init__(self, mail, phone):\n",
    "        self.mail = mail\n",
    "        self.phone = phone\n",
    "    \n",
    "    def __str__(self):\n",
    "        return \"Mail: {}, Telefone: {}\".format(self.mail, self.phone)"
   ]
  },
  {
   "cell_type": "code",
   "execution_count": 10,
   "metadata": {
    "collapsed": true
   },
   "outputs": [],
   "source": [
    "class Person:\n",
    "    def __init__(self, name, tax_record=None, contact_card=None):\n",
    "        self.name = name\n",
    "        self.tax_record = tax_record\n",
    "        self.contact_card = contact_card\n",
    "    \n",
    "    def __str__(self):\n",
    "        base_string = \"Name: {}\".format(self.name)\n",
    "        if self.tax_record:\n",
    "            base_string += \", {}\".format(str(self.tax_record))\n",
    "        if self.contact_card:\n",
    "            base_string += \", {}\".format(str(self.contact_card))\n",
    "        return base_string\n",
    "    \n",
    "    def hello(self):\n",
    "        print(\"Hi, I'm {}\".format(self.name))"
   ]
  },
  {
   "cell_type": "code",
   "execution_count": 11,
   "metadata": {
    "collapsed": true
   },
   "outputs": [],
   "source": [
    "card = ContactCard(\"th@an.os\", \"001122334455\")\n",
    "thanos = Person(\"Thanos\", contact_card= card)"
   ]
  },
  {
   "cell_type": "code",
   "execution_count": 12,
   "metadata": {
    "collapsed": false,
    "scrolled": true
   },
   "outputs": [
    {
     "name": "stdout",
     "output_type": "stream",
     "text": [
      "Name: Thanos, Mail: th@an.os, Telefone: 001122334455\n"
     ]
    }
   ],
   "source": [
    "print(thanos)"
   ]
  },
  {
   "cell_type": "markdown",
   "metadata": {},
   "source": [
    "**O exemplo acima foca apenas na relação entre as classes. Em uma situação real, o uso de composição levaria ao uso de builders para facilitar a construção de um objeto Person.**\n",
    "\n",
    "* A composição feita através de uma abordagem *hold* (segurar), como no exemplo acima, permite que o usuário use os objetos segurados de forma indireta. Dependendo da aplicação, isto pode ser considerado excessivamente verboso:"
   ]
  },
  {
   "cell_type": "code",
   "execution_count": 13,
   "metadata": {
    "collapsed": true
   },
   "outputs": [],
   "source": [
    "thanos.contact_card.mail = \"athan@asi.os\""
   ]
  },
  {
   "cell_type": "code",
   "execution_count": 14,
   "metadata": {
    "collapsed": false
   },
   "outputs": [
    {
     "name": "stdout",
     "output_type": "stream",
     "text": [
      "Name: Thanos, Mail: athan@asi.os, Telefone: 001122334455\n"
     ]
    }
   ],
   "source": [
    "print(thanos)"
   ]
  },
  {
   "cell_type": "markdown",
   "metadata": {},
   "source": [
    "* Uma abordagem alternativa de composição é a *wrap* (embrulhar), onde escondemos os objetos embrulhados, expondo de forma direta o que deve ser acessado:"
   ]
  },
  {
   "cell_type": "code",
   "execution_count": 15,
   "metadata": {
    "collapsed": true
   },
   "outputs": [],
   "source": [
    "class Person:\n",
    "    def __init__(self, name, tax_record=None, contact_card=None):\n",
    "        self.name = name\n",
    "        self.__tax_record = tax_record\n",
    "        self.__contact_card = contact_card\n",
    "    \n",
    "    def __str__(self):\n",
    "        base_string = \"Name: {}\".format(self.name)\n",
    "        if self.__tax_record:\n",
    "            base_string += \", {}\".format(str(self.__tax_record))\n",
    "        if self.__contact_card:\n",
    "            base_string += \", {}\".format(str(self.__contact_card))\n",
    "        return base_string\n",
    "    \n",
    "    def hello(self):\n",
    "        print(\"Hi, I'm {}\".format(self.name))\n",
    "    \n",
    "    @property\n",
    "    def mail(self):\n",
    "        return self.__contact_card.mail\n",
    "    \n",
    "    @mail.setter\n",
    "    def mail(self, mail):\n",
    "        self.__contact_card.mail = mail"
   ]
  },
  {
   "cell_type": "code",
   "execution_count": 16,
   "metadata": {
    "collapsed": true
   },
   "outputs": [],
   "source": [
    "thanos = Person(\"Thanos\", contact_card=card)"
   ]
  },
  {
   "cell_type": "code",
   "execution_count": 17,
   "metadata": {
    "collapsed": false,
    "scrolled": true
   },
   "outputs": [
    {
     "name": "stdout",
     "output_type": "stream",
     "text": [
      "Name: Thanos, Mail: athan@asi.os, Telefone: 001122334455\n"
     ]
    }
   ],
   "source": [
    "print(thanos)"
   ]
  },
  {
   "cell_type": "code",
   "execution_count": 18,
   "metadata": {
    "collapsed": false,
    "scrolled": true
   },
   "outputs": [
    {
     "ename": "AttributeError",
     "evalue": "'Person' object has no attribute 'contact_card'",
     "output_type": "error",
     "traceback": [
      "\u001b[0;31m---------------------------------------------------------------------------\u001b[0m",
      "\u001b[0;31mAttributeError\u001b[0m                            Traceback (most recent call last)",
      "\u001b[0;32m<ipython-input-18-5c5a8124e238>\u001b[0m in \u001b[0;36m<module>\u001b[0;34m()\u001b[0m\n\u001b[0;32m----> 1\u001b[0;31m \u001b[0mthanos\u001b[0m\u001b[0;34m.\u001b[0m\u001b[0mcontact_card\u001b[0m\u001b[0;34m.\u001b[0m\u001b[0mmail\u001b[0m \u001b[0;34m=\u001b[0m \u001b[0;34m\"tsou@an.as\"\u001b[0m\u001b[0;34m\u001b[0m\u001b[0m\n\u001b[0m",
      "\u001b[0;31mAttributeError\u001b[0m: 'Person' object has no attribute 'contact_card'"
     ]
    }
   ],
   "source": [
    "thanos.contact_card.mail = \"tsou@an.as\""
   ]
  },
  {
   "cell_type": "code",
   "execution_count": 19,
   "metadata": {
    "collapsed": false
   },
   "outputs": [],
   "source": [
    "thanos.mail = \"tsou@an.as\""
   ]
  },
  {
   "cell_type": "code",
   "execution_count": 20,
   "metadata": {
    "collapsed": false,
    "scrolled": true
   },
   "outputs": [
    {
     "name": "stdout",
     "output_type": "stream",
     "text": [
      "Name: Thanos, Mail: tsou@an.as, Telefone: 001122334455\n"
     ]
    }
   ],
   "source": [
    "print(thanos)"
   ]
  },
  {
   "cell_type": "markdown",
   "metadata": {},
   "source": [
    "## Interfaces versus protocolos"
   ]
  },
  {
   "cell_type": "markdown",
   "metadata": {},
   "source": [
    "No notebook anterior, vimos diferentes exemplos de classes abstratas e citamos as diferenças entre interfaces, mixins e ABCs.\n",
    "\n",
    "Esses conceitos são muito usados em linguagens como C++ e Java, que lidam com todos através de diferentes formas de herança múltipla.\n",
    "\n",
    "Linguagens como Python e Ruby trabalham com polimorfismo de maneira mais informal -- através de **protocolos**."
   ]
  },
  {
   "cell_type": "markdown",
   "metadata": {},
   "source": [
    "> In other words, don’t check whether it IS-a duck: check whether it QUACKS-like-a duck, WALKS-like-a duck, etc, etc, depending on exactly what subset of duck-like behaviour you need to play your language-games with.\n",
    "\n",
    "Fonte: Alex Martelli em uma [discussão em um grupo da Google](https://groups.google.com/forum/?hl=en#!msg/comp.lang.python/CCs2oJdyuzc/NYjla5HKMOIJ). Tradução livre:\n",
    "\n",
    "> Em outras palavras, não cheque se É um pato: cheque se faz QUACK como um pato, ANDA como um pato, etc, etc, dependendo de com qual subconjunto de comportamentos típicos de patos você quer jogar seus jogos linguísticos. "
   ]
  },
  {
   "cell_type": "markdown",
   "metadata": {},
   "source": [
    "O **duck typing** (tipagem pato) descrito por Alex é a base do polimorfismo em Python. \n",
    "\n",
    "Existem diferentes formas de trabalharmos com duck typing, então vamos começar revendo os exemplos que usamos no roteiro anterior.\n",
    "\n",
    "Inicialmente, queremos que nossa classe que representa uma equipe possa informar seu tamanho:"
   ]
  },
  {
   "cell_type": "code",
   "execution_count": 21,
   "metadata": {
    "collapsed": true
   },
   "outputs": [],
   "source": [
    "class Team:\n",
    "    def __init__(self, args=[]):\n",
    "        self.players = list(args)\n",
    "    \n",
    "    def __len__(self):\n",
    "        return len(self.players)"
   ]
  },
  {
   "cell_type": "markdown",
   "metadata": {},
   "source": [
    "No exemplo original, dissemos que a classe `Team` herdava da interface `Sized`, que prescrevia o método mágico `__len__`. \n",
    "\n",
    "Neste exemplo, apenas implementamos o método mágico diretamente e vemos que o interpretador Python é inteligente o suficiente para entender que um objeto da classe Team é compatível com `Sized`:"
   ]
  },
  {
   "cell_type": "code",
   "execution_count": 22,
   "metadata": {
    "collapsed": true
   },
   "outputs": [],
   "source": [
    "equipe1 = Team([\"Python\", \"Ruby\"])"
   ]
  },
  {
   "cell_type": "code",
   "execution_count": 23,
   "metadata": {
    "collapsed": false
   },
   "outputs": [
    {
     "data": {
      "text/plain": [
       "True"
      ]
     },
     "execution_count": 23,
     "metadata": {},
     "output_type": "execute_result"
    }
   ],
   "source": [
    "from collections.abc import Sized\n",
    "isinstance(equipe1, Sized)"
   ]
  },
  {
   "cell_type": "markdown",
   "metadata": {},
   "source": [
    "A mesma situação se repete com as interfaces `Container` e `Iterable`:"
   ]
  },
  {
   "cell_type": "code",
   "execution_count": 24,
   "metadata": {
    "collapsed": true
   },
   "outputs": [],
   "source": [
    "class Team:\n",
    "    def __init__(self, args=[]):\n",
    "        self.players = list(args)\n",
    "    \n",
    "    def __len__(self):\n",
    "        return len(self.players)\n",
    "    \n",
    "    def __contains__(self, value):\n",
    "        return value in self.players"
   ]
  },
  {
   "cell_type": "code",
   "execution_count": 25,
   "metadata": {
    "collapsed": true
   },
   "outputs": [],
   "source": [
    "equipe1 = Team([\"Python\", \"Ruby\"])"
   ]
  },
  {
   "cell_type": "code",
   "execution_count": 26,
   "metadata": {
    "collapsed": false,
    "scrolled": true
   },
   "outputs": [
    {
     "data": {
      "text/plain": [
       "True"
      ]
     },
     "execution_count": 26,
     "metadata": {},
     "output_type": "execute_result"
    }
   ],
   "source": [
    "from collections.abc import Container\n",
    "isinstance(equipe1, Container)"
   ]
  },
  {
   "cell_type": "code",
   "execution_count": 27,
   "metadata": {
    "collapsed": true
   },
   "outputs": [],
   "source": [
    "class Team:\n",
    "    def __init__(self, args=[]):\n",
    "        self.players = list(args)\n",
    "    \n",
    "    def __len__(self):\n",
    "        return len(self.players)\n",
    "    \n",
    "    def __contains__(self, value):\n",
    "        return value in self.players\n",
    "    \n",
    "    def __iter__(self):\n",
    "        return iter(self.players)"
   ]
  },
  {
   "cell_type": "code",
   "execution_count": 28,
   "metadata": {
    "collapsed": true
   },
   "outputs": [],
   "source": [
    "equipe1 = Team([\"Python\", \"Ruby\"])"
   ]
  },
  {
   "cell_type": "code",
   "execution_count": 29,
   "metadata": {
    "collapsed": false
   },
   "outputs": [
    {
     "data": {
      "text/plain": [
       "True"
      ]
     },
     "execution_count": 29,
     "metadata": {},
     "output_type": "execute_result"
    }
   ],
   "source": [
    "from collections.abc import Iterable\n",
    "isinstance(equipe1, Iterable)"
   ]
  },
  {
   "cell_type": "markdown",
   "metadata": {},
   "source": [
    "O conceito de protocolo é tão importante no Python que o interpretador também identifica que nossa classe implementa a interface `Collection`, que prescreve os métodos `__len__`, `__contains__` e `__iter__`:\n",
    "\n",
    "**O código abaixo só funciona no Python > 3.5, já que a interface `Collection` foi adicionada no Python 3.6 ;)**"
   ]
  },
  {
   "cell_type": "code",
   "execution_count": 30,
   "metadata": {
    "collapsed": false
   },
   "outputs": [
    {
     "ename": "ImportError",
     "evalue": "cannot import name 'Collection'",
     "output_type": "error",
     "traceback": [
      "\u001b[0;31m---------------------------------------------------------------------------\u001b[0m",
      "\u001b[0;31mImportError\u001b[0m                               Traceback (most recent call last)",
      "\u001b[0;32m<ipython-input-30-df2c21718f5d>\u001b[0m in \u001b[0;36m<module>\u001b[0;34m()\u001b[0m\n\u001b[0;32m----> 1\u001b[0;31m \u001b[0;32mfrom\u001b[0m \u001b[0mcollections\u001b[0m\u001b[0;34m.\u001b[0m\u001b[0mabc\u001b[0m \u001b[0;32mimport\u001b[0m \u001b[0mCollection\u001b[0m\u001b[0;34m\u001b[0m\u001b[0m\n\u001b[0m\u001b[1;32m      2\u001b[0m \u001b[0misinstance\u001b[0m\u001b[0;34m(\u001b[0m\u001b[0mequipe1\u001b[0m\u001b[0;34m,\u001b[0m \u001b[0mCollection\u001b[0m\u001b[0;34m)\u001b[0m\u001b[0;34m\u001b[0m\u001b[0m\n",
      "\u001b[0;31mImportError\u001b[0m: cannot import name 'Collection'"
     ]
    }
   ],
   "source": [
    "from collections.abc import Collection\n",
    "isinstance(equipe1, Collection)"
   ]
  },
  {
   "cell_type": "markdown",
   "metadata": {},
   "source": [
    "### Nem tudo é perfeito"
   ]
  },
  {
   "cell_type": "markdown",
   "metadata": {},
   "source": [
    "Vamos expandir nosso exemplo para o contexto da ABC `Sequence`, que requer a implementação dos métodos mágicos `__getitem__` e `__len__` fornecia os métodos mágicos `__contains__`, `__iter__` e `__reversed__`."
   ]
  },
  {
   "cell_type": "code",
   "execution_count": 31,
   "metadata": {
    "collapsed": true
   },
   "outputs": [],
   "source": [
    "class Team:\n",
    "    def __init__(self, args=[]):\n",
    "        self.players = list(args)\n",
    "    \n",
    "    def __len__(self):\n",
    "        return len(self.players)\n",
    "    \n",
    "    def __getitem__(self, index):\n",
    "        return self.players[index]"
   ]
  },
  {
   "cell_type": "code",
   "execution_count": 32,
   "metadata": {
    "collapsed": true
   },
   "outputs": [],
   "source": [
    "equipe1 = Team([\"Python\", \"Ruby\"])"
   ]
  },
  {
   "cell_type": "code",
   "execution_count": 33,
   "metadata": {
    "collapsed": false
   },
   "outputs": [
    {
     "data": {
      "text/plain": [
       "True"
      ]
     },
     "execution_count": 33,
     "metadata": {},
     "output_type": "execute_result"
    }
   ],
   "source": [
    "\"Python\" in equipe1"
   ]
  },
  {
   "cell_type": "code",
   "execution_count": 34,
   "metadata": {
    "collapsed": false
   },
   "outputs": [
    {
     "name": "stdout",
     "output_type": "stream",
     "text": [
      "Python\n",
      "Ruby\n"
     ]
    }
   ],
   "source": [
    "for lang in equipe1:\n",
    "    print(lang)"
   ]
  },
  {
   "cell_type": "code",
   "execution_count": 35,
   "metadata": {
    "collapsed": false
   },
   "outputs": [
    {
     "data": {
      "text/plain": [
       "2"
      ]
     },
     "execution_count": 35,
     "metadata": {},
     "output_type": "execute_result"
    }
   ],
   "source": [
    "len(equipe1)"
   ]
  },
  {
   "cell_type": "code",
   "execution_count": 36,
   "metadata": {
    "collapsed": false
   },
   "outputs": [
    {
     "data": {
      "text/plain": [
       "['Ruby', 'Python']"
      ]
     },
     "execution_count": 36,
     "metadata": {},
     "output_type": "execute_result"
    }
   ],
   "source": [
    "list(reversed(equipe1))"
   ]
  },
  {
   "cell_type": "markdown",
   "metadata": {},
   "source": [
    "E o que não é perfeito nisso? Bom, veja os resultados das expressões abaixo:"
   ]
  },
  {
   "cell_type": "code",
   "execution_count": 37,
   "metadata": {
    "collapsed": false,
    "scrolled": true
   },
   "outputs": [
    {
     "name": "stdout",
     "output_type": "stream",
     "text": [
      "False\n",
      "False\n",
      "False\n"
     ]
    }
   ],
   "source": [
    "from collections.abc import Sequence\n",
    "print(isinstance(equipe1, Sequence))\n",
    "print(isinstance(equipe1, Container))\n",
    "print(isinstance(equipe1, Iterable))"
   ]
  },
  {
   "cell_type": "markdown",
   "metadata": {},
   "source": [
    "Como a classe `Team` não implementa diretamente os métodos mágicos `__contains__` e `__iter__`, o interpretador não consegue identificar que ela implementa as interfaces `Container` e `Iterable`.\n",
    "\n",
    "Pior ainda, mesmo implementando os métodos mágicos `__len__` e `__getitem__`, o interpretador não identifica que a classe `Team` implementa a ABC `Sequence`.\n",
    "\n",
    "**Ainda estou tentando identificar o motivo da não identificação de `Sequence`. Minha hipótese é que apenas interfaces podem ser identificadas automaticamente -- `Sequence` é uma ABC mas não é uma interface.**"
   ]
  },
  {
   "cell_type": "markdown",
   "metadata": {},
   "source": [
    "### Lidando bem com protocolos e polimorfismo"
   ]
  },
  {
   "cell_type": "markdown",
   "metadata": {},
   "source": [
    "O exemplo acima serve como uma boa introdução pra discussão sobre como lidar com polimorfismo em uma linguagem com tipagem dinâmica.\n",
    "\n",
    "Vamos primeiro listar algumas sugestões que podem ser encontradas na internet:\n",
    "1. Testar se o tipo do argumento de entrada é o que você espera.\n",
    "2. Testar se o tipo do argumento pertence a uma determinada família.\n",
    "3. Tentar usar o argumento diretamente.\n",
    "\n",
    "Vamos discutir cada um dos pontos, mas antes responda pra você mesmo qual das opções acima você acha mais intuitiva."
   ]
  },
  {
   "cell_type": "markdown",
   "metadata": {},
   "source": [
    "#### O tipo que você espera"
   ]
  },
  {
   "cell_type": "markdown",
   "metadata": {},
   "source": [
    "O exemplo abaixo mostra a situação #1, onde testamos se o tipo do argumento de entrada é o que esperamos:"
   ]
  },
  {
   "cell_type": "code",
   "execution_count": 38,
   "metadata": {
    "collapsed": false
   },
   "outputs": [],
   "source": [
    "def custom_range(start, end, step):\n",
    "    if type(start) == int and type(end) == int and type(step) == int:\n",
    "        from math import ceil\n",
    "        for i in range(ceil((end - start) / step)):\n",
    "            yield start + step * i"
   ]
  },
  {
   "cell_type": "code",
   "execution_count": 39,
   "metadata": {
    "collapsed": false
   },
   "outputs": [
    {
     "data": {
      "text/plain": [
       "[]"
      ]
     },
     "execution_count": 39,
     "metadata": {},
     "output_type": "execute_result"
    }
   ],
   "source": [
    "list(custom_range(0.5, 3, 0.3))"
   ]
  },
  {
   "cell_type": "code",
   "execution_count": 40,
   "metadata": {
    "collapsed": false
   },
   "outputs": [
    {
     "data": {
      "text/plain": [
       "[0, 1, 2]"
      ]
     },
     "execution_count": 40,
     "metadata": {},
     "output_type": "execute_result"
    }
   ],
   "source": [
    "list(custom_range(0, 3, 1))"
   ]
  },
  {
   "cell_type": "markdown",
   "metadata": {},
   "source": [
    "No entanto, quebramos o polimorfismo natural da linguagem! Em alguns casos, isto pode ser necessário, mas nessa situação nosso procedimento gerador poderia aceitar números reais tranquilamente:"
   ]
  },
  {
   "cell_type": "code",
   "execution_count": 41,
   "metadata": {
    "collapsed": true
   },
   "outputs": [],
   "source": [
    "def custom_range(start, end, step):\n",
    "    from math import ceil\n",
    "    for i in range(ceil((end - start) / step)):\n",
    "        yield start + step * i"
   ]
  },
  {
   "cell_type": "code",
   "execution_count": 42,
   "metadata": {
    "collapsed": false
   },
   "outputs": [
    {
     "data": {
      "text/plain": [
       "[0.5, 0.8, 1.1, 1.4, 1.7, 2.0, 2.3, 2.6, 2.9]"
      ]
     },
     "execution_count": 42,
     "metadata": {},
     "output_type": "execute_result"
    }
   ],
   "source": [
    "list(custom_range(0.5, 3, 0.3))"
   ]
  },
  {
   "cell_type": "markdown",
   "metadata": {},
   "source": [
    "#### Uma família de tipos"
   ]
  },
  {
   "cell_type": "markdown",
   "metadata": {},
   "source": [
    "É lógico que um exemplo tão simples seria facilmente resolvido acrescentando o tipo `float` aos testes, mas este exemplo é apenas didático 👍🏻\n",
    "\n",
    "Uma alternativa ao teste direto de tipos é o teste por famílias de tipos. Esse tipo de teste é facilitado pelo polimorfismo por subtipo, que permite que um objeto de uma classe derivada seja tratado como um objeto de sua classe base:"
   ]
  },
  {
   "cell_type": "code",
   "execution_count": 43,
   "metadata": {
    "collapsed": true
   },
   "outputs": [],
   "source": [
    "class Person:\n",
    "    def __init__(self, name):\n",
    "        self.name = name\n",
    "    \n",
    "    def __str__(self):\n",
    "        return \"Name: {}\".format(self.name)\n",
    "    \n",
    "    def hello(self):\n",
    "        print(\"Hi, I'm {}\".format(self.name))\n",
    "        \n",
    "class TaxPayer(Person):\n",
    "    def __init__(self, name, cpf, income):\n",
    "        super().__init__(name)\n",
    "        self.cpf = cpf\n",
    "        self.income = float(income)\n",
    "        \n",
    "    def __str__(self):\n",
    "        return \"{}, CPF: {}, Renda: {}, Imposto a pagar: {}\".format(super().__str__(), self.cpf, self.income, self.duetax)\n",
    "    \n",
    "    @property\n",
    "    def duetax(self):\n",
    "        return self.income * 0.2\n",
    "\n",
    "class Contact(Person):\n",
    "    def __init__(self, name, mail, phone):\n",
    "        super().__init__(name)\n",
    "        self.mail = mail\n",
    "        self.phone = phone\n",
    "    \n",
    "    def __str__(self):\n",
    "        return \"{}, Mail: {}, Telefone: {}\".format(super().__str__(), self.mail, self.phone)"
   ]
  },
  {
   "cell_type": "code",
   "execution_count": 44,
   "metadata": {
    "collapsed": true
   },
   "outputs": [],
   "source": [
    "marcelina = Contact(\"Marcelina\", \"marce@li.na\", \"001122334455\")"
   ]
  },
  {
   "cell_type": "code",
   "execution_count": 45,
   "metadata": {
    "collapsed": false
   },
   "outputs": [
    {
     "name": "stdout",
     "output_type": "stream",
     "text": [
      "True\n",
      "False\n",
      "True\n"
     ]
    }
   ],
   "source": [
    "print(isinstance(marcelina, Contact))\n",
    "print(isinstance(marcelina, TaxPayer))\n",
    "print(isinstance(marcelina, Person))"
   ]
  },
  {
   "cell_type": "markdown",
   "metadata": {},
   "source": [
    "Como era de se esperar, um objeto da classe Contact não é considerado pelo interpretador como relacionado a um objeto da classe TayPayer.\n",
    "\n",
    "Vamos ver um exemplo de procedimento que só se aplica a pessoas:"
   ]
  },
  {
   "cell_type": "code",
   "execution_count": 46,
   "metadata": {
    "collapsed": false
   },
   "outputs": [],
   "source": [
    "def human_rights(obj):\n",
    "    if isinstance(obj, Person):\n",
    "        return True\n",
    "    return False"
   ]
  },
  {
   "cell_type": "code",
   "execution_count": 47,
   "metadata": {
    "collapsed": false
   },
   "outputs": [
    {
     "data": {
      "text/plain": [
       "True"
      ]
     },
     "execution_count": 47,
     "metadata": {},
     "output_type": "execute_result"
    }
   ],
   "source": [
    "human_rights(Person(\"Leonardo\"))"
   ]
  },
  {
   "cell_type": "code",
   "execution_count": 48,
   "metadata": {
    "collapsed": false
   },
   "outputs": [
    {
     "data": {
      "text/plain": [
       "True"
      ]
     },
     "execution_count": 48,
     "metadata": {},
     "output_type": "execute_result"
    }
   ],
   "source": [
    "human_rights(marcelina)"
   ]
  },
  {
   "cell_type": "code",
   "execution_count": 49,
   "metadata": {
    "collapsed": true
   },
   "outputs": [],
   "source": [
    "juliano = TaxPayer(\"Juliano\", \"000.111.222-33\", 1500)"
   ]
  },
  {
   "cell_type": "code",
   "execution_count": 50,
   "metadata": {
    "collapsed": false
   },
   "outputs": [
    {
     "data": {
      "text/plain": [
       "True"
      ]
     },
     "execution_count": 50,
     "metadata": {},
     "output_type": "execute_result"
    }
   ],
   "source": [
    "human_rights(juliano)"
   ]
  },
  {
   "cell_type": "code",
   "execution_count": 51,
   "metadata": {
    "collapsed": false
   },
   "outputs": [
    {
     "data": {
      "text/plain": [
       "False"
      ]
     },
     "execution_count": 51,
     "metadata": {},
     "output_type": "execute_result"
    }
   ],
   "source": [
    "human_rights(3)"
   ]
  },
  {
   "cell_type": "markdown",
   "metadata": {},
   "source": [
    "#### A torre numérica do Python"
   ]
  },
  {
   "cell_type": "markdown",
   "metadata": {},
   "source": [
    "A forma mais extensível de testar se um tipo pertence a determinada família é testando em relação a interfaces (ou ABCs).\n",
    "\n",
    "O módulo `numbers`, por exemplo, define uma torre numérica para ajudar a identificar se um objeto é um número e quais características ele apresenta:"
   ]
  },
  {
   "cell_type": "code",
   "execution_count": 52,
   "metadata": {
    "collapsed": true
   },
   "outputs": [],
   "source": [
    "from numbers import Real\n",
    "def custom_range(start, end, step):\n",
    "    if all([isinstance(arg, Real) for arg in (start, end, step)]):\n",
    "        from math import ceil\n",
    "        for i in range(ceil((end - start) / step)):\n",
    "            yield start + step * i"
   ]
  },
  {
   "cell_type": "code",
   "execution_count": 53,
   "metadata": {
    "collapsed": false
   },
   "outputs": [
    {
     "data": {
      "text/plain": [
       "[0.5, 0.8, 1.1, 1.4, 1.7, 2.0, 2.3, 2.6, 2.9]"
      ]
     },
     "execution_count": 53,
     "metadata": {},
     "output_type": "execute_result"
    }
   ],
   "source": [
    "list(custom_range(0.5, 3, 0.3))"
   ]
  },
  {
   "cell_type": "code",
   "execution_count": 54,
   "metadata": {
    "collapsed": false
   },
   "outputs": [
    {
     "data": {
      "text/plain": [
       "[0, 1, 2]"
      ]
     },
     "execution_count": 54,
     "metadata": {},
     "output_type": "execute_result"
    }
   ],
   "source": [
    "list(custom_range(0, 3, 1))"
   ]
  },
  {
   "cell_type": "markdown",
   "metadata": {},
   "source": [
    "No entanto, nem sempre temos à disposição a capacidade de testar nossos objetos contra interfaces e ABCs, como já vimos no caso da classe `Team`:"
   ]
  },
  {
   "cell_type": "code",
   "execution_count": 55,
   "metadata": {
    "collapsed": false
   },
   "outputs": [
    {
     "name": "stdout",
     "output_type": "stream",
     "text": [
      "False\n",
      "False\n",
      "False\n"
     ]
    }
   ],
   "source": [
    "print(isinstance(equipe1, Sequence))\n",
    "print(isinstance(equipe1, Container))\n",
    "print(isinstance(equipe1, Iterable))"
   ]
  },
  {
   "cell_type": "markdown",
   "metadata": {},
   "source": [
    "De fato, a própria documentação da interface `Iterable` diz que a única forma confiável de testar se um objeto é iterável é tentando iterar sobre ele (o que nos leva à terceira e última estratégia que vamos discutir aqui)."
   ]
  },
  {
   "cell_type": "markdown",
   "metadata": {},
   "source": [
    "#### Tentando usar o argumento diretamente"
   ]
  },
  {
   "cell_type": "markdown",
   "metadata": {},
   "source": [
    "Se tentarmos usar instanciar um `range` passando argumentos que não sejam inteiros, recebemos uma mensagem de erro:"
   ]
  },
  {
   "cell_type": "code",
   "execution_count": 56,
   "metadata": {
    "collapsed": false
   },
   "outputs": [
    {
     "ename": "TypeError",
     "evalue": "'float' object cannot be interpreted as an integer",
     "output_type": "error",
     "traceback": [
      "\u001b[0;31m---------------------------------------------------------------------------\u001b[0m",
      "\u001b[0;31mTypeError\u001b[0m                                 Traceback (most recent call last)",
      "\u001b[0;32m<ipython-input-56-8bb1407fb778>\u001b[0m in \u001b[0;36m<module>\u001b[0;34m()\u001b[0m\n\u001b[0;32m----> 1\u001b[0;31m \u001b[0mrange\u001b[0m\u001b[0;34m(\u001b[0m\u001b[0;36m0.5\u001b[0m\u001b[0;34m,\u001b[0m \u001b[0;36m3\u001b[0m\u001b[0;34m,\u001b[0m \u001b[0;36m0.3\u001b[0m\u001b[0;34m)\u001b[0m\u001b[0;34m\u001b[0m\u001b[0m\n\u001b[0m",
      "\u001b[0;31mTypeError\u001b[0m: 'float' object cannot be interpreted as an integer"
     ]
    }
   ],
   "source": [
    "range(0.5, 3, 0.3)"
   ]
  },
  {
   "cell_type": "markdown",
   "metadata": {},
   "source": [
    "Isto acontece porque a implementação padrão do Python trata os argumentos de entrada como inteiros, o que leva a exceções quando isso não é verdade.\n",
    "\n",
    "> It's easier to ask forgiveness than it is to get permission.\n",
    "\n",
    "Grace Hopper. Tradução livre:\n",
    "\n",
    "> É mais fácil pedir perdão do que conseguir permissão.\n",
    "\n",
    "Essa é uma abordagem comum na comunidade Python, tanto que possui um apelido: EAFP (*Easier to Ask Forgiveness than Permission*).\n",
    "\n",
    "É assim que podemos dizer que nosso procedimento `custom_range` definido sem o auxílio da torre numérica recebe como parâmetro objetos com características de ponto flutuante (*float-like objects*).\n",
    "\n",
    "Quando não lidamos com operações que só funcionam com tipos específicos (como no caso de `range`), uma alternativa é tentar converter o argumento de entrada em um argumento que apresente a característica requerida pelo seu código.\n",
    "\n",
    "No caso da interface `Iterable`, por exemplo, podemos tentar convertê-la para uma `list`, que consome de objetos iteráveis e preserva a ordem do conteúdo:\n",
    "* se a conversão der certo, nosso código funcionará.\n",
    "* se a conversão der errado, o usuário é informado logo no início da execução do nosso código.\n",
    "\n",
    "Note que já fazemos isso no construtor da nossa classe `Team`, podemos criar uma nova equipe a partir de outra já existente:"
   ]
  },
  {
   "cell_type": "code",
   "execution_count": 57,
   "metadata": {
    "collapsed": false
   },
   "outputs": [],
   "source": [
    "equipe2 = Team(equipe1)"
   ]
  },
  {
   "cell_type": "code",
   "execution_count": 58,
   "metadata": {
    "collapsed": false
   },
   "outputs": [
    {
     "name": "stdout",
     "output_type": "stream",
     "text": [
      "Python\n",
      "Ruby\n"
     ]
    }
   ],
   "source": [
    "for jogador in equipe2:\n",
    "    print(jogador)"
   ]
  },
  {
   "cell_type": "markdown",
   "metadata": {},
   "source": [
    "Já se passamos um tipo não iterável, uma excessão será lançada logo de cara:"
   ]
  },
  {
   "cell_type": "code",
   "execution_count": 59,
   "metadata": {
    "collapsed": false
   },
   "outputs": [
    {
     "ename": "TypeError",
     "evalue": "'int' object is not iterable",
     "output_type": "error",
     "traceback": [
      "\u001b[0;31m---------------------------------------------------------------------------\u001b[0m",
      "\u001b[0;31mTypeError\u001b[0m                                 Traceback (most recent call last)",
      "\u001b[0;32m<ipython-input-59-8e144df82f55>\u001b[0m in \u001b[0;36m<module>\u001b[0;34m()\u001b[0m\n\u001b[0;32m----> 1\u001b[0;31m \u001b[0mequipe3\u001b[0m \u001b[0;34m=\u001b[0m \u001b[0mTeam\u001b[0m\u001b[0;34m(\u001b[0m\u001b[0;36m15\u001b[0m\u001b[0;34m)\u001b[0m\u001b[0;34m\u001b[0m\u001b[0m\n\u001b[0m",
      "\u001b[0;32m<ipython-input-31-5fc585de7c1a>\u001b[0m in \u001b[0;36m__init__\u001b[0;34m(self, args)\u001b[0m\n\u001b[1;32m      1\u001b[0m \u001b[0;32mclass\u001b[0m \u001b[0mTeam\u001b[0m\u001b[0;34m:\u001b[0m\u001b[0;34m\u001b[0m\u001b[0m\n\u001b[1;32m      2\u001b[0m     \u001b[0;32mdef\u001b[0m \u001b[0m__init__\u001b[0m\u001b[0;34m(\u001b[0m\u001b[0mself\u001b[0m\u001b[0;34m,\u001b[0m \u001b[0margs\u001b[0m\u001b[0;34m=\u001b[0m\u001b[0;34m[\u001b[0m\u001b[0;34m]\u001b[0m\u001b[0;34m)\u001b[0m\u001b[0;34m:\u001b[0m\u001b[0;34m\u001b[0m\u001b[0m\n\u001b[0;32m----> 3\u001b[0;31m         \u001b[0mself\u001b[0m\u001b[0;34m.\u001b[0m\u001b[0mplayers\u001b[0m \u001b[0;34m=\u001b[0m \u001b[0mlist\u001b[0m\u001b[0;34m(\u001b[0m\u001b[0margs\u001b[0m\u001b[0;34m)\u001b[0m\u001b[0;34m\u001b[0m\u001b[0m\n\u001b[0m\u001b[1;32m      4\u001b[0m \u001b[0;34m\u001b[0m\u001b[0m\n\u001b[1;32m      5\u001b[0m     \u001b[0;32mdef\u001b[0m \u001b[0m__len__\u001b[0m\u001b[0;34m(\u001b[0m\u001b[0mself\u001b[0m\u001b[0;34m)\u001b[0m\u001b[0;34m:\u001b[0m\u001b[0;34m\u001b[0m\u001b[0m\n",
      "\u001b[0;31mTypeError\u001b[0m: 'int' object is not iterable"
     ]
    }
   ],
   "source": [
    "equipe3 = Team(15)"
   ]
  }
 ],
 "metadata": {
  "kernelspec": {
   "display_name": "Python 3",
   "language": "python",
   "name": "python3"
  },
  "language_info": {
   "codemirror_mode": {
    "name": "ipython",
    "version": 3
   },
   "file_extension": ".py",
   "mimetype": "text/x-python",
   "name": "python",
   "nbconvert_exporter": "python",
   "pygments_lexer": "ipython3",
   "version": "3.5.2"
  }
 },
 "nbformat": 4,
 "nbformat_minor": 1
}
