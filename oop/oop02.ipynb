{
 "cells": [
  {
   "cell_type": "markdown",
   "metadata": {},
   "source": [
    "# Programação orientada a objetos"
   ]
  },
  {
   "cell_type": "markdown",
   "metadata": {},
   "source": [
    "Este notebook é a segunda parte de uma adaptação do tutorial [\"Python 3 Tutorial\"](https://www.python-course.eu/python3_object_oriented_programming.php), do site [python-course.eu](https://www.python-course.eu)."
   ]
  },
  {
   "cell_type": "markdown",
   "metadata": {},
   "source": [
    "## Escopo de instância versus escopo de classe"
   ]
  },
  {
   "cell_type": "markdown",
   "metadata": {},
   "source": [
    "Quando instanciamos um objeto de uma classe, o interpretador Python considera que cada instância tem seu próprio escopo. Todos os atributos definidos a nível de instância (usando `self`) são específicos daquela instância."
   ]
  },
  {
   "cell_type": "code",
   "execution_count": 1,
   "metadata": {
    "collapsed": true
   },
   "outputs": [],
   "source": [
    "class Person:\n",
    "    def __init__(self, name):\n",
    "        self.name = name\n",
    "    \n",
    "    def __str__(self):\n",
    "        return self.name"
   ]
  },
  {
   "cell_type": "code",
   "execution_count": 2,
   "metadata": {
    "collapsed": false
   },
   "outputs": [
    {
     "name": "stdout",
     "output_type": "stream",
     "text": [
      "João\n",
      "Maria\n"
     ]
    }
   ],
   "source": [
    "joao = Person(\"João\")\n",
    "print(joao)\n",
    "maria = Person(\"Maria\")\n",
    "print(maria)"
   ]
  },
  {
   "cell_type": "markdown",
   "metadata": {},
   "source": [
    "Quando instanciados, todos os objetos de uma mesma classe possuem os mesmos atributos. No entanto, o aspecto dinâmico de Python permite acrescentar e/ou remover atributos de uma instância específica:"
   ]
  },
  {
   "cell_type": "code",
   "execution_count": 3,
   "metadata": {
    "collapsed": false
   },
   "outputs": [
    {
     "name": "stdout",
     "output_type": "stream",
     "text": [
      "Gomes\n"
     ]
    }
   ],
   "source": [
    "joao.surname = \"Gomes\"\n",
    "print(joao.surname)"
   ]
  },
  {
   "cell_type": "markdown",
   "metadata": {},
   "source": [
    "Note que a classe `Person` não sabe como se beneficiar da existência desse novo atributo:"
   ]
  },
  {
   "cell_type": "code",
   "execution_count": 4,
   "metadata": {
    "collapsed": false,
    "scrolled": true
   },
   "outputs": [
    {
     "name": "stdout",
     "output_type": "stream",
     "text": [
      "João\n"
     ]
    }
   ],
   "source": [
    "print(joao)"
   ]
  },
  {
   "cell_type": "code",
   "execution_count": 5,
   "metadata": {
    "collapsed": false
   },
   "outputs": [
    {
     "ename": "AttributeError",
     "evalue": "'Person' object has no attribute 'name'",
     "output_type": "error",
     "traceback": [
      "\u001b[0;31m---------------------------------------------------------------------------\u001b[0m",
      "\u001b[0;31mAttributeError\u001b[0m                            Traceback (most recent call last)",
      "\u001b[0;32m<ipython-input-5-a694f3475f46>\u001b[0m in \u001b[0;36m<module>\u001b[0;34m()\u001b[0m\n\u001b[1;32m      1\u001b[0m \u001b[0;32mdel\u001b[0m \u001b[0mmaria\u001b[0m\u001b[0;34m.\u001b[0m\u001b[0mname\u001b[0m\u001b[0;34m\u001b[0m\u001b[0m\n\u001b[0;32m----> 2\u001b[0;31m \u001b[0mprint\u001b[0m\u001b[0;34m(\u001b[0m\u001b[0mmaria\u001b[0m\u001b[0;34m)\u001b[0m\u001b[0;34m\u001b[0m\u001b[0m\n\u001b[0m",
      "\u001b[0;32m<ipython-input-1-691228dca289>\u001b[0m in \u001b[0;36m__str__\u001b[0;34m(self)\u001b[0m\n\u001b[1;32m      4\u001b[0m \u001b[0;34m\u001b[0m\u001b[0m\n\u001b[1;32m      5\u001b[0m     \u001b[0;32mdef\u001b[0m \u001b[0m__str__\u001b[0m\u001b[0;34m(\u001b[0m\u001b[0mself\u001b[0m\u001b[0;34m)\u001b[0m\u001b[0;34m:\u001b[0m\u001b[0;34m\u001b[0m\u001b[0m\n\u001b[0;32m----> 6\u001b[0;31m         \u001b[0;32mreturn\u001b[0m \u001b[0mself\u001b[0m\u001b[0;34m.\u001b[0m\u001b[0mname\u001b[0m\u001b[0;34m\u001b[0m\u001b[0m\n\u001b[0m",
      "\u001b[0;31mAttributeError\u001b[0m: 'Person' object has no attribute 'name'"
     ]
    }
   ],
   "source": [
    "del maria.name\n",
    "print(maria)"
   ]
  },
  {
   "cell_type": "markdown",
   "metadata": {},
   "source": [
    "Note que alterar o objeto `maria` não altera o objeto `joao`, nem alterar o objeto `joao` altera seu comportamento, uma vez que a classe não define como usar o novo atributo:"
   ]
  },
  {
   "cell_type": "code",
   "execution_count": 6,
   "metadata": {
    "collapsed": false,
    "scrolled": true
   },
   "outputs": [
    {
     "name": "stdout",
     "output_type": "stream",
     "text": [
      "João\n"
     ]
    }
   ],
   "source": [
    "print(joao)"
   ]
  },
  {
   "cell_type": "code",
   "execution_count": 7,
   "metadata": {
    "collapsed": false,
    "scrolled": true
   },
   "outputs": [
    {
     "name": "stdout",
     "output_type": "stream",
     "text": [
      "{'surname': 'Gomes', 'name': 'João'}\n"
     ]
    }
   ],
   "source": [
    "print(joao.__dict__)"
   ]
  },
  {
   "cell_type": "code",
   "execution_count": 8,
   "metadata": {
    "collapsed": false
   },
   "outputs": [
    {
     "name": "stdout",
     "output_type": "stream",
     "text": [
      "{}\n"
     ]
    }
   ],
   "source": [
    "print(maria.__dict__)"
   ]
  },
  {
   "cell_type": "markdown",
   "metadata": {},
   "source": [
    "### Escopo de classe"
   ]
  },
  {
   "cell_type": "markdown",
   "metadata": {},
   "source": [
    "O escopo complementar ao de uma instância é o escopo de classe. \n",
    "\n",
    "Esses atributos são compartilhados por todas as instâncias de uma mesma classe, então uma alteração através de uma instância afeta todas as outras.\n",
    "\n",
    "Pra isto, devemos acessar estes atributos diretamente através do nome da classe, o que é semânticamente bastante legível:"
   ]
  },
  {
   "cell_type": "code",
   "execution_count": 9,
   "metadata": {
    "collapsed": false
   },
   "outputs": [],
   "source": [
    "class Person:\n",
    "    greeting = \"Hello\"\n",
    "    \n",
    "    def __init__(self, name):\n",
    "        self.name = name\n",
    "\n",
    "    def __str__(self):\n",
    "        return self.name\n",
    "        \n",
    "    def hello(self):\n",
    "        print(\"{}, I'm {} :)\".format(Person.greeting, self.name))"
   ]
  },
  {
   "cell_type": "code",
   "execution_count": 10,
   "metadata": {
    "collapsed": false
   },
   "outputs": [
    {
     "name": "stdout",
     "output_type": "stream",
     "text": [
      "Hello, I'm Capitú :)\n"
     ]
    }
   ],
   "source": [
    "capitú = Person(\"Capitú\")\n",
    "capitú.hello()"
   ]
  },
  {
   "cell_type": "code",
   "execution_count": 11,
   "metadata": {
    "collapsed": false,
    "scrolled": true
   },
   "outputs": [
    {
     "name": "stdout",
     "output_type": "stream",
     "text": [
      "Hello, I'm Bentinho :)\n"
     ]
    }
   ],
   "source": [
    "bentinho = Person(\"Bentinho\")\n",
    "bentinho.hello()"
   ]
  },
  {
   "cell_type": "code",
   "execution_count": 12,
   "metadata": {
    "collapsed": false
   },
   "outputs": [
    {
     "name": "stdout",
     "output_type": "stream",
     "text": [
      "Hey, I'm Capitú :)\n",
      "Hey, I'm Bentinho :)\n"
     ]
    }
   ],
   "source": [
    "Person.greeting = \"Hey\"\n",
    "capitú.hello()\n",
    "bentinho.hello()"
   ]
  },
  {
   "cell_type": "markdown",
   "metadata": {},
   "source": [
    "Note que tentar alterar um atributo de classe através de uma instância não funciona, porque o Python interpreta que se está criando um atributo de instância de mesmo nome do atributo de classe.\n",
    "\n",
    "Como o escopo de instância tem prioridade sobre o escopo de classe, o atributo de classe fica mascarado pelo atributo de instância:"
   ]
  },
  {
   "cell_type": "code",
   "execution_count": 13,
   "metadata": {
    "collapsed": false,
    "scrolled": false
   },
   "outputs": [
    {
     "name": "stdout",
     "output_type": "stream",
     "text": [
      "Hey\n",
      "Hey, I'm Capitú :)\n",
      "Hey, I'm Bentinho :)\n",
      "Hola\n"
     ]
    }
   ],
   "source": [
    "print(capitú.greeting)\n",
    "capitú.greeting = \"Hola\"\n",
    "capitú.hello()\n",
    "bentinho.hello()\n",
    "print(capitú.greeting)"
   ]
  },
  {
   "cell_type": "markdown",
   "metadata": {},
   "source": [
    "### Don't repeat yourself (DRY)"
   ]
  },
  {
   "cell_type": "markdown",
   "metadata": {},
   "source": [
    "O princípio DRY (não se repita) é uma das principais ferramentas que um programador tem em mãos para evitar erros por replicação de código.\n",
    "\n",
    "No exemplo anterior, a o método `hello` da classe `Person` está hard-coded (codificado diretamente na classe). Isto pode ser um problema caso o nome da sua classe venha a ser alterado ainda durante a fase de projeto (dificilmente alteramos o nome de uma classe já tornada pública).\n",
    "\n",
    "Para evitar isto, recomenda-se o uso do procedimento embutido `type`:"
   ]
  },
  {
   "cell_type": "code",
   "execution_count": 14,
   "metadata": {
    "collapsed": false
   },
   "outputs": [],
   "source": [
    "class Person:\n",
    "    greeting = \"Hello\"\n",
    "    \n",
    "    def __init__(self, name):\n",
    "        self.name = name\n",
    "\n",
    "    def __str__(self):\n",
    "        return self.name\n",
    "        \n",
    "    def hello(self):\n",
    "        classname = type(self)\n",
    "        print(\"{}, I'm {} :)\".format(classname.greeting, self.name))"
   ]
  },
  {
   "cell_type": "code",
   "execution_count": 15,
   "metadata": {
    "collapsed": false,
    "scrolled": true
   },
   "outputs": [
    {
     "name": "stdout",
     "output_type": "stream",
     "text": [
      "Hello, I'm Violeta :)\n"
     ]
    }
   ],
   "source": [
    "violeta = Person(\"Violeta\")\n",
    "violeta.hello()"
   ]
  },
  {
   "cell_type": "markdown",
   "metadata": {},
   "source": [
    "### Escopo de métodos"
   ]
  },
  {
   "cell_type": "markdown",
   "metadata": {},
   "source": [
    "Ainda que todos os métodos definidos em uma classe sejam definidos no escopo de uma classe, é possível diferenciar o argumento passado para o método pelo interpretador."
   ]
  },
  {
   "cell_type": "markdown",
   "metadata": {},
   "source": [
    "#### Método de instância"
   ]
  },
  {
   "cell_type": "markdown",
   "metadata": {},
   "source": [
    "Um **método de instância**, como temos usado até aqui, recebe como primeiro argumento uma referência à instância. Este tipo de método tem acesso a todos os atributos definidos a nível de instância e de classe.\n",
    "\n",
    "Note que as chamadas a seguir são equivalentes, mas usamos a primeira mais frequentemente por conveniência de escrita:"
   ]
  },
  {
   "cell_type": "code",
   "execution_count": 16,
   "metadata": {
    "collapsed": false
   },
   "outputs": [
    {
     "name": "stdout",
     "output_type": "stream",
     "text": [
      "Hello, I'm Violeta :)\n",
      "Hello, I'm Violeta :)\n"
     ]
    }
   ],
   "source": [
    "violeta.hello()\n",
    "Person.hello(violeta)"
   ]
  },
  {
   "cell_type": "code",
   "execution_count": 17,
   "metadata": {
    "collapsed": false,
    "scrolled": true
   },
   "outputs": [
    {
     "name": "stdout",
     "output_type": "stream",
     "text": [
      "Hello, I'm Violeta :)\n"
     ]
    }
   ],
   "source": [
    "hello = violeta.hello\n",
    "hello()"
   ]
  },
  {
   "cell_type": "code",
   "execution_count": 18,
   "metadata": {
    "collapsed": false
   },
   "outputs": [
    {
     "name": "stdout",
     "output_type": "stream",
     "text": [
      "Hello, I'm Violeta :)\n"
     ]
    }
   ],
   "source": [
    "hello2 = Person.hello\n",
    "hello2(violeta)"
   ]
  },
  {
   "cell_type": "code",
   "execution_count": 19,
   "metadata": {
    "collapsed": false
   },
   "outputs": [
    {
     "name": "stdout",
     "output_type": "stream",
     "text": [
      "Hello, I'm Violeta :)\n"
     ]
    }
   ],
   "source": [
    "from functools import partial\n",
    "hello_violeta = partial(Person.hello, violeta)\n",
    "hello_violeta()"
   ]
  },
  {
   "cell_type": "markdown",
   "metadata": {},
   "source": [
    "#### Método de classe"
   ]
  },
  {
   "cell_type": "markdown",
   "metadata": {},
   "source": [
    "Um **método de classe** recebe como primeiro argumento uma referência à classe. Assim, um método de classe não tem acesso aos atributos definidos a nível de instância.\n",
    "\n",
    "Para definir um método como um método de classe, usamos o decorador `@classmethod` e adotamos como convenção nomear o primeiro argumento como `cls`:"
   ]
  },
  {
   "cell_type": "code",
   "execution_count": 20,
   "metadata": {
    "collapsed": false
   },
   "outputs": [],
   "source": [
    "class Person:\n",
    "    greeting = \"Hello\"\n",
    "    \n",
    "    def __init__(self, name):\n",
    "        self.name = name\n",
    "\n",
    "    def __str__(self):\n",
    "        return self.name\n",
    "        \n",
    "    def hello(self):\n",
    "        classname = type(self)\n",
    "        print(\"{}, I'm {} :)\".format(classname.greeting, self.name))\n",
    "        \n",
    "    @classmethod\n",
    "    def make_person(cls, name):\n",
    "        return cls(name)\n",
    "    \n",
    "    @classmethod\n",
    "    def change_greeting(cls, greeting):\n",
    "        cls.greeting = greeting"
   ]
  },
  {
   "cell_type": "code",
   "execution_count": 21,
   "metadata": {
    "collapsed": true
   },
   "outputs": [],
   "source": [
    "crono = Person.make_person(\"Crono\")"
   ]
  },
  {
   "cell_type": "code",
   "execution_count": 22,
   "metadata": {
    "collapsed": false,
    "scrolled": true
   },
   "outputs": [
    {
     "name": "stdout",
     "output_type": "stream",
     "text": [
      "Crono\n"
     ]
    }
   ],
   "source": [
    "print(crono)"
   ]
  },
  {
   "cell_type": "code",
   "execution_count": 23,
   "metadata": {
    "collapsed": true
   },
   "outputs": [],
   "source": [
    "a = Person"
   ]
  },
  {
   "cell_type": "code",
   "execution_count": 24,
   "metadata": {
    "collapsed": true
   },
   "outputs": [],
   "source": [
    "magus = a(\"Magus\")"
   ]
  },
  {
   "cell_type": "code",
   "execution_count": 25,
   "metadata": {
    "collapsed": false
   },
   "outputs": [
    {
     "name": "stdout",
     "output_type": "stream",
     "text": [
      "Magus\n"
     ]
    }
   ],
   "source": [
    "print(magus)"
   ]
  },
  {
   "cell_type": "markdown",
   "metadata": {},
   "source": [
    "Há mais de uma forma possível de chamar um método de classe, mas por convenção adotamos a primeira, mais legível e explícita:"
   ]
  },
  {
   "cell_type": "code",
   "execution_count": 26,
   "metadata": {
    "collapsed": false,
    "scrolled": true
   },
   "outputs": [
    {
     "name": "stdout",
     "output_type": "stream",
     "text": [
      "Hey, I'm Ayala :)\n",
      "Hey, I'm Crono :)\n"
     ]
    }
   ],
   "source": [
    "ayala = Person.make_person(\"Ayala\")\n",
    "ayala.change_greeting(\"Hey\")\n",
    "ayala.hello()\n",
    "crono.hello()"
   ]
  },
  {
   "cell_type": "markdown",
   "metadata": {},
   "source": [
    "**Note que uma instância tem acesso a um método de classe pelo mesmo motivo que tem acesso a um atributo de classe - o escopo da classe é buscado quando algo não é encontrado no escopo da instância ;)**"
   ]
  },
  {
   "cell_type": "markdown",
   "metadata": {},
   "source": [
    "#### Método estático"
   ]
  },
  {
   "cell_type": "markdown",
   "metadata": {},
   "source": [
    "Um **método estático** não recebe parâmetro algum. Assim, um método estático não tem acesso a nenhum atributo da instância nem da classe - nem mesmo a outros métodos que não sejam estáticos!\n",
    "\n",
    "Para definir um método como um método de classe, usamos o decorador `@staticmethod`:"
   ]
  },
  {
   "cell_type": "code",
   "execution_count": 27,
   "metadata": {
    "collapsed": false
   },
   "outputs": [],
   "source": [
    "class Person:\n",
    "    greeting = \"Hello\"\n",
    "    \n",
    "    def __init__(self, name):\n",
    "        self.name = name\n",
    "\n",
    "    def __str__(self):\n",
    "        return self.name\n",
    "        \n",
    "    def hello(self):\n",
    "        classname = type(self)\n",
    "        print(\"{}, I'm {} :)\".format(classname.greeting, self.name))\n",
    "        \n",
    "    @classmethod\n",
    "    def make_person(cls, name):\n",
    "        return cls(name)\n",
    "    \n",
    "    @classmethod\n",
    "    def change_greeting(cls, greeting):\n",
    "        cls.greeting = greeting\n",
    "        \n",
    "    @staticmethod\n",
    "    def disclaimer():\n",
    "        print(\"A person can be good and smart. People tend to be evil and dumb.\")"
   ]
  },
  {
   "cell_type": "code",
   "execution_count": 28,
   "metadata": {
    "collapsed": false,
    "scrolled": true
   },
   "outputs": [
    {
     "name": "stdout",
     "output_type": "stream",
     "text": [
      "A person can be good and smart. People tend to be evil and dumb.\n"
     ]
    }
   ],
   "source": [
    "Person.disclaimer()"
   ]
  },
  {
   "cell_type": "markdown",
   "metadata": {},
   "source": [
    "Assim como no caso de métodos de classe, métodos estáticos também podem ser invocados através de atributos, mas por convenção evitamos isso."
   ]
  },
  {
   "cell_type": "markdown",
   "metadata": {},
   "source": [
    "### Métodos de classe x método estáticos"
   ]
  },
  {
   "cell_type": "markdown",
   "metadata": {},
   "source": [
    "Poucas linguagens de programação implementam a variação sutil entre métodos de classe e métodos estáticos. Na verdade, [o Guido é bem sincero que isso foi não foi algo intencional](https://www.webucator.com/blog/2016/05/when-to-use-static-methods-in-python-never/):\n",
    "\n",
    "> We all know how limited static methods are. (They’re basically an accident — back in the Python 2.2 days when I was inventing new-style classes and descriptors, I meant to implement class methods but at first I didn’t understand them and accidentally implemented static methods first. Then it was too late to remove them and only provide class methods.\n",
    "\n",
    "Tradução livre:\n",
    "> Todos nós sabemos o quanto métodos estáticos são limitados. (Eles são basicamente um acidente - na época do Python 2.2 quando eu estava inventando descritores e classes no novo estilo, eu queria implementar métodos de classe mas a princípio eu não os entendi e acidentalmente implementei métodos estáticos primeiro. Daí ficou tarde pra removê-los e deixar apenas métodos de classe.\n",
    "\n",
    "No entanto, a distinção entre método de classe e estático leva a discussão das (des)vantagens de cada um.\n",
    "\n",
    "Vamos ilustrar o ponto principal com um exemplo sobre métodos-fábrica. "
   ]
  },
  {
   "cell_type": "markdown",
   "metadata": {},
   "source": [
    "#### Métodos-fábrica (factory methods)"
   ]
  },
  {
   "cell_type": "markdown",
   "metadata": {},
   "source": [
    "Nas definições anteriores da classe `Person`, criamos um método de classe `make_person` que constrói um objeto da classe `Person`. De forma simplista, essa é a definição de um método-fábrica.\n",
    "\n",
    "Vamos ver como seria se o método `make_person` fosse declarado como um método estático:"
   ]
  },
  {
   "cell_type": "code",
   "execution_count": 29,
   "metadata": {
    "collapsed": true
   },
   "outputs": [],
   "source": [
    "class Person:\n",
    "    def __init__(self, name):\n",
    "        self.name = name\n",
    "\n",
    "    def __str__(self):\n",
    "        return self.name\n",
    "        \n",
    "    @staticmethod\n",
    "    def make_person(name):\n",
    "        return Person(name)"
   ]
  },
  {
   "cell_type": "code",
   "execution_count": 30,
   "metadata": {
    "collapsed": false
   },
   "outputs": [
    {
     "data": {
      "text/plain": [
       "<__main__.Person at 0x10e2a5b70>"
      ]
     },
     "execution_count": 30,
     "metadata": {},
     "output_type": "execute_result"
    }
   ],
   "source": [
    "Person.make_person(\"Lavos\")"
   ]
  },
  {
   "cell_type": "markdown",
   "metadata": {},
   "source": [
    "Note que o uso de um método estático força o uso do nome da classe dentro do método. Isto fere o princípio DRY e é um dos motivos pelos quais métodos estáticos devem ser evitados.\n",
    "\n",
    "Vamos analisar agora um caso em que métodos-fábrica são de fato úteis - quando queremos centralizar a criação de objetos de diferentes tipos que pertencem a uma mesma família:"
   ]
  },
  {
   "cell_type": "code",
   "execution_count": 31,
   "metadata": {
    "collapsed": true
   },
   "outputs": [],
   "source": [
    "class Person():\n",
    "    def __init__(self, name):\n",
    "        self.name = name\n",
    "\n",
    "    def __str__(self):\n",
    "        return self.name"
   ]
  },
  {
   "cell_type": "markdown",
   "metadata": {},
   "source": [
    "Dizemos que vários objetos pertencem a uma mesma família quando eles implementam respeitam um mesmo protocolo (polimorfismo informal), implementam uma mesma interface (polimorfismo formal) ou possuem um mesmo ancestral (herança).\n",
    "\n",
    "Vamos ver um exemplo simples envolvendo herança, que em Python é explicitada no cabeçalho da classe. A classe `Brazilian` abaixo herda da classe `Person`:"
   ]
  },
  {
   "cell_type": "code",
   "execution_count": 32,
   "metadata": {
    "collapsed": true
   },
   "outputs": [],
   "source": [
    "class Brazilian(Person):\n",
    "    def __str__(self):\n",
    "        return \"Sabe sou brasileiro com muito orgulho com muito amor\""
   ]
  },
  {
   "cell_type": "markdown",
   "metadata": {},
   "source": [
    "Ainda estudaremos em maiores detalhes o conceito e as implicações de herança, mas em poucas palavras uma classe derivada herda de uma classe base seus atributos e métodos.\n",
    "\n",
    "Também é possível sobrescrever um método herdado, como fizemos com o método mágico `__str__` no exemplo acima. Veja como um objeto da classe `Brazilian` se comporta:"
   ]
  },
  {
   "cell_type": "code",
   "execution_count": 33,
   "metadata": {
    "collapsed": true
   },
   "outputs": [],
   "source": [
    "leo = Brazilian(\"Leo\")"
   ]
  },
  {
   "cell_type": "code",
   "execution_count": 34,
   "metadata": {
    "collapsed": false
   },
   "outputs": [
    {
     "name": "stdout",
     "output_type": "stream",
     "text": [
      "Sabe sou brasileiro com muito orgulho com muito amor\n"
     ]
    }
   ],
   "source": [
    "print(leo)"
   ]
  },
  {
   "cell_type": "markdown",
   "metadata": {},
   "source": [
    "Podemos fazer o mesmo com uma classe `Italian`: "
   ]
  },
  {
   "cell_type": "code",
   "execution_count": 35,
   "metadata": {
    "collapsed": true
   },
   "outputs": [],
   "source": [
    "class Italian(Person):\n",
    "    def __str__(self):\n",
    "        return \"Pasta\""
   ]
  },
  {
   "cell_type": "code",
   "execution_count": 36,
   "metadata": {
    "collapsed": true
   },
   "outputs": [],
   "source": [
    "gianpiero = Italian(\"Gianpiero\")"
   ]
  },
  {
   "cell_type": "code",
   "execution_count": 37,
   "metadata": {
    "collapsed": false
   },
   "outputs": [
    {
     "name": "stdout",
     "output_type": "stream",
     "text": [
      "Pasta\n"
     ]
    }
   ],
   "source": [
    "print(gianpiero)"
   ]
  },
  {
   "cell_type": "markdown",
   "metadata": {},
   "source": [
    "Vamos agora centralizar a criação de objetos dessa família de classes em um método estático da classe-base `Person`:"
   ]
  },
  {
   "cell_type": "code",
   "execution_count": 38,
   "metadata": {
    "collapsed": true
   },
   "outputs": [],
   "source": [
    "class Person():\n",
    "    def __init__(self, name):\n",
    "        self.name = name\n",
    "\n",
    "    def __str__(self):\n",
    "        return self.name\n",
    "        \n",
    "    @staticmethod\n",
    "    def create_person(name, nation=\"\"):\n",
    "        factory = {\"it\": Italian, \"br\": Brazilian}\n",
    "        try:\n",
    "            return factory[nation](name)\n",
    "        except KeyError as error:\n",
    "            return Person(name)"
   ]
  },
  {
   "cell_type": "code",
   "execution_count": 39,
   "metadata": {
    "collapsed": true
   },
   "outputs": [],
   "source": [
    "touraj = Person.create_person(\"Touraj\")"
   ]
  },
  {
   "cell_type": "code",
   "execution_count": 40,
   "metadata": {
    "collapsed": false
   },
   "outputs": [
    {
     "name": "stdout",
     "output_type": "stream",
     "text": [
      "Touraj\n"
     ]
    }
   ],
   "source": [
    "print(touraj)"
   ]
  },
  {
   "cell_type": "code",
   "execution_count": 41,
   "metadata": {
    "collapsed": false
   },
   "outputs": [
    {
     "name": "stdout",
     "output_type": "stream",
     "text": [
      "Sabe sou brasileiro com muito orgulho com muito amor\n"
     ]
    }
   ],
   "source": [
    "edi = Person.create_person(\"Edi\", \"br\")\n",
    "print(edi)"
   ]
  },
  {
   "cell_type": "code",
   "execution_count": 42,
   "metadata": {
    "collapsed": false
   },
   "outputs": [
    {
     "name": "stdout",
     "output_type": "stream",
     "text": [
      "Pasta\n"
     ]
    }
   ],
   "source": [
    "mauro = Person.create_person(\"Mauro\", \"it\")\n",
    "print(mauro)"
   ]
  },
  {
   "cell_type": "markdown",
   "metadata": {},
   "source": [
    "Note que novamente precisamos colocar o nome da classe quebrando o princípio DRY. \n",
    "\n",
    "No entanto, como em todo caso precisamos decidir entre as subclasses dentro do método, não teríamos como evitar quebrar este princípio.\n",
    "\n",
    "**Na verdade, há um jeito bem interessante de fazer uma fábrica usando o conceito de módulo como objeto, descrito [neste post](https://www.bnmetrics.com/blog/factory-pattern-in-python3-simple-version). Seja curioso e vá conferir :)**"
   ]
  }
 ],
 "metadata": {
  "kernelspec": {
   "display_name": "Python 3",
   "language": "python",
   "name": "python3"
  },
  "language_info": {
   "codemirror_mode": {
    "name": "ipython",
    "version": 3
   },
   "file_extension": ".py",
   "mimetype": "text/x-python",
   "name": "python",
   "nbconvert_exporter": "python",
   "pygments_lexer": "ipython3",
   "version": "3.5.2"
  }
 },
 "nbformat": 4,
 "nbformat_minor": 1
}
