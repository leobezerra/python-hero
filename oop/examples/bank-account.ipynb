{
 "cells": [
  {
   "cell_type": "code",
   "execution_count": 1,
   "metadata": {},
   "outputs": [],
   "source": [
    "class Account:\n",
    "    modes = {\"checking\": \"Conta corrente\", \"savings\": \"Poupança\"}\n",
    "    def __init__(self, number, owner, mode, balance):\n",
    "        self.number = number\n",
    "        self.owner = owner\n",
    "        self.mode = mode\n",
    "        self.balance = balance\n",
    "        self.log = []\n",
    "    \n",
    "    def __str__(self):\n",
    "        return f\"{self.number}\\t{self.owner}\\t{type(self).modes[self.mode]}\\t{self.balance:.2f}\"\n",
    "\n",
    "    @property\n",
    "    def number(self):\n",
    "        return self.__number\n",
    "    \n",
    "    @number.setter\n",
    "    def number(self, number):\n",
    "        try:\n",
    "            number = int(number)\n",
    "            if number < 0:\n",
    "                raise ValueError(\"account numbers should be non-negative\")\n",
    "        except ValueError as error:\n",
    "            print(f\"Invalid account number: {error}\")\n",
    "        self.__number = number\n",
    "        \n",
    "    @property\n",
    "    def owner(self):\n",
    "        return self.__owner\n",
    "    \n",
    "    @owner.setter\n",
    "    def owner(self, owner):\n",
    "        from re import search\n",
    "        if not owner or search(r\"\\d\", owner):\n",
    "            print(\"Invalid account owner: owner is either empty or contains digits\")\n",
    "        else:\n",
    "            self.__owner = owner \n",
    "    \n",
    "    @property\n",
    "    def mode(self):\n",
    "        return self.__mode\n",
    "    \n",
    "    @mode.setter\n",
    "    def mode(self, mode):\n",
    "        if mode not in type(self).modes:\n",
    "            print (\"Invalid account type: valid options are: {}\".format(\", \".join(type(self).modes.keys())))        \n",
    "        self.__mode = mode\n",
    "            \n",
    "    @property\n",
    "    def balance(self):\n",
    "        return self.__balance\n",
    "    \n",
    "    @balance.setter\n",
    "    def balance(self, balance):\n",
    "        try:\n",
    "            self.__balance = float(balance)\n",
    "        except ValueError as error:\n",
    "            print(f\"Invalid account balance: {error}\")\n",
    "    \n",
    "    def deposit(self, amount):\n",
    "        if amount <= 0:\n",
    "            print(f\"Invalid deposit amount: {amount}\")\n",
    "        else:\n",
    "            self.balance += amount\n",
    "            self.log.append(amount)\n",
    "\n",
    "    def withdraw(self, amount):\n",
    "        if amount <= 0:\n",
    "            print(f\"Invalid withdraw amount: {amount}\")\n",
    "        else:\n",
    "            self.balance -= amount\n",
    "            self.log.append(-amount)\n",
    "        \n",
    "    def statement(self, records=30):\n",
    "        print(*self.log[-records:], sep=\"\\n\")\n",
    "\n",
    "    @classmethod\n",
    "    def __build(cls, number, mode=\"savings\"):\n",
    "        owner = input(\"Titular: \")\n",
    "        balance = float(input(\"Saldo inicial: \"))\n",
    "        return cls(number, owner, mode, balance)\n",
    "\n",
    "    @classmethod\n",
    "    def build_savings(cls, number):\n",
    "        return cls.__build(number)\n",
    "\n",
    "    @classmethod\n",
    "    def build_checking(cls, number):\n",
    "        return cls.__build(number, \"checking\")"
   ]
  },
  {
   "cell_type": "code",
   "execution_count": 2,
   "metadata": {},
   "outputs": [
    {
     "name": "stdout",
     "output_type": "stream",
     "text": [
      "Invalid account number: invalid literal for int() with base 10: 'a'\n"
     ]
    }
   ],
   "source": [
    "cc1 = Account(\"a\", \"Leonardo Bezerra\", \"savings\", 0.01)"
   ]
  },
  {
   "cell_type": "code",
   "execution_count": 3,
   "metadata": {},
   "outputs": [
    {
     "name": "stdout",
     "output_type": "stream",
     "text": [
      "Invalid account number: account numbers should be non-negative\n"
     ]
    }
   ],
   "source": [
    "cc1 = Account(-1, \"Leonardo Bezerra\", \"savings\", 0.01)"
   ]
  },
  {
   "cell_type": "code",
   "execution_count": 4,
   "metadata": {},
   "outputs": [
    {
     "name": "stdout",
     "output_type": "stream",
     "text": [
      "Invalid account type: valid options are: checking, savings\n"
     ]
    }
   ],
   "source": [
    "cc1 = Account(1, \"Leonardo Bezerra\", \"saving\", 0.01)"
   ]
  },
  {
   "cell_type": "code",
   "execution_count": 5,
   "metadata": {},
   "outputs": [
    {
     "name": "stdout",
     "output_type": "stream",
     "text": [
      "Invalid account balance: could not convert string to float: 'a'\n"
     ]
    }
   ],
   "source": [
    "cc1 = Account(1, \"Leonardo Bezerra\", \"savings\", \"a\")"
   ]
  },
  {
   "cell_type": "code",
   "execution_count": 6,
   "metadata": {},
   "outputs": [],
   "source": [
    "poupança1 = Account(1, \"Leonardo Bezerra\", \"savings\", 0.01)"
   ]
  },
  {
   "cell_type": "code",
   "execution_count": 7,
   "metadata": {},
   "outputs": [
    {
     "name": "stdout",
     "output_type": "stream",
     "text": [
      "1\tLeonardo Bezerra\tPoupança\t0.01\n"
     ]
    }
   ],
   "source": [
    "print(poupança1)"
   ]
  },
  {
   "cell_type": "code",
   "execution_count": 8,
   "metadata": {},
   "outputs": [
    {
     "name": "stdout",
     "output_type": "stream",
     "text": [
      "Titular: Leonardo Bezerra\n",
      "Saldo inicial: 0.02\n"
     ]
    }
   ],
   "source": [
    "cc1 = Account.build_checking(1)"
   ]
  },
  {
   "cell_type": "code",
   "execution_count": 9,
   "metadata": {},
   "outputs": [
    {
     "name": "stdout",
     "output_type": "stream",
     "text": [
      "1\tLeonardo Bezerra\tConta corrente\t0.02\n"
     ]
    }
   ],
   "source": [
    "print(cc1)"
   ]
  },
  {
   "cell_type": "code",
   "execution_count": 10,
   "metadata": {},
   "outputs": [
    {
     "name": "stdout",
     "output_type": "stream",
     "text": [
      "Titular: Júlia Bezerra\n",
      "Saldo inicial: 0.03\n"
     ]
    }
   ],
   "source": [
    "poupança2 = Account.build_savings(2)"
   ]
  },
  {
   "cell_type": "code",
   "execution_count": 11,
   "metadata": {},
   "outputs": [
    {
     "name": "stdout",
     "output_type": "stream",
     "text": [
      "2\tJúlia Bezerra\tPoupança\t0.03\n"
     ]
    }
   ],
   "source": [
    "print(poupança2)"
   ]
  },
  {
   "cell_type": "code",
   "execution_count": 11,
   "metadata": {},
   "outputs": [
    {
     "ename": "AttributeError",
     "evalue": "type object 'Account' has no attribute 'build'",
     "output_type": "error",
     "traceback": [
      "\u001b[0;31m---------------------------------------------------------------------------\u001b[0m",
      "\u001b[0;31mAttributeError\u001b[0m                            Traceback (most recent call last)",
      "\u001b[0;32m<ipython-input-11-19954b9e60fe>\u001b[0m in \u001b[0;36m<module>\u001b[0;34m\u001b[0m\n\u001b[0;32m----> 1\u001b[0;31m \u001b[0mpoupança2\u001b[0m \u001b[0;34m=\u001b[0m \u001b[0mAccount\u001b[0m\u001b[0;34m.\u001b[0m\u001b[0mbuild\u001b[0m\u001b[0;34m(\u001b[0m\u001b[0;36m3\u001b[0m\u001b[0;34m)\u001b[0m\u001b[0;34m\u001b[0m\u001b[0m\n\u001b[0m",
      "\u001b[0;31mAttributeError\u001b[0m: type object 'Account' has no attribute 'build'"
     ]
    }
   ],
   "source": [
    "poupança2 = Account.build(3)"
   ]
  },
  {
   "cell_type": "code",
   "execution_count": 12,
   "metadata": {},
   "outputs": [
    {
     "name": "stdout",
     "output_type": "stream",
     "text": [
      "Titular: Laís Bezerra\n",
      "Saldo inicial: 0.04\n"
     ]
    }
   ],
   "source": [
    "poupança3 = Account._Account__build(3)"
   ]
  },
  {
   "cell_type": "code",
   "execution_count": 13,
   "metadata": {
    "scrolled": true
   },
   "outputs": [
    {
     "name": "stdout",
     "output_type": "stream",
     "text": [
      "3\tLaís Bezerra\tPoupança\t0.04\n"
     ]
    }
   ],
   "source": [
    "print(poupança3)"
   ]
  },
  {
   "cell_type": "code",
   "execution_count": 14,
   "metadata": {},
   "outputs": [
    {
     "name": "stdout",
     "output_type": "stream",
     "text": [
      "Invalid withdraw amount: -200\n"
     ]
    }
   ],
   "source": [
    "cc1.withdraw(-200)"
   ]
  },
  {
   "cell_type": "code",
   "execution_count": 15,
   "metadata": {},
   "outputs": [],
   "source": [
    "cc1.withdraw(200)"
   ]
  },
  {
   "cell_type": "code",
   "execution_count": 17,
   "metadata": {},
   "outputs": [
    {
     "name": "stdout",
     "output_type": "stream",
     "text": [
      "1\tLeonardo Bezerra\tConta corrente\t-199.98\n"
     ]
    }
   ],
   "source": [
    "print(cc1)"
   ]
  },
  {
   "cell_type": "code",
   "execution_count": 16,
   "metadata": {},
   "outputs": [
    {
     "name": "stdout",
     "output_type": "stream",
     "text": [
      "Invalid deposit amount: -100\n"
     ]
    }
   ],
   "source": [
    "cc1.deposit(-100)"
   ]
  },
  {
   "cell_type": "code",
   "execution_count": 17,
   "metadata": {},
   "outputs": [],
   "source": [
    "cc1.deposit(300)"
   ]
  },
  {
   "cell_type": "code",
   "execution_count": 18,
   "metadata": {
    "scrolled": false
   },
   "outputs": [
    {
     "name": "stdout",
     "output_type": "stream",
     "text": [
      "1\tLeonardo Bezerra\tConta corrente\t100.02\n"
     ]
    }
   ],
   "source": [
    "print(cc1)"
   ]
  },
  {
   "cell_type": "code",
   "execution_count": 19,
   "metadata": {},
   "outputs": [
    {
     "name": "stdout",
     "output_type": "stream",
     "text": [
      "-200\n",
      "300\n"
     ]
    }
   ],
   "source": [
    "cc1.statement()"
   ]
  },
  {
   "cell_type": "code",
   "execution_count": 20,
   "metadata": {},
   "outputs": [],
   "source": [
    "class Bank:\n",
    "    def __init__(self):\n",
    "        self.accounts = {}\n",
    "        self.__next_account = 0\n",
    "\n",
    "    @property\n",
    "    def next_account(self):\n",
    "        self.__next_account += 1\n",
    "        return self.__next_account\n",
    "\n",
    "    def create_account(self):\n",
    "        try:\n",
    "            mode = int(input(\"Tipo da conta (1 - Poupança, 2 - Conta corrente): \"))\n",
    "            if mode not in (1,2):\n",
    "                raise ValueError(\"available options: 1 - Poupança, 2 - Conta corrente\")\n",
    "        except ValueError as error:\n",
    "            print(f\"Invalid account type: {error}\")\n",
    "        else:\n",
    "            account = Account.build_savings(self.next_account) if mode == 1 else Account.build_checking(self.next_account)\n",
    "            self.accounts[account.number] = account\n",
    "            return account.number\n",
    "    \n",
    "    def port_account(self, account):\n",
    "        if account.number in self.accounts:\n",
    "            print(\"Account number already in use. Creating a new account number.\")\n",
    "            account.number = self.next_account\n",
    "        self.accounts[account.number] = account\n",
    "        return account.number"
   ]
  },
  {
   "cell_type": "code",
   "execution_count": 23,
   "metadata": {},
   "outputs": [],
   "source": [
    "bb = Bank()"
   ]
  },
  {
   "cell_type": "code",
   "execution_count": 24,
   "metadata": {},
   "outputs": [
    {
     "name": "stdout",
     "output_type": "stream",
     "text": [
      "Tipo da conta (1 - Poupança, 2 - Conta corrente): a\n",
      "Invalid account type: invalid literal for int() with base 10: 'a'\n"
     ]
    }
   ],
   "source": [
    "bb.create_account()"
   ]
  },
  {
   "cell_type": "code",
   "execution_count": 25,
   "metadata": {},
   "outputs": [
    {
     "name": "stdout",
     "output_type": "stream",
     "text": [
      "Tipo da conta (1 - Poupança, 2 - Conta corrente): 3\n",
      "Invalid account type: available options: 1 - Poupança, 2 - Conta corrente\n"
     ]
    }
   ],
   "source": [
    "bb.create_account()"
   ]
  },
  {
   "cell_type": "code",
   "execution_count": 26,
   "metadata": {
    "scrolled": true
   },
   "outputs": [
    {
     "name": "stdout",
     "output_type": "stream",
     "text": [
      "Tipo da conta (1 - Poupança, 2 - Conta corrente): 1\n",
      "Titular: Leonardo Bezerra\n",
      "Saldo inicial: 0.01\n"
     ]
    }
   ],
   "source": [
    "number = bb.create_account()"
   ]
  },
  {
   "cell_type": "code",
   "execution_count": 27,
   "metadata": {
    "scrolled": true
   },
   "outputs": [
    {
     "name": "stdout",
     "output_type": "stream",
     "text": [
      "1\n"
     ]
    }
   ],
   "source": [
    "print(number)"
   ]
  },
  {
   "cell_type": "code",
   "execution_count": 28,
   "metadata": {},
   "outputs": [
    {
     "data": {
      "text/plain": [
       "2"
      ]
     },
     "execution_count": 28,
     "metadata": {},
     "output_type": "execute_result"
    }
   ],
   "source": [
    "poupança2.number"
   ]
  },
  {
   "cell_type": "code",
   "execution_count": 29,
   "metadata": {},
   "outputs": [
    {
     "name": "stdout",
     "output_type": "stream",
     "text": [
      "2\tJúlia Bezerra\tPoupança\t0.03\n"
     ]
    }
   ],
   "source": [
    "print(poupança2)"
   ]
  },
  {
   "cell_type": "code",
   "execution_count": 30,
   "metadata": {},
   "outputs": [],
   "source": [
    "number = bb.port_account(poupança2)"
   ]
  },
  {
   "cell_type": "code",
   "execution_count": 31,
   "metadata": {},
   "outputs": [
    {
     "name": "stdout",
     "output_type": "stream",
     "text": [
      "2\n"
     ]
    }
   ],
   "source": [
    "print(number)"
   ]
  },
  {
   "cell_type": "code",
   "execution_count": 32,
   "metadata": {},
   "outputs": [
    {
     "name": "stdout",
     "output_type": "stream",
     "text": [
      "1\tLeonardo Bezerra\tConta corrente\t100.02\n"
     ]
    }
   ],
   "source": [
    "print(cc1)"
   ]
  },
  {
   "cell_type": "code",
   "execution_count": 33,
   "metadata": {},
   "outputs": [
    {
     "name": "stdout",
     "output_type": "stream",
     "text": [
      "Account number already in use. Creating a new account number.\n"
     ]
    }
   ],
   "source": [
    "number = bb.port_account(cc1)"
   ]
  },
  {
   "cell_type": "code",
   "execution_count": 34,
   "metadata": {},
   "outputs": [
    {
     "name": "stdout",
     "output_type": "stream",
     "text": [
      "2\n"
     ]
    }
   ],
   "source": [
    "print(number)"
   ]
  },
  {
   "cell_type": "code",
   "execution_count": null,
   "metadata": {},
   "outputs": [],
   "source": []
  }
 ],
 "metadata": {
  "kernelspec": {
   "display_name": "Python 3",
   "language": "python",
   "name": "python3"
  },
  "language_info": {
   "codemirror_mode": {
    "name": "ipython",
    "version": 3
   },
   "file_extension": ".py",
   "mimetype": "text/x-python",
   "name": "python",
   "nbconvert_exporter": "python",
   "pygments_lexer": "ipython3",
   "version": "3.7.0"
  }
 },
 "nbformat": 4,
 "nbformat_minor": 2
}
