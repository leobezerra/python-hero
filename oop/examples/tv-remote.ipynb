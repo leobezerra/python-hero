{
 "cells": [
  {
   "cell_type": "code",
   "execution_count": 1,
   "metadata": {},
   "outputs": [],
   "source": [
    "class MediaDevice:\n",
    "    states = {\"standby\": \"Stand-by\", \"playing\": \"Playing\"}\n",
    "    \n",
    "    def __init__(self, volume=0, media_list=[]):\n",
    "        self.state = \"standby\"\n",
    "        self.volume = volume\n",
    "        self.media_list = list(media_list)\n",
    "        self.media = 0\n",
    "        \n",
    "    def __str__(self):\n",
    "        classname = type(self)\n",
    "        if self.state == \"standby\":\n",
    "            return classname.states[self.state]\n",
    "        else:\n",
    "            return f\"{classname.states[self.state]} {self.media_list[self.media]} (option {self.media}) at volume {self.volume}\"\n",
    "        \n",
    "    def play(self):\n",
    "        self.state = \"playing\"\n",
    "\n",
    "    def stop(self):\n",
    "        self.state = \"standby\"\n",
    "    \n",
    "    @property\n",
    "    def volume(self):\n",
    "        return self.__volume\n",
    "\n",
    "    @volume.setter\n",
    "    def volume(self, volume):\n",
    "        if 0 <= volume <= 100:\n",
    "            self.__volume = volume\n",
    "        else:\n",
    "            raise ValueError(\"Invalid volume value\")\n",
    "    \n",
    "    @property\n",
    "    def media(self):\n",
    "        return self.__media\n",
    "\n",
    "    @media.setter\n",
    "    def media(self, media):\n",
    "        if 0 <= media < len(self.media_list): \n",
    "            self.__media = media\n",
    "        else:\n",
    "            raise ValueError(\"Invalid media choice\")"
   ]
  },
  {
   "cell_type": "code",
   "execution_count": 2,
   "metadata": {},
   "outputs": [],
   "source": [
    "tv_aberta = MediaDevice(media_list=[\"Band\", \"TVU\", \"Record\", \"Globo\", \"SBT\", \"MTV\"])"
   ]
  },
  {
   "cell_type": "code",
   "execution_count": 3,
   "metadata": {
    "scrolled": false
   },
   "outputs": [
    {
     "name": "stdout",
     "output_type": "stream",
     "text": [
      "Stand-by\n"
     ]
    }
   ],
   "source": [
    "print(tv_aberta)"
   ]
  },
  {
   "cell_type": "code",
   "execution_count": 4,
   "metadata": {},
   "outputs": [],
   "source": [
    "tv_aberta.play()"
   ]
  },
  {
   "cell_type": "code",
   "execution_count": 5,
   "metadata": {
    "scrolled": true
   },
   "outputs": [
    {
     "name": "stdout",
     "output_type": "stream",
     "text": [
      "Playing Band (option 0) at volume 0\n"
     ]
    }
   ],
   "source": [
    "print(tv_aberta)"
   ]
  },
  {
   "cell_type": "code",
   "execution_count": 6,
   "metadata": {},
   "outputs": [
    {
     "ename": "ValueError",
     "evalue": "Invalid volume value",
     "output_type": "error",
     "traceback": [
      "\u001b[0;31m---------------------------------------------------------------------------\u001b[0m",
      "\u001b[0;31mValueError\u001b[0m                                Traceback (most recent call last)",
      "\u001b[0;32m<ipython-input-6-ca70ab015106>\u001b[0m in \u001b[0;36m<module>\u001b[0;34m\u001b[0m\n\u001b[0;32m----> 1\u001b[0;31m \u001b[0mtv_aberta\u001b[0m\u001b[0;34m.\u001b[0m\u001b[0mvolume\u001b[0m \u001b[0;34m-=\u001b[0m \u001b[0;36m1\u001b[0m\u001b[0;34m\u001b[0m\u001b[0m\n\u001b[0m",
      "\u001b[0;32m<ipython-input-1-30daa3625ed6>\u001b[0m in \u001b[0;36mvolume\u001b[0;34m(self, volume)\u001b[0m\n\u001b[1;32m     30\u001b[0m             \u001b[0mself\u001b[0m\u001b[0;34m.\u001b[0m\u001b[0m__volume\u001b[0m \u001b[0;34m=\u001b[0m \u001b[0mvolume\u001b[0m\u001b[0;34m\u001b[0m\u001b[0m\n\u001b[1;32m     31\u001b[0m         \u001b[0;32melse\u001b[0m\u001b[0;34m:\u001b[0m\u001b[0;34m\u001b[0m\u001b[0m\n\u001b[0;32m---> 32\u001b[0;31m             \u001b[0;32mraise\u001b[0m \u001b[0mValueError\u001b[0m\u001b[0;34m(\u001b[0m\u001b[0;34m\"Invalid volume value\"\u001b[0m\u001b[0;34m)\u001b[0m\u001b[0;34m\u001b[0m\u001b[0m\n\u001b[0m\u001b[1;32m     33\u001b[0m \u001b[0;34m\u001b[0m\u001b[0m\n\u001b[1;32m     34\u001b[0m     \u001b[0;34m@\u001b[0m\u001b[0mproperty\u001b[0m\u001b[0;34m\u001b[0m\u001b[0m\n",
      "\u001b[0;31mValueError\u001b[0m: Invalid volume value"
     ]
    }
   ],
   "source": [
    "tv_aberta.volume -= 1"
   ]
  },
  {
   "cell_type": "code",
   "execution_count": 7,
   "metadata": {
    "scrolled": true
   },
   "outputs": [
    {
     "ename": "ValueError",
     "evalue": "Invalid volume value",
     "output_type": "error",
     "traceback": [
      "\u001b[0;31m---------------------------------------------------------------------------\u001b[0m",
      "\u001b[0;31mValueError\u001b[0m                                Traceback (most recent call last)",
      "\u001b[0;32m<ipython-input-7-e9f7dc7ee45b>\u001b[0m in \u001b[0;36m<module>\u001b[0;34m\u001b[0m\n\u001b[0;32m----> 1\u001b[0;31m \u001b[0mtv_aberta\u001b[0m\u001b[0;34m.\u001b[0m\u001b[0mvolume\u001b[0m \u001b[0;34m+=\u001b[0m \u001b[0;36m101\u001b[0m\u001b[0;34m\u001b[0m\u001b[0m\n\u001b[0m",
      "\u001b[0;32m<ipython-input-1-30daa3625ed6>\u001b[0m in \u001b[0;36mvolume\u001b[0;34m(self, volume)\u001b[0m\n\u001b[1;32m     30\u001b[0m             \u001b[0mself\u001b[0m\u001b[0;34m.\u001b[0m\u001b[0m__volume\u001b[0m \u001b[0;34m=\u001b[0m \u001b[0mvolume\u001b[0m\u001b[0;34m\u001b[0m\u001b[0m\n\u001b[1;32m     31\u001b[0m         \u001b[0;32melse\u001b[0m\u001b[0;34m:\u001b[0m\u001b[0;34m\u001b[0m\u001b[0m\n\u001b[0;32m---> 32\u001b[0;31m             \u001b[0;32mraise\u001b[0m \u001b[0mValueError\u001b[0m\u001b[0;34m(\u001b[0m\u001b[0;34m\"Invalid volume value\"\u001b[0m\u001b[0;34m)\u001b[0m\u001b[0;34m\u001b[0m\u001b[0m\n\u001b[0m\u001b[1;32m     33\u001b[0m \u001b[0;34m\u001b[0m\u001b[0m\n\u001b[1;32m     34\u001b[0m     \u001b[0;34m@\u001b[0m\u001b[0mproperty\u001b[0m\u001b[0;34m\u001b[0m\u001b[0m\n",
      "\u001b[0;31mValueError\u001b[0m: Invalid volume value"
     ]
    }
   ],
   "source": [
    "tv_aberta.volume += 101"
   ]
  },
  {
   "cell_type": "code",
   "execution_count": 8,
   "metadata": {},
   "outputs": [],
   "source": [
    "tv_aberta.volume += 1"
   ]
  },
  {
   "cell_type": "code",
   "execution_count": 9,
   "metadata": {},
   "outputs": [
    {
     "name": "stdout",
     "output_type": "stream",
     "text": [
      "Playing Band (option 0) at volume 1\n"
     ]
    }
   ],
   "source": [
    "print(tv_aberta)"
   ]
  },
  {
   "cell_type": "code",
   "execution_count": 10,
   "metadata": {},
   "outputs": [],
   "source": [
    "tv_aberta.volume -= 1"
   ]
  },
  {
   "cell_type": "code",
   "execution_count": 11,
   "metadata": {},
   "outputs": [
    {
     "name": "stdout",
     "output_type": "stream",
     "text": [
      "Playing Band (option 0) at volume 0\n"
     ]
    }
   ],
   "source": [
    "print(tv_aberta)"
   ]
  },
  {
   "cell_type": "code",
   "execution_count": 12,
   "metadata": {
    "scrolled": true
   },
   "outputs": [
    {
     "ename": "ValueError",
     "evalue": "Invalid media choice",
     "output_type": "error",
     "traceback": [
      "\u001b[0;31m---------------------------------------------------------------------------\u001b[0m",
      "\u001b[0;31mValueError\u001b[0m                                Traceback (most recent call last)",
      "\u001b[0;32m<ipython-input-12-5893e676d3fd>\u001b[0m in \u001b[0;36m<module>\u001b[0;34m\u001b[0m\n\u001b[0;32m----> 1\u001b[0;31m \u001b[0mtv_aberta\u001b[0m\u001b[0;34m.\u001b[0m\u001b[0mmedia\u001b[0m \u001b[0;34m-=\u001b[0m \u001b[0;36m1\u001b[0m\u001b[0;34m\u001b[0m\u001b[0m\n\u001b[0m",
      "\u001b[0;32m<ipython-input-1-30daa3625ed6>\u001b[0m in \u001b[0;36mmedia\u001b[0;34m(self, media)\u001b[0m\n\u001b[1;32m     41\u001b[0m             \u001b[0mself\u001b[0m\u001b[0;34m.\u001b[0m\u001b[0m__media\u001b[0m \u001b[0;34m=\u001b[0m \u001b[0mmedia\u001b[0m\u001b[0;34m\u001b[0m\u001b[0m\n\u001b[1;32m     42\u001b[0m         \u001b[0;32melse\u001b[0m\u001b[0;34m:\u001b[0m\u001b[0;34m\u001b[0m\u001b[0m\n\u001b[0;32m---> 43\u001b[0;31m             \u001b[0;32mraise\u001b[0m \u001b[0mValueError\u001b[0m\u001b[0;34m(\u001b[0m\u001b[0;34m\"Invalid media choice\"\u001b[0m\u001b[0;34m)\u001b[0m\u001b[0;34m\u001b[0m\u001b[0m\n\u001b[0m",
      "\u001b[0;31mValueError\u001b[0m: Invalid media choice"
     ]
    }
   ],
   "source": [
    "tv_aberta.media -= 1"
   ]
  },
  {
   "cell_type": "code",
   "execution_count": 13,
   "metadata": {},
   "outputs": [],
   "source": [
    "tv_aberta.media += 5"
   ]
  },
  {
   "cell_type": "code",
   "execution_count": 14,
   "metadata": {},
   "outputs": [
    {
     "name": "stdout",
     "output_type": "stream",
     "text": [
      "Playing MTV (option 5) at volume 0\n"
     ]
    }
   ],
   "source": [
    "print(tv_aberta)"
   ]
  },
  {
   "cell_type": "code",
   "execution_count": 15,
   "metadata": {},
   "outputs": [
    {
     "ename": "ValueError",
     "evalue": "Invalid media choice",
     "output_type": "error",
     "traceback": [
      "\u001b[0;31m---------------------------------------------------------------------------\u001b[0m",
      "\u001b[0;31mValueError\u001b[0m                                Traceback (most recent call last)",
      "\u001b[0;32m<ipython-input-15-5a62118a5417>\u001b[0m in \u001b[0;36m<module>\u001b[0;34m\u001b[0m\n\u001b[0;32m----> 1\u001b[0;31m \u001b[0mtv_aberta\u001b[0m\u001b[0;34m.\u001b[0m\u001b[0mmedia\u001b[0m \u001b[0;34m+=\u001b[0m \u001b[0;36m1\u001b[0m\u001b[0;34m\u001b[0m\u001b[0m\n\u001b[0m",
      "\u001b[0;32m<ipython-input-1-30daa3625ed6>\u001b[0m in \u001b[0;36mmedia\u001b[0;34m(self, media)\u001b[0m\n\u001b[1;32m     41\u001b[0m             \u001b[0mself\u001b[0m\u001b[0;34m.\u001b[0m\u001b[0m__media\u001b[0m \u001b[0;34m=\u001b[0m \u001b[0mmedia\u001b[0m\u001b[0;34m\u001b[0m\u001b[0m\n\u001b[1;32m     42\u001b[0m         \u001b[0;32melse\u001b[0m\u001b[0;34m:\u001b[0m\u001b[0;34m\u001b[0m\u001b[0m\n\u001b[0;32m---> 43\u001b[0;31m             \u001b[0;32mraise\u001b[0m \u001b[0mValueError\u001b[0m\u001b[0;34m(\u001b[0m\u001b[0;34m\"Invalid media choice\"\u001b[0m\u001b[0;34m)\u001b[0m\u001b[0;34m\u001b[0m\u001b[0m\n\u001b[0m",
      "\u001b[0;31mValueError\u001b[0m: Invalid media choice"
     ]
    }
   ],
   "source": [
    "tv_aberta.media += 1"
   ]
  },
  {
   "cell_type": "code",
   "execution_count": 16,
   "metadata": {},
   "outputs": [
    {
     "name": "stdout",
     "output_type": "stream",
     "text": [
      "Playing MTV (option 5) at volume 0\n"
     ]
    }
   ],
   "source": [
    "print(tv_aberta)"
   ]
  },
  {
   "cell_type": "code",
   "execution_count": 17,
   "metadata": {},
   "outputs": [],
   "source": [
    "class RemoteControl:\n",
    "    def __init__(self, device):\n",
    "        self.device = device\n",
    "    \n",
    "    def pair(self, device):\n",
    "        self.device = device\n",
    "    \n",
    "    def volume_up(self):\n",
    "        self.device.volume += 1\n",
    "        \n",
    "    def volume_down(self):\n",
    "        self.device.volume -= 1\n",
    "        \n",
    "    def next_media(self):\n",
    "        self.device.media += 1\n",
    "        \n",
    "    def prev_media(self):\n",
    "        self.device.media -= 1\n",
    "        \n",
    "    def change_media(self, media):\n",
    "        self.device.media = media\n",
    "        \n",
    "    def info(self):\n",
    "        print(self.device)"
   ]
  },
  {
   "cell_type": "code",
   "execution_count": 18,
   "metadata": {},
   "outputs": [],
   "source": [
    "tv_remote = RemoteControl(tv_aberta)"
   ]
  },
  {
   "cell_type": "code",
   "execution_count": 19,
   "metadata": {},
   "outputs": [
    {
     "name": "stdout",
     "output_type": "stream",
     "text": [
      "Playing MTV (option 5) at volume 0\n"
     ]
    }
   ],
   "source": [
    "tv_remote.info()"
   ]
  },
  {
   "cell_type": "code",
   "execution_count": 20,
   "metadata": {},
   "outputs": [
    {
     "name": "stdout",
     "output_type": "stream",
     "text": [
      "Playing MTV (option 5) at volume 1\n",
      "Playing MTV (option 5) at volume 2\n",
      "Playing MTV (option 5) at volume 3\n"
     ]
    }
   ],
   "source": [
    "for i in range(3):\n",
    "    tv_remote.volume_up()\n",
    "    tv_remote.info()"
   ]
  },
  {
   "cell_type": "code",
   "execution_count": 21,
   "metadata": {},
   "outputs": [
    {
     "name": "stdout",
     "output_type": "stream",
     "text": [
      "Playing MTV (option 5) at volume 2\n",
      "Playing MTV (option 5) at volume 1\n"
     ]
    }
   ],
   "source": [
    "for i in range(2):\n",
    "    tv_remote.volume_down()\n",
    "    tv_remote.info()"
   ]
  },
  {
   "cell_type": "code",
   "execution_count": 22,
   "metadata": {},
   "outputs": [
    {
     "name": "stdout",
     "output_type": "stream",
     "text": [
      "Playing SBT (option 4) at volume 1\n",
      "Playing Globo (option 3) at volume 1\n",
      "Playing Record (option 2) at volume 1\n",
      "Playing TVU (option 1) at volume 1\n"
     ]
    }
   ],
   "source": [
    "for i in range(4):\n",
    "    tv_remote.prev_media()\n",
    "    tv_remote.info()"
   ]
  },
  {
   "cell_type": "code",
   "execution_count": 23,
   "metadata": {},
   "outputs": [
    {
     "name": "stdout",
     "output_type": "stream",
     "text": [
      "Playing Record (option 2) at volume 1\n",
      "Playing Globo (option 3) at volume 1\n"
     ]
    }
   ],
   "source": [
    "for i in range(2):\n",
    "    tv_remote.next_media()\n",
    "    tv_remote.info()"
   ]
  },
  {
   "cell_type": "code",
   "execution_count": 24,
   "metadata": {},
   "outputs": [
    {
     "name": "stdout",
     "output_type": "stream",
     "text": [
      "Playing TVU (option 1) at volume 1\n",
      "Playing Band (option 0) at volume 1\n",
      "Playing Band (option 0) at volume 1\n"
     ]
    }
   ],
   "source": [
    "from random import randint\n",
    "for i in range(3):\n",
    "    tv_remote.change_media(randint(0,5))\n",
    "    tv_remote.info()"
   ]
  }
 ],
 "metadata": {
  "kernelspec": {
   "display_name": "Python 3",
   "language": "python",
   "name": "python3"
  },
  "language_info": {
   "codemirror_mode": {
    "name": "ipython",
    "version": 3
   },
   "file_extension": ".py",
   "mimetype": "text/x-python",
   "name": "python",
   "nbconvert_exporter": "python",
   "pygments_lexer": "ipython3",
   "version": "3.7.0"
  }
 },
 "nbformat": 4,
 "nbformat_minor": 2
}
