{
 "cells": [
  {
   "cell_type": "markdown",
   "metadata": {},
   "source": [
    "# Programação orientada a objetos"
   ]
  },
  {
   "cell_type": "markdown",
   "metadata": {},
   "source": [
    "Este notebook é a segunda parte de uma adaptação do tutorial [\"Python 3 Tutorial\"](https://www.python-course.eu/python3_object_oriented_programming.php), do site [python-course.eu](https://www.python-course.eu)."
   ]
  },
  {
   "cell_type": "markdown",
   "metadata": {},
   "source": [
    "## Tudo de primeira classe"
   ]
  },
  {
   "cell_type": "markdown",
   "metadata": {},
   "source": [
    "Ainda que a gente não tenha falado sobre classes e orientação a objetos até aqui, nós trabalhamos com classes o tempo todo. De fato, tudo em Python é um objeto.\n",
    "\n",
    "Guido van Rossum projetou a linguagem seguindo o princípio \"*tudo de primeira classe*\" (\"*first-class everything*\") ([neste post](http://python-history.blogspot.com/2009/02/first-class-everything.html) ele fala sobre isso, mas o foco era Python 2). \n",
    "\n",
    "Uma das muitas classes embutidas em Python é a classe `list`, que temos usado bastante em nossos exemplos. No exemplo abaixo, as referências `x` e `y` são associadas a duas instâncias da classe `list`. Simplificando, dissemos que `x` e `y` são listas. A partir de agora, vamos usar os termos **instância** e **objeto** como sinônimos."
   ]
  },
  {
   "cell_type": "code",
   "execution_count": 1,
   "metadata": {
    "collapsed": false
   },
   "outputs": [
    {
     "name": "stdout",
     "output_type": "stream",
     "text": [
      "6\n",
      "abc\n"
     ]
    }
   ],
   "source": [
    "x = [3,6,9]\n",
    "y = [45, \"abc\"]\n",
    "print(x[1])\n",
    "\n",
    "x[1] = 99\n",
    "x.append(42)\n",
    "last = y.pop()\n",
    "print(last)"
   ]
  },
  {
   "cell_type": "markdown",
   "metadata": {},
   "source": [
    "Note que nós conseguimos acessar e manipular dados contidos em uma lista através de seus métodos, mesmo sem saber como estes métodos estão representados internamente. \n",
    "\n",
    "Vamos discutir um pouco mais sobre isso."
   ]
  },
  {
   "cell_type": "markdown",
   "metadata": {},
   "source": [
    "## Abstração de dados, encapsulamento de dados e ocultação de informação"
   ]
  },
  {
   "cell_type": "markdown",
   "metadata": {},
   "source": [
    "Esses três termos costumam ser usados como sinônimos em livros e tutoriais sobre POO, mas há uma diferença entre eles.\n",
    "\n",
    "### Encapsulamento de dados\n",
    "Encapsulamento é a capacidade de ter atributos e métodos juntos em uma mesma estrutura:"
   ]
  },
  {
   "cell_type": "code",
   "execution_count": 2,
   "metadata": {
    "collapsed": true
   },
   "outputs": [],
   "source": [
    "class Person:\n",
    "    def __init__(self, name):\n",
    "        self.name = name\n",
    "\n",
    "    def __str__(self):\n",
    "        return self.name\n",
    "        \n",
    "    def change_name(self, name):\n",
    "        self.name = name"
   ]
  },
  {
   "cell_type": "code",
   "execution_count": 3,
   "metadata": {
    "collapsed": false
   },
   "outputs": [
    {
     "name": "stdout",
     "output_type": "stream",
     "text": [
      "Joao\n",
      "Maria\n"
     ]
    }
   ],
   "source": [
    "joao = Person(\"Joao\")\n",
    "maria = Person(\"Maria\")\n",
    "print(joao)\n",
    "print(maria)"
   ]
  },
  {
   "cell_type": "code",
   "execution_count": 4,
   "metadata": {
    "collapsed": false
   },
   "outputs": [
    {
     "name": "stdout",
     "output_type": "stream",
     "text": [
      "João\n"
     ]
    }
   ],
   "source": [
    "joao.change_name(\"João\")\n",
    "print(joao)"
   ]
  },
  {
   "cell_type": "code",
   "execution_count": 5,
   "metadata": {
    "collapsed": false
   },
   "outputs": [
    {
     "name": "stdout",
     "output_type": "stream",
     "text": [
      "João\n",
      "Jorge\n"
     ]
    }
   ],
   "source": [
    "print(joao.name)\n",
    "joao.name = \"Jorge\"\n",
    "print(joao)"
   ]
  },
  {
   "cell_type": "code",
   "execution_count": 6,
   "metadata": {
    "collapsed": false
   },
   "outputs": [
    {
     "name": "stdout",
     "output_type": "stream",
     "text": [
      "Jorge\n"
     ]
    }
   ],
   "source": [
    "joao.sexo = \"M\"\n",
    "print(joao)"
   ]
  },
  {
   "cell_type": "markdown",
   "metadata": {},
   "source": [
    "### Ocultação de informação\n",
    "\n",
    "Por outro lado, ocultação de informação é a proteção de dados para evitar sua alteração. Em Python, isto pode ser feito acrescentando um `__` ao início do nome do atributo que se deseja ocultar:"
   ]
  },
  {
   "cell_type": "code",
   "execution_count": 7,
   "metadata": {
    "collapsed": true
   },
   "outputs": [],
   "source": [
    "class Person:\n",
    "    def __init__(self, name, age):\n",
    "        self.name = name\n",
    "        self.__age = age\n",
    "\n",
    "    def __str__(self):\n",
    "        return \"{}: {}\".format(self.name, self.__age)\n",
    "        \n",
    "    def change_name(self, name):\n",
    "        self.name = name"
   ]
  },
  {
   "cell_type": "code",
   "execution_count": 8,
   "metadata": {
    "collapsed": false
   },
   "outputs": [
    {
     "name": "stdout",
     "output_type": "stream",
     "text": [
      "Joao: 23\n",
      "Maria: 33\n"
     ]
    }
   ],
   "source": [
    "joao = Person(\"Joao\", 23)\n",
    "maria = Person(\"Maria\", 33)\n",
    "print(joao)\n",
    "print(maria)"
   ]
  },
  {
   "cell_type": "code",
   "execution_count": 9,
   "metadata": {
    "collapsed": false
   },
   "outputs": [
    {
     "name": "stdout",
     "output_type": "stream",
     "text": [
      "João: 23\n",
      "Maria: 33\n"
     ]
    }
   ],
   "source": [
    "joao.change_name(\"João\")\n",
    "print(joao)\n",
    "maria.age = 25\n",
    "print(maria)"
   ]
  },
  {
   "cell_type": "markdown",
   "metadata": {},
   "source": [
    "É importante ressaltar que um atributo que tenha início com o prefixo `__` não é ocultado completamente do mundo externo à classe em que é definido.\n",
    "\n",
    "O que o interpretador Python faz é renomear esses atributos para o padrão `_Classe__atributo`:"
   ]
  },
  {
   "cell_type": "code",
   "execution_count": 10,
   "metadata": {
    "collapsed": false,
    "scrolled": true
   },
   "outputs": [
    {
     "name": "stdout",
     "output_type": "stream",
     "text": [
      "33\n",
      "28\n"
     ]
    }
   ],
   "source": [
    "print(maria._Person__age)\n",
    "maria._Person__age = 28\n",
    "print(maria._Person__age)"
   ]
  },
  {
   "cell_type": "markdown",
   "metadata": {},
   "source": [
    "Esse procedimento é conhecido como *desfiguração de nomes*. \n",
    "\n",
    "**O objetivo desse procedimento é evitar que um atributo seja alterado acidentalmente - não intencionalmente!**\n",
    "\n",
    "Também é possível usar apenas um underscore antes de um nome para dizer que um atributo não deve ser acessado fora de uma classe -- mas isto é apenas um acordo entre programadores (uma convenção da comunidade) e não um recurso da linguagem."
   ]
  },
  {
   "cell_type": "markdown",
   "metadata": {},
   "source": [
    "### Abstração de dados\n",
    "\n",
    "O encapsulamento de dados através de métodos não significa necessariamente que a informação esteja oculta. A simples existência de métodos para acessos a atributos não restringe o acesso direto a eles, mesmo que seja recomendável fazer uso dos métodos:"
   ]
  },
  {
   "cell_type": "code",
   "execution_count": 11,
   "metadata": {
    "collapsed": false
   },
   "outputs": [
    {
     "name": "stdout",
     "output_type": "stream",
     "text": [
      "José: 23\n"
     ]
    }
   ],
   "source": [
    "joao.name = \"José\"\n",
    "print(joao)"
   ]
  },
  {
   "cell_type": "markdown",
   "metadata": {
    "collapsed": true
   },
   "source": [
    "Assim, a abstração de dados é obtida se tanto o encapsulamento de dados como a ocultação da informação forem adotadas:\n",
    "\n",
    "**Abstração de dados = Encapsulamento de dados + Ocultação de informação**\n",
    "\n",
    "Note que para isto acontecer, dados que são considerados ocultos não devem ser acessados externamente. Na prática, no entanto, é comum que dados ocultos sejam acessados através de acessores (*getters*) e modificadores (*setters*). É comum que IDEs até reclamem se você esquecer de implementar getters e setters para um atributo privado!\n",
    "\n",
    "A forma pythônica de lidar com abstração de dados é evitar a ocultação de informação, adotando como convenção que todo atributo seja público.\n",
    "\n",
    "No entanto, é possível que ao longo do ciclo de vida do seu código um atributo precise ser ocultado. Em Python, usamos propriedades para controlar o acesso/modificação de um atributo:"
   ]
  },
  {
   "cell_type": "code",
   "execution_count": 12,
   "metadata": {
    "collapsed": true
   },
   "outputs": [],
   "source": [
    "class Person:\n",
    "    def __init__(self, name, age):\n",
    "        self.name = name\n",
    "        self.age = age\n",
    "\n",
    "    def __str__(self):\n",
    "        return \"{}: {}\".format(self.name, self.age)\n",
    "\n",
    "    @property\n",
    "    def name(self):\n",
    "        print(\"Getting name\")\n",
    "        return self.__name\n",
    "    \n",
    "    @name.setter\n",
    "    def name(self, name):\n",
    "        print(\"Setting name\")\n",
    "        self.__name = name\n",
    "        \n",
    "    @property\n",
    "    def age(self):\n",
    "        print(\"Getting age\")\n",
    "        return self.__age\n",
    "    \n",
    "    @age.setter\n",
    "    def age(self, age):\n",
    "        print(\"Setting age\")\n",
    "        if age < 0:\n",
    "            raise ValueError\n",
    "        else:\n",
    "            self.__age = age"
   ]
  },
  {
   "cell_type": "code",
   "execution_count": 13,
   "metadata": {
    "collapsed": false
   },
   "outputs": [
    {
     "name": "stdout",
     "output_type": "stream",
     "text": [
      "Setting name\n",
      "Setting age\n"
     ]
    },
    {
     "ename": "ValueError",
     "evalue": "",
     "output_type": "error",
     "traceback": [
      "\u001b[0;31m---------------------------------------------------------------------------\u001b[0m",
      "\u001b[0;31mValueError\u001b[0m                                Traceback (most recent call last)",
      "\u001b[0;32m<ipython-input-13-24dc3f717858>\u001b[0m in \u001b[0;36m<module>\u001b[0;34m()\u001b[0m\n\u001b[0;32m----> 1\u001b[0;31m \u001b[0mPerson\u001b[0m\u001b[0;34m(\u001b[0m\u001b[0;34m\"Leo\"\u001b[0m\u001b[0;34m,\u001b[0m\u001b[0;34m-\u001b[0m\u001b[0;36m2\u001b[0m\u001b[0;34m)\u001b[0m\u001b[0;34m\u001b[0m\u001b[0m\n\u001b[0m",
      "\u001b[0;32m<ipython-input-12-e1d38d160049>\u001b[0m in \u001b[0;36m__init__\u001b[0;34m(self, name, age)\u001b[0m\n\u001b[1;32m      2\u001b[0m     \u001b[0;32mdef\u001b[0m \u001b[0m__init__\u001b[0m\u001b[0;34m(\u001b[0m\u001b[0mself\u001b[0m\u001b[0;34m,\u001b[0m \u001b[0mname\u001b[0m\u001b[0;34m,\u001b[0m \u001b[0mage\u001b[0m\u001b[0;34m)\u001b[0m\u001b[0;34m:\u001b[0m\u001b[0;34m\u001b[0m\u001b[0m\n\u001b[1;32m      3\u001b[0m         \u001b[0mself\u001b[0m\u001b[0;34m.\u001b[0m\u001b[0mname\u001b[0m \u001b[0;34m=\u001b[0m \u001b[0mname\u001b[0m\u001b[0;34m\u001b[0m\u001b[0m\n\u001b[0;32m----> 4\u001b[0;31m         \u001b[0mself\u001b[0m\u001b[0;34m.\u001b[0m\u001b[0mage\u001b[0m \u001b[0;34m=\u001b[0m \u001b[0mage\u001b[0m\u001b[0;34m\u001b[0m\u001b[0m\n\u001b[0m\u001b[1;32m      5\u001b[0m \u001b[0;34m\u001b[0m\u001b[0m\n\u001b[1;32m      6\u001b[0m     \u001b[0;32mdef\u001b[0m \u001b[0m__str__\u001b[0m\u001b[0;34m(\u001b[0m\u001b[0mself\u001b[0m\u001b[0;34m)\u001b[0m\u001b[0;34m:\u001b[0m\u001b[0;34m\u001b[0m\u001b[0m\n",
      "\u001b[0;32m<ipython-input-12-e1d38d160049>\u001b[0m in \u001b[0;36mage\u001b[0;34m(self, age)\u001b[0m\n\u001b[1;32m     26\u001b[0m         \u001b[0mprint\u001b[0m\u001b[0;34m(\u001b[0m\u001b[0;34m\"Setting age\"\u001b[0m\u001b[0;34m)\u001b[0m\u001b[0;34m\u001b[0m\u001b[0m\n\u001b[1;32m     27\u001b[0m         \u001b[0;32mif\u001b[0m \u001b[0mage\u001b[0m \u001b[0;34m<\u001b[0m \u001b[0;36m0\u001b[0m\u001b[0;34m:\u001b[0m\u001b[0;34m\u001b[0m\u001b[0m\n\u001b[0;32m---> 28\u001b[0;31m             \u001b[0;32mraise\u001b[0m \u001b[0mValueError\u001b[0m\u001b[0;34m\u001b[0m\u001b[0m\n\u001b[0m\u001b[1;32m     29\u001b[0m         \u001b[0;32melse\u001b[0m\u001b[0;34m:\u001b[0m\u001b[0;34m\u001b[0m\u001b[0m\n\u001b[1;32m     30\u001b[0m             \u001b[0mself\u001b[0m\u001b[0;34m.\u001b[0m\u001b[0m__age\u001b[0m \u001b[0;34m=\u001b[0m \u001b[0mage\u001b[0m\u001b[0;34m\u001b[0m\u001b[0m\n",
      "\u001b[0;31mValueError\u001b[0m: "
     ]
    }
   ],
   "source": [
    "Person(\"Leo\",-2)"
   ]
  },
  {
   "cell_type": "code",
   "execution_count": 14,
   "metadata": {
    "collapsed": false
   },
   "outputs": [
    {
     "name": "stdout",
     "output_type": "stream",
     "text": [
      "-- creating joao --\n",
      "Setting name\n",
      "Setting age\n",
      "-- creating maria --\n",
      "Setting name\n",
      "Setting age\n",
      "-- printing joao --\n",
      "Getting name\n",
      "Getting age\n",
      "Joao: 23\n",
      "-- printing maria --\n",
      "Getting name\n",
      "Getting age\n",
      "Maria: 33\n"
     ]
    }
   ],
   "source": [
    "print(\"-- creating joao --\")\n",
    "joao = Person(\"Joao\", 23)\n",
    "print(\"-- creating maria --\")\n",
    "maria = Person(\"Maria\", 33)\n",
    "print(\"-- printing joao --\")\n",
    "print(joao)\n",
    "print(\"-- printing maria --\")\n",
    "print(maria)"
   ]
  },
  {
   "cell_type": "code",
   "execution_count": 15,
   "metadata": {
    "collapsed": false
   },
   "outputs": [
    {
     "name": "stdout",
     "output_type": "stream",
     "text": [
      "-- changing joao --\n",
      "Setting name\n",
      "-- printing joao --\n",
      "Getting name\n",
      "Getting age\n",
      "João: 23\n",
      "-- changing maria --\n",
      "Setting age\n"
     ]
    },
    {
     "ename": "ValueError",
     "evalue": "",
     "output_type": "error",
     "traceback": [
      "\u001b[0;31m---------------------------------------------------------------------------\u001b[0m",
      "\u001b[0;31mValueError\u001b[0m                                Traceback (most recent call last)",
      "\u001b[0;32m<ipython-input-15-6b6f486b8351>\u001b[0m in \u001b[0;36m<module>\u001b[0;34m()\u001b[0m\n\u001b[1;32m      4\u001b[0m \u001b[0mprint\u001b[0m\u001b[0;34m(\u001b[0m\u001b[0mjoao\u001b[0m\u001b[0;34m)\u001b[0m\u001b[0;34m\u001b[0m\u001b[0m\n\u001b[1;32m      5\u001b[0m \u001b[0mprint\u001b[0m\u001b[0;34m(\u001b[0m\u001b[0;34m\"-- changing maria --\"\u001b[0m\u001b[0;34m)\u001b[0m\u001b[0;34m\u001b[0m\u001b[0m\n\u001b[0;32m----> 6\u001b[0;31m \u001b[0mmaria\u001b[0m\u001b[0;34m.\u001b[0m\u001b[0mage\u001b[0m \u001b[0;34m=\u001b[0m \u001b[0;34m-\u001b[0m\u001b[0;36m1\u001b[0m\u001b[0;34m\u001b[0m\u001b[0m\n\u001b[0m\u001b[1;32m      7\u001b[0m \u001b[0mprint\u001b[0m\u001b[0;34m(\u001b[0m\u001b[0;34m\"-- printing maria --\"\u001b[0m\u001b[0;34m)\u001b[0m\u001b[0;34m\u001b[0m\u001b[0m\n\u001b[1;32m      8\u001b[0m \u001b[0mprint\u001b[0m\u001b[0;34m(\u001b[0m\u001b[0mmaria\u001b[0m\u001b[0;34m)\u001b[0m\u001b[0;34m\u001b[0m\u001b[0m\n",
      "\u001b[0;32m<ipython-input-12-e1d38d160049>\u001b[0m in \u001b[0;36mage\u001b[0;34m(self, age)\u001b[0m\n\u001b[1;32m     26\u001b[0m         \u001b[0mprint\u001b[0m\u001b[0;34m(\u001b[0m\u001b[0;34m\"Setting age\"\u001b[0m\u001b[0;34m)\u001b[0m\u001b[0;34m\u001b[0m\u001b[0m\n\u001b[1;32m     27\u001b[0m         \u001b[0;32mif\u001b[0m \u001b[0mage\u001b[0m \u001b[0;34m<\u001b[0m \u001b[0;36m0\u001b[0m\u001b[0;34m:\u001b[0m\u001b[0;34m\u001b[0m\u001b[0m\n\u001b[0;32m---> 28\u001b[0;31m             \u001b[0;32mraise\u001b[0m \u001b[0mValueError\u001b[0m\u001b[0;34m\u001b[0m\u001b[0m\n\u001b[0m\u001b[1;32m     29\u001b[0m         \u001b[0;32melse\u001b[0m\u001b[0;34m:\u001b[0m\u001b[0;34m\u001b[0m\u001b[0m\n\u001b[1;32m     30\u001b[0m             \u001b[0mself\u001b[0m\u001b[0;34m.\u001b[0m\u001b[0m__age\u001b[0m \u001b[0;34m=\u001b[0m \u001b[0mage\u001b[0m\u001b[0;34m\u001b[0m\u001b[0m\n",
      "\u001b[0;31mValueError\u001b[0m: "
     ]
    }
   ],
   "source": [
    "print(\"-- changing joao --\")\n",
    "joao.name = \"João\"\n",
    "print(\"-- printing joao --\")\n",
    "print(joao)\n",
    "print(\"-- changing maria --\")\n",
    "maria.age = -1\n",
    "print(\"-- printing maria --\")\n",
    "print(maria)"
   ]
  },
  {
   "cell_type": "code",
   "execution_count": 16,
   "metadata": {
    "collapsed": true
   },
   "outputs": [],
   "source": [
    "maria._Person__age = -1"
   ]
  },
  {
   "cell_type": "code",
   "execution_count": 17,
   "metadata": {
    "collapsed": false
   },
   "outputs": [
    {
     "name": "stdout",
     "output_type": "stream",
     "text": [
      "Getting name\n",
      "Getting age\n",
      "Maria: -1\n"
     ]
    }
   ],
   "source": [
    "print(maria)"
   ]
  },
  {
   "cell_type": "markdown",
   "metadata": {},
   "source": [
    "Note que tanto internamente como externamente a classe Person trata os atributos `name` e `age` como se fossem públicos.\n",
    "\n",
    "**O intuito do decorador `@property` é permitir o tratamento do acesso e da modificação dos atributos presentes em uma classe, não evitá-lo!**\n",
    "\n",
    "Há duas vantagens principais na abordagem adotada pelo Python:\n",
    "- a legibilidade do código sem getters e setters é consideravelmente maior. Compare a versão com `@property`"
   ]
  },
  {
   "cell_type": "code",
   "execution_count": 18,
   "metadata": {
    "collapsed": false
   },
   "outputs": [
    {
     "name": "stdout",
     "output_type": "stream",
     "text": [
      "-- changing joao --\n",
      "Getting name\n",
      "Setting name\n",
      "-- printing joao --\n",
      "Getting name\n",
      "Getting age\n",
      "João Maria: 23\n"
     ]
    }
   ],
   "source": [
    "print(\"-- changing joao --\")\n",
    "joao.name += \" Maria\"\n",
    "print(\"-- printing joao --\")\n",
    "print(joao)"
   ]
  },
  {
   "cell_type": "markdown",
   "metadata": {},
   "source": [
    "com a versão sem `@property`:\n",
    "\n",
    "`joao.set_name(joao.get_name() + \" Maria\")`"
   ]
  },
  {
   "cell_type": "markdown",
   "metadata": {},
   "source": [
    "- seu código pode começar de forma simples, sendo incrementado apenas quando necessário. Veja que o exemplo abaixo é retrocompatível com a classe Person definida anteriormente:"
   ]
  },
  {
   "cell_type": "code",
   "execution_count": 19,
   "metadata": {
    "collapsed": false
   },
   "outputs": [
    {
     "name": "stdout",
     "output_type": "stream",
     "text": [
      "Joao: 23\n",
      "Maria: 33\n",
      "João: 23\n",
      "Maria: 25\n"
     ]
    }
   ],
   "source": [
    "class Person:\n",
    "    def __init__(self, name, age):\n",
    "        self.name = name\n",
    "        self.age = age\n",
    "\n",
    "    def __str__(self):\n",
    "        return \"{}: {}\".format(self.name, self.age)\n",
    "\n",
    "joao = Person(\"Joao\", 23)\n",
    "maria = Person(\"Maria\", 33)\n",
    "print(joao)\n",
    "print(maria)\n",
    "\n",
    "joao.name = \"João\"\n",
    "print(joao)\n",
    "maria.age = 25\n",
    "print(maria)"
   ]
  },
  {
   "cell_type": "markdown",
   "metadata": {},
   "source": [
    "Assim, você pode escolher adicionar ou remover acessores e modificadores ao longo da existência do seu código sem que o usuário note a diferença ;)"
   ]
  },
  {
   "cell_type": "markdown",
   "metadata": {},
   "source": [
    "### Outros usos do decorador `@property`"
   ]
  },
  {
   "cell_type": "markdown",
   "metadata": {},
   "source": [
    "Usando `@property` é possível criar um acessor sem um modificador, mas não o contrário. Quando fazemos isto, estamos dizendo que o atributo é somente leitura:"
   ]
  },
  {
   "cell_type": "code",
   "execution_count": 20,
   "metadata": {
    "collapsed": false
   },
   "outputs": [
    {
     "name": "stdout",
     "output_type": "stream",
     "text": [
      "Joao: 23\n",
      "Maria: 33\n"
     ]
    },
    {
     "ename": "AttributeError",
     "evalue": "can't set attribute",
     "output_type": "error",
     "traceback": [
      "\u001b[0;31m---------------------------------------------------------------------------\u001b[0m",
      "\u001b[0;31mAttributeError\u001b[0m                            Traceback (most recent call last)",
      "\u001b[0;32m<ipython-input-20-86c98de8f12c>\u001b[0m in \u001b[0;36m<module>\u001b[0;34m()\u001b[0m\n\u001b[1;32m     16\u001b[0m \u001b[0mprint\u001b[0m\u001b[0;34m(\u001b[0m\u001b[0mmaria\u001b[0m\u001b[0;34m)\u001b[0m\u001b[0;34m\u001b[0m\u001b[0m\n\u001b[1;32m     17\u001b[0m \u001b[0;34m\u001b[0m\u001b[0m\n\u001b[0;32m---> 18\u001b[0;31m \u001b[0mjoao\u001b[0m\u001b[0;34m.\u001b[0m\u001b[0mname\u001b[0m \u001b[0;34m=\u001b[0m \u001b[0;34m\"João\"\u001b[0m\u001b[0;34m\u001b[0m\u001b[0m\n\u001b[0m\u001b[1;32m     19\u001b[0m \u001b[0mprint\u001b[0m\u001b[0;34m(\u001b[0m\u001b[0mjoao\u001b[0m\u001b[0;34m)\u001b[0m\u001b[0;34m\u001b[0m\u001b[0m\n\u001b[1;32m     20\u001b[0m \u001b[0mmaria\u001b[0m\u001b[0;34m.\u001b[0m\u001b[0mage\u001b[0m \u001b[0;34m=\u001b[0m \u001b[0;36m25\u001b[0m\u001b[0;34m\u001b[0m\u001b[0m\n",
      "\u001b[0;31mAttributeError\u001b[0m: can't set attribute"
     ]
    }
   ],
   "source": [
    "class Person:\n",
    "    def __init__(self, name, age):\n",
    "        self.__name = name\n",
    "        self.age = age\n",
    "\n",
    "    def __str__(self):\n",
    "        return \"{}: {}\".format(self.name, self.age)\n",
    "    \n",
    "    @property\n",
    "    def name(self):\n",
    "        return self.__name\n",
    "\n",
    "joao = Person(\"Joao\", 23)\n",
    "maria = Person(\"Maria\", 33)\n",
    "print(joao)\n",
    "print(maria)\n",
    "\n",
    "joao.name = \"João\"\n",
    "print(joao)\n",
    "maria.age = 25\n",
    "print(maria)"
   ]
  },
  {
   "cell_type": "markdown",
   "metadata": {},
   "source": [
    "Também é possível definir uma `@property` a partir de um método:"
   ]
  },
  {
   "cell_type": "code",
   "execution_count": 21,
   "metadata": {
    "collapsed": false
   },
   "outputs": [
    {
     "name": "stdout",
     "output_type": "stream",
     "text": [
      "Joao Silva: 23\n",
      "Maria Santos: 33\n",
      "João Silva: 23\n",
      "Maria Santos: 25\n"
     ]
    }
   ],
   "source": [
    "class Person:\n",
    "    def __init__(self, name, last_name, age):\n",
    "        self.name = name\n",
    "        self.last_name = last_name\n",
    "        self.age = age\n",
    "\n",
    "    def __str__(self):\n",
    "        return \"{}: {}\".format(self.fullname, self.age)\n",
    "    \n",
    "    @property\n",
    "    def fullname(self):\n",
    "        return \"{} {}\".format(self.name, self.last_name)\n",
    "\n",
    "joao = Person(\"Joao\", \"Silva\", 23)\n",
    "maria = Person(\"Maria\", \"Santos\", 33)\n",
    "print(joao)\n",
    "print(maria)\n",
    "\n",
    "joao.name = \"João\"\n",
    "print(joao)\n",
    "maria.age = 25\n",
    "print(maria)"
   ]
  },
  {
   "cell_type": "markdown",
   "metadata": {},
   "source": [
    "Note que a `@property` criada fica visível também fora da classe:"
   ]
  },
  {
   "cell_type": "code",
   "execution_count": 22,
   "metadata": {
    "collapsed": false
   },
   "outputs": [
    {
     "name": "stdout",
     "output_type": "stream",
     "text": [
      "João Silva\n"
     ]
    }
   ],
   "source": [
    "print(joao.fullname)"
   ]
  },
  {
   "cell_type": "markdown",
   "metadata": {},
   "source": [
    "Mas a property não é considerada um atributo do objeto:"
   ]
  },
  {
   "cell_type": "code",
   "execution_count": 23,
   "metadata": {
    "collapsed": false
   },
   "outputs": [
    {
     "name": "stdout",
     "output_type": "stream",
     "text": [
      "{'name': 'João', 'last_name': 'Silva', 'age': 23}\n"
     ]
    }
   ],
   "source": [
    "print(joao.__dict__)"
   ]
  },
  {
   "cell_type": "markdown",
   "metadata": {},
   "source": [
    "**Obs.: não faz sentido criar um modificador para esta `@property`.**"
   ]
  }
 ],
 "metadata": {
  "kernelspec": {
   "display_name": "Python 3",
   "language": "python",
   "name": "python3"
  },
  "language_info": {
   "codemirror_mode": {
    "name": "ipython",
    "version": 3
   },
   "file_extension": ".py",
   "mimetype": "text/x-python",
   "name": "python",
   "nbconvert_exporter": "python",
   "pygments_lexer": "ipython3",
   "version": "3.5.2"
  }
 },
 "nbformat": 4,
 "nbformat_minor": 1
}
