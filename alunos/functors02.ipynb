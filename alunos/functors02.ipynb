{
 "cells": [
  {
   "cell_type": "markdown",
   "metadata": {
    "colab_type": "text",
    "id": "It4mZPwgzuJ8"
   },
   "source": [
    "# FUNCTORS\n",
    "\n",
    "#### Autores: Chianc Leocadio, Daniel Leiros, Vitor Henrique\n",
    "\n",
    "Um functor é um objeto que pode ser chamado, portanto, em termos de Python, esse é um método especial. Ele é utilizado para abstrair/esconder a implementação do código de maneira que , por exemplo, seja possível tratar implicitamente o uso de um procedimento para  diferentes tipos de entrada.\n",
    "\n",
    "O uso de functors possibilita uma mudança na estratégia interna de implementação de um código sem que pertube com o código do lado do usuário. \n"
   ]
  },
  {
   "cell_type": "markdown",
   "metadata": {
    "colab_type": "text",
    "id": "OBJRozlb7VrE"
   },
   "source": [
    "### Exemplo 1\n",
    "  O exemplo a seguir evidencia uma simples operação baseada na noção de functors, onde o objeto é chamado  e realiza operações de soma em sequência. "
   ]
  },
  {
   "cell_type": "code",
   "execution_count": 0,
   "metadata": {
    "colab": {},
    "colab_type": "code",
    "collapsed": true,
    "id": "eJ2hbhAE7hEl"
   },
   "outputs": [],
   "source": [
    "class Acumulador(object):\n",
    "    def __init__(self, num=0):\n",
    "        self.num = num\n",
    "    def __call__(self, x):\n",
    "        self.num += x\n",
    "        return self.num\n",
    "      "
   ]
  },
  {
   "cell_type": "code",
   "execution_count": 11,
   "metadata": {
    "colab": {
     "base_uri": "https://localhost:8080/",
     "height": 88
    },
    "colab_type": "code",
    "collapsed": false,
    "id": "nm77rG46dncB",
    "outputId": "a61f002a-4d5c-450d-9797-34a8873ac320"
   },
   "outputs": [
    {
     "name": "stdout",
     "output_type": "stream",
     "text": [
      "9\n",
      "11\n",
      "20\n",
      "60\n"
     ]
    }
   ],
   "source": [
    "# Cria uma instância e inicializa com num = 4\n",
    "acc = Acumulador(4)\n",
    "# recupera 4 e soma 5\n",
    "print(acc(5))  # 9\n",
    "# recupera 9 e soma 2\n",
    "print(acc(2))  # 11\n",
    "# recupera 11 e soma 9\n",
    "print(acc(9))  # 20\n",
    "# aumentando a complexidade...\n",
    "print(acc(acc(10)))   # 60"
   ]
  },
  {
   "cell_type": "markdown",
   "metadata": {
    "colab_type": "text",
    "id": "eWctYp-r4qmi"
   },
   "source": [
    "### Exemplo 2\n",
    "\n",
    "Neste próximo exemplo criamos uma instância do functor \"strip\" inicializando-o com o valor \",;:.!?\". Sempre que a instância é chamada, ela retorna a string com os caracteres de pontuação removidos. "
   ]
  },
  {
   "cell_type": "code",
   "execution_count": 0,
   "metadata": {
    "colab": {},
    "colab_type": "code",
    "collapsed": true,
    "id": "4DZ5Hfue5SHg"
   },
   "outputs": [],
   "source": [
    "class strip(object):\n",
    "    def __init__(self,characters):\n",
    "        self.characters = characters\n",
    "    def __call__(self, string):\n",
    "        return string.strip(self.characters)"
   ]
  },
  {
   "cell_type": "code",
   "execution_count": 3,
   "metadata": {
    "colab": {
     "base_uri": "https://localhost:8080/",
     "height": 35
    },
    "colab_type": "code",
    "collapsed": false,
    "id": "JMDpULXj56ZF",
    "outputId": "442a6989-fe6a-4b10-9298-b3a16b54654d"
   },
   "outputs": [
    {
     "data": {
      "text/plain": [
       "'Hello World'"
      ]
     },
     "execution_count": 3,
     "metadata": {
      "tags": []
     },
     "output_type": "execute_result"
    }
   ],
   "source": [
    "strip_ponctuation = strip(\",;:.!?\")\n",
    "strip_ponctuation(\"Hello World!\")"
   ]
  },
  {
   "cell_type": "markdown",
   "metadata": {
    "colab_type": "text",
    "id": "kh69yLks4LT_"
   },
   "source": [
    "### Exemplos 3\n",
    "\n",
    "O exemplo a seguir mostra como é possível criar uma classe Functor que utilize tipos de ordenação diferentes para listas dos tipos `int` e `float` quando for chamada pela classe Caller."
   ]
  },
  {
   "cell_type": "code",
   "execution_count": 0,
   "metadata": {
    "colab": {},
    "colab_type": "code",
    "collapsed": true,
    "id": "P0KHcu0fztpc"
   },
   "outputs": [],
   "source": [
    "class Functor(object):\n",
    "    def __init__(self, n = 10):\n",
    "        self.n = n\n",
    "    \n",
    "    def __call__(self,x):\n",
    "        x_first = x[0]\n",
    "        if type(x_first) is int:\n",
    "            self.__mergeSort(x,0,len(x)-1)\n",
    "            return x\n",
    "        elif type(x_first) is float:\n",
    "            self.__heapSort(x)\n",
    "            return x\n",
    "    \n",
    "    def __merge(self,arr, l, m, r): \n",
    "        n1 = m - l + 1\n",
    "        n2 = r- m \n",
    "  \n",
    "        L = [0]*(n1) \n",
    "        R = [0]*(n2) \n",
    "  \n",
    "        for i in range(0 , n1): \n",
    "            L[i] = arr[l + i] \n",
    "\n",
    "        for j in range(0 , n2): \n",
    "            R[j] = arr[m + 1 + j]\n",
    "            \n",
    "        i = 0     \n",
    "        j = 0      \n",
    "        k = l\n",
    "        \n",
    "        while i < n1 and j < n2 : \n",
    "            if L[i] <= R[j]: \n",
    "                arr[k] = L[i] \n",
    "                i += 1\n",
    "            else: \n",
    "                arr[k] = R[j] \n",
    "                j += 1\n",
    "            k += 1\n",
    "\n",
    "        while i < n1: \n",
    "            arr[k] = L[i] \n",
    "            i += 1\n",
    "            k += 1\n",
    "\n",
    "        while j < n2: \n",
    "            arr[k] = R[j] \n",
    "            j += 1\n",
    "            k += 1 \n",
    "    \n",
    "    def __mergeSort(self,arr,l,r):\n",
    "        if l < r: \n",
    "            m = int((l+(r-1))/2)\n",
    "        \n",
    "            self.__mergeSort(arr, l, m) \n",
    "            self.__mergeSort(arr, m+1, r) \n",
    "            self.__merge(arr, l, m, r) \n",
    "  \n",
    "    def __heap(self,arr,n,i):\n",
    "        largest = i  \n",
    "        l = 2 * i + 1      \n",
    "        r = 2 * i + 2      \n",
    "  \n",
    "        if l < n and arr[i] < arr[l]: \n",
    "            largest = l \n",
    "  \n",
    "        if r < n and arr[largest] < arr[r]: \n",
    "            largest = r \n",
    "\n",
    "        if largest != i: \n",
    "            arr[i],arr[largest] = arr[largest],arr[i] \n",
    "            self.__heap(arr, n, largest)\n",
    "  \n",
    "    def __heapSort(self,arr):\n",
    "        n = len(arr)\n",
    "        for i in range(n,-1,-1):\n",
    "            self.__heap(arr,n,i)\n",
    "      \n",
    "        for i in range(n-1, 0, -1): \n",
    "            arr[i], arr[0] = arr[0], arr[i]  \n",
    "            self.__heap(arr, i, 0)\n",
    "  \n",
    "\n",
    "    \n",
    "  "
   ]
  },
  {
   "cell_type": "code",
   "execution_count": 0,
   "metadata": {
    "colab": {},
    "colab_type": "code",
    "collapsed": true,
    "id": "O_xpwbz9_gvG"
   },
   "outputs": [],
   "source": [
    "class Caller(object):\n",
    "    def __init__(self):\n",
    "        self.sort = Functor()\n",
    "    def doS(self,x):\n",
    "        return self.sort(x)\n",
    "  "
   ]
  },
  {
   "cell_type": "code",
   "execution_count": 0,
   "metadata": {
    "colab": {},
    "colab_type": "code",
    "collapsed": true,
    "id": "a5aNTM5e_iBb"
   },
   "outputs": [],
   "source": [
    "Call = Caller()"
   ]
  },
  {
   "cell_type": "code",
   "execution_count": 7,
   "metadata": {
    "colab": {
     "base_uri": "https://localhost:8080/",
     "height": 35
    },
    "colab_type": "code",
    "collapsed": false,
    "id": "6hWil2WG_vh9",
    "outputId": "c61b5b0f-5c54-41cc-c45c-92fc53c74c81"
   },
   "outputs": [
    {
     "data": {
      "text/plain": [
       "[-99, -1, 0, 1, 2, 3]"
      ]
     },
     "execution_count": 7,
     "metadata": {
      "tags": []
     },
     "output_type": "execute_result"
    }
   ],
   "source": [
    "Call.doS([1,3,2,0,-1,-99])"
   ]
  },
  {
   "cell_type": "code",
   "execution_count": 8,
   "metadata": {
    "colab": {
     "base_uri": "https://localhost:8080/",
     "height": 35
    },
    "colab_type": "code",
    "collapsed": false,
    "id": "xrHpGKYAAA_g",
    "outputId": "a372470f-625c-4ce4-a126-3f9d895cb7be"
   },
   "outputs": [
    {
     "data": {
      "text/plain": [
       "[1.7, 1.93343, 3.4, 90.3]"
      ]
     },
     "execution_count": 8,
     "metadata": {
      "tags": []
     },
     "output_type": "execute_result"
    }
   ],
   "source": [
    "Call.doS([1.93343,1.7,90.3,3.4])"
   ]
  },
  {
   "cell_type": "markdown",
   "metadata": {
    "colab_type": "text",
    "id": "zwPO9GXX6vE6"
   },
   "source": [
    "## Discussões\n",
    "\n",
    "* Poderíamos conseguir trabalhar com a mesma ideia de abstração através de uma função simples ou lambda, mas isso iria impedir o armazenamento de um estado ou executar um processamento mais complexo.\n",
    "\n",
    "* A habilidade de um functor de capturar estados usando uma classe é muito versátil e poderosa, mas às vezes é mais do que realmente precisamos."
   ]
  },
  {
   "cell_type": "markdown",
   "metadata": {
    "colab_type": "text",
    "id": "_6CeUyPdzqSM"
   },
   "source": [
    "## Referências\n",
    "\n",
    "Esse notebook foi construído mediante consulta a estas referências:\n",
    "\n",
    "*   https://www.geeksforgeeks.org/functors-use-python/.\n",
    "* SUMMERFIELD, MARK. Advanced Python 3 Programming Techniques.\n",
    "\n",
    "\n"
   ]
  }
 ],
 "metadata": {
  "colab": {
   "collapsed_sections": [],
   "name": "Functors-final.ipynb",
   "provenance": [],
   "version": "0.3.2"
  },
  "kernelspec": {
   "display_name": "Python 3",
   "language": "python",
   "name": "python3"
  },
  "language_info": {
   "codemirror_mode": {
    "name": "ipython",
    "version": 3
   },
   "file_extension": ".py",
   "mimetype": "text/x-python",
   "name": "python",
   "nbconvert_exporter": "python",
   "pygments_lexer": "ipython3",
   "version": "3.5.2"
  }
 },
 "nbformat": 4,
 "nbformat_minor": 0
}
