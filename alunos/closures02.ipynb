{
  "nbformat": 4,
  "nbformat_minor": 0,
  "metadata": {
    "colab": {
      "name": "Closures & Variáveis livres.ipynb",
      "version": "0.3.2",
      "provenance": [],
      "collapsed_sections": [],
      "toc_visible": true
    },
    "kernelspec": {
      "name": "python3",
      "display_name": "Python 3"
    }
  },
  "cells": [
    {
      "metadata": {
        "id": "BDwgn31wTcJB",
        "colab_type": "text"
      },
      "cell_type": "markdown",
      "source": [
        "# Closures\n",
        "## Definição\n",
        "Antes de definir Closure, é necessário revisar o conceito de `nested function`  \n",
        "### `nested function`\n",
        "Uma `nested function` ou uma função aninhada ocorre quando definimos uma função dentro de outra. Ex:  \n",
        "```python\n",
        "def funcao_externa(var):\n",
        "  # Corpo da funcao externa\n",
        "  def funcao_interna():\n",
        "      # Corpo da funcao interna\n",
        "      print(var)\n",
        "      \n",
        "  funcao_interna()\n",
        "```\n",
        "Nesse exemplo, definimos uma função interna dentro de uma externa. A função externa possui um parâmetro e em seu final, chama a função interna que foi declarada em seu escopo (função aninhada).  \n",
        "Como o exemplo está agora, não conseguimos modificar dentro da função interna os valores da função externa. Para fazer isso, devemos declarar a variável que queremos modificar como `nonlocal` e então seguir com a modificação. Quando fazemos isso, o valor da variável no escopo externo também é modificado. Ex:  \n",
        "```python\n",
        "def funcao_externa(var):\n",
        "  # Corpo da funcao externa\n",
        "  def funcao_interna():\n",
        "      # Corpo da funcao interna\n",
        "      nonlocal var\n",
        "      var += \" modificada na funcao interna\"\n",
        "      print(var + \" : sendo impresso na funcao interna\")\n",
        "      \n",
        "  print(var + \" : sendo impresso na funcao externa antes da chamada da interna\")\n",
        "  funcao_interna()\n",
        "  print(var + \" : sendo impresso na funcao externa apos a chamada da interna\")\n",
        "  \n",
        "funcao_externa(\"msg\")\n",
        "```\n",
        "### Closure\n",
        "Uma Closure é uma função objeto (uma função interna) que \"lembra\" valores de um escopo exterior (da função externa) mesmo se eles não estiverem presentes na memória. É como se os valores fossem anexados ao código e pudessem ser acessados mesmo após o final da função externa. Ex:\n",
        "```python\n",
        "def funcao_externa(var):\n",
        "  # Corpo da funcao externa\n",
        "  def funcao_interna():\n",
        "      # Corpo da funcao interna\n",
        "      print(var)\n",
        "      \n",
        "  return funcao_interna\n",
        "\n",
        "func = funcao_externa(\"oi\")\n",
        "func()\n",
        "```\n",
        "\n",
        "## Por que usar?\n",
        "Closures podem evitar o uso de valores globais e fornecem uma forma de ocultação de valores que pode ser interessante dado o contexto. Ex:  \n",
        "```python\n",
        "def somar_com(x):\n",
        "    def soma(y):\n",
        "        return x+y\n",
        "    return soma\n",
        "\n",
        "soma_3 = somar_com(3)\n",
        "soma_5 = somar_com(5)\n",
        "soma_3(soma_5(1))\n",
        "```"
      ]
    },
    {
      "metadata": {
        "id": "NyNGXyDVU5bD",
        "colab_type": "code",
        "outputId": "94d3ab14-da3a-4ecf-b90c-8af676a91669",
        "colab": {
          "base_uri": "https://localhost:8080/",
          "height": 34
        }
      },
      "cell_type": "code",
      "source": [
        "# Primeiro código\n",
        "def funcao_externa(var):\n",
        "  # Corpo da funcao externa\n",
        "  def funcao_interna():\n",
        "      # Corpo da funcao interna\n",
        "      print(var)\n",
        "\n",
        "  funcao_interna()\n",
        "  \n",
        "funcao_externa(\"oi\")"
      ],
      "execution_count": 0,
      "outputs": [
        {
          "output_type": "stream",
          "text": [
            "oi\n"
          ],
          "name": "stdout"
        }
      ]
    },
    {
      "metadata": {
        "id": "-QYRofD-bp1j",
        "colab_type": "code",
        "outputId": "79489c34-37ca-4378-f013-a0110efce541",
        "colab": {
          "base_uri": "https://localhost:8080/",
          "height": 88
        }
      },
      "cell_type": "code",
      "source": [
        "# Segundo código\n",
        "def funcao_externa(var):\n",
        "  # Corpo da funcao externa\n",
        "  def funcao_interna():\n",
        "      # Corpo da funcao interna\n",
        "      nonlocal var\n",
        "      var += \" modificada na funcao interna\"\n",
        "      print(var + \" : sendo impresso na funcao interna\")\n",
        "\n",
        "  print(var + \" : sendo impresso na funcao externa antes da chamada da interna\")\n",
        "  funcao_interna()\n",
        "  print(var + \" : sendo impresso na funcao externa apos a chamada da interna\")\n",
        "\n",
        "funcao_externa(\"msg\")"
      ],
      "execution_count": 0,
      "outputs": [
        {
          "output_type": "stream",
          "text": [
            "msg : sendo impresso na funcao externa antes da chamada da interna\n",
            "msg modificada na funcao interna : sendo impresso na funcao interna\n",
            "msg modificada na funcao interna : sendo impresso na funcao externa apos a chamada da interna\n"
          ],
          "name": "stdout"
        }
      ]
    },
    {
      "metadata": {
        "id": "x2riGyENbt3l",
        "colab_type": "code",
        "outputId": "29088247-55bf-44ee-de2e-6b4bfc17594b",
        "colab": {
          "base_uri": "https://localhost:8080/",
          "height": 35
        }
      },
      "cell_type": "code",
      "source": [
        "# Terceiro código\n",
        "def funcao_externa(var):\n",
        "  # Corpo da funcao externa\n",
        "  def funcao_interna():\n",
        "      # Corpo da funcao interna\n",
        "      print(var)\n",
        "\n",
        "  return funcao_interna\n",
        "\n",
        "func = funcao_externa(\"oi\")\n",
        "func()"
      ],
      "execution_count": 0,
      "outputs": [
        {
          "output_type": "stream",
          "text": [
            "oi\n"
          ],
          "name": "stdout"
        }
      ]
    },
    {
      "metadata": {
        "id": "nUWy-aUHdb4X",
        "colab_type": "code",
        "outputId": "00781ead-0cf8-40d4-d183-68219d6ccd63",
        "colab": {
          "base_uri": "https://localhost:8080/",
          "height": 67
        }
      },
      "cell_type": "code",
      "source": [
        "from random import randint\n",
        "\n",
        "# Quarto código\n",
        "def somar_com(x):\n",
        "    def soma(y):\n",
        "        return x+y\n",
        "    return soma\n",
        "\n",
        "soma_3 = somar_com(3)\n",
        "soma_5 = somar_com(5)\n",
        "print(soma_3(soma_5(1)))\n",
        "\n",
        "somar_com_rand = somar_com(randint(0,10))\n",
        "print(somar_com_rand(0))"
      ],
      "execution_count": 0,
      "outputs": [
        {
          "output_type": "stream",
          "text": [
            "9\n",
            "9\n",
            "9\n"
          ],
          "name": "stdout"
        }
      ]
    },
    {
      "metadata": {
        "id": "GZVUOSPqk6sq",
        "colab_type": "code",
        "colab": {}
      },
      "cell_type": "code",
      "source": [
        ""
      ],
      "execution_count": 0,
      "outputs": []
    },
    {
      "metadata": {
        "id": "tTESc-W9fccD",
        "colab_type": "code",
        "outputId": "e0c04560-84f2-4afe-e3f2-be439c59153e",
        "colab": {
          "base_uri": "https://localhost:8080/",
          "height": 34
        }
      },
      "cell_type": "code",
      "source": [
        "def somar_com_mais4(x):\n",
        "  y = 4\n",
        "  def soma(z):\n",
        "    return x+y+z\n",
        "  return soma\n",
        "\n",
        "soma_3 = somar_com_mais4(3)\n",
        "soma_3(1)"
      ],
      "execution_count": 0,
      "outputs": [
        {
          "output_type": "execute_result",
          "data": {
            "text/plain": [
              "8"
            ]
          },
          "metadata": {
            "tags": []
          },
          "execution_count": 24
        }
      ]
    },
    {
      "metadata": {
        "id": "s3wP8exsfRZ7",
        "colab_type": "code",
        "outputId": "6c39225c-b096-4e11-a02a-5d78f84ca424",
        "colab": {
          "base_uri": "https://localhost:8080/",
          "height": 35
        }
      },
      "cell_type": "code",
      "source": [
        "def esconder_numero(x):\n",
        "  def numero_escondido():\n",
        "    return x\n",
        "  return numero_escondido\n",
        "\n",
        "foo = esconder_numero(10)\n",
        "\n",
        "foo()"
      ],
      "execution_count": 0,
      "outputs": [
        {
          "output_type": "execute_result",
          "data": {
            "text/plain": [
              "10"
            ]
          },
          "metadata": {
            "tags": []
          },
          "execution_count": 8
        }
      ]
    },
    {
      "metadata": {
        "id": "qWiIzQTlgiZD",
        "colab_type": "code",
        "outputId": "d44b9ce7-1655-49c4-bd21-9403ef66fd87",
        "colab": {
          "base_uri": "https://localhost:8080/",
          "height": 105
        }
      },
      "cell_type": "code",
      "source": [
        "def foo1(x):\n",
        "  def foo2(y):\n",
        "    nonlocal x\n",
        "    x += [y]\n",
        "    return x\n",
        "  return foo2\n",
        "\n",
        "foo = foo1([])\n",
        "del foo1\n",
        "\n",
        "for _ in range(5):\n",
        "  print(foo(3))"
      ],
      "execution_count": 0,
      "outputs": [
        {
          "output_type": "stream",
          "text": [
            "[3]\n",
            "[3, 3]\n",
            "[3, 3, 3]\n",
            "[3, 3, 3, 3]\n",
            "[3, 3, 3, 3, 3]\n"
          ],
          "name": "stdout"
        }
      ]
    },
    {
      "metadata": {
        "id": "0q93vbyUd0b8",
        "colab_type": "text"
      },
      "cell_type": "markdown",
      "source": [
        "# <h1>Definição de Variável Livre (Docs Python)</h1>\n",
        "\n",
        "<div>Se um nome estiver vinculado em um bloco, ele será uma variável local desse bloco, a menos que seja declarado como não local ou global. Se um nome é limitado no nível do módulo, é uma variável global. (As variáveis do bloco de código são locais e globais.) Se uma variável é usada em um código de bloco, mas não é definida lá, é uma variável livre.</div>\n",
        "\n",
        "<div>A resolução de nomes de variáveis livres ocorre em tempo de execução, não em tempo de compilação.</div>\n",
        "\n",
        "https://stackoverflow.com/questions/12919278/how-to-define-free-variable-in-python [Dúvida sobre como definir]\n",
        "\n",
        "http://mathamy.com/python-closures-and-free-variables.html [Closures e Variáveis Livres]\n",
        "\n",
        "https://docs.python.org/3/reference/executionmodel.html [Modelo de Execução]"
      ]
    },
    {
      "metadata": {
        "id": "CLwcp-Z_d-Q8",
        "colab_type": "text"
      },
      "cell_type": "markdown",
      "source": [
        "<h1> Definição Wikipédia</h1>\n",
        "\n",
        "<div>Uma variável livre é uma variável referenciada em uma função, que não é nem uma variável local nem um argumento daquela função</div>"
      ]
    },
    {
      "metadata": {
        "id": "jyfGTTvQeBRV",
        "colab_type": "text"
      },
      "cell_type": "markdown",
      "source": [
        "<div>**locals():** Atualiza e retorna um dicionário que representa a tabela de símbolos local atual. Variáveis livres são retornadas por locals () quando são chamadas em blocos de funções, mas não em blocos de classes.</div>"
      ]
    },
    {
      "metadata": {
        "id": "fAv5laOLeEl1",
        "colab_type": "code",
        "outputId": "c75a0435-318d-40be-e6c2-1f68a14cb305",
        "colab": {
          "base_uri": "https://localhost:8080/",
          "height": 51
        }
      },
      "cell_type": "code",
      "source": [
        "#Retorno da função com variável global definida!\n",
        "x = 0 #x é global\n",
        "\n",
        "def somefunction(param1):\n",
        "  x = param1 #x é local\n",
        "  print(locals())\n",
        "  return x\n",
        "\n",
        "somefunction(1)"
      ],
      "execution_count": 0,
      "outputs": [
        {
          "output_type": "stream",
          "text": [
            "{'x': 1, 'param1': 1}\n"
          ],
          "name": "stdout"
        },
        {
          "output_type": "execute_result",
          "data": {
            "text/plain": [
              "1"
            ]
          },
          "metadata": {
            "tags": []
          },
          "execution_count": 3
        }
      ]
    },
    {
      "metadata": {
        "id": "FN6gm4RBeHIt",
        "colab_type": "code",
        "colab": {}
      },
      "cell_type": "code",
      "source": [
        "#Print em escopo global com variável global definida depois da execução da função!\n",
        "x = 0 #x é global\n",
        "\n",
        "def somefunction(param1):\n",
        "  x = param1 #x é local\n",
        "  print(locals())\n",
        "  return x\n",
        "\n",
        "somefunction(1)\n",
        "\n",
        "print(x)"
      ],
      "execution_count": 0,
      "outputs": []
    },
    {
      "metadata": {
        "id": "doeQAUo1eJBV",
        "colab_type": "code",
        "colab": {}
      },
      "cell_type": "code",
      "source": [
        "#Print do escopo global após execução da função usando variável global!\n",
        "x = 0 #x é global\n",
        "\n",
        "def somefunction(param1):\n",
        "  global x \n",
        "  x = param1 #x é global\n",
        "  print(locals())\n",
        "\n",
        "somefunction(1)\n",
        "\n",
        "print(x)"
      ],
      "execution_count": 0,
      "outputs": []
    },
    {
      "metadata": {
        "id": "JggDLEfNeL6t",
        "colab_type": "code",
        "outputId": "fd2aa1c8-859b-4413-d2fa-5650998a3fce",
        "colab": {
          "base_uri": "https://localhost:8080/",
          "height": 34
        }
      },
      "cell_type": "code",
      "source": [
        "#X é local, global ou livre?...\n",
        "def make_contains_function(x):\n",
        "  \n",
        "  def contains(s):\n",
        "    return x in s\n",
        "  \n",
        "  return contains\n",
        "\n",
        "contains_L = make_contains_function(\"L\")\n",
        "\n",
        "contains_L(\"Leonardo\")"
      ],
      "execution_count": 0,
      "outputs": [
        {
          "output_type": "execute_result",
          "data": {
            "text/plain": [
              "True"
            ]
          },
          "metadata": {
            "tags": []
          },
          "execution_count": 29
        }
      ]
    },
    {
      "metadata": {
        "id": "Q4I3cWBZeNfE",
        "colab_type": "code",
        "outputId": "9e65f766-5c50-46f5-ee81-e72072f94a9e",
        "colab": {
          "base_uri": "https://localhost:8080/",
          "height": 34
        }
      },
      "cell_type": "code",
      "source": [
        "contains_L(\"Jefferson\")"
      ],
      "execution_count": 0,
      "outputs": [
        {
          "output_type": "execute_result",
          "data": {
            "text/plain": [
              "False"
            ]
          },
          "metadata": {
            "tags": []
          },
          "execution_count": 30
        }
      ]
    },
    {
      "metadata": {
        "id": "Nty3EmZTeOD0",
        "colab_type": "code",
        "outputId": "f0bce3a7-88d8-44c3-c55d-b40d41a2d63c",
        "colab": {
          "base_uri": "https://localhost:8080/",
          "height": 34
        }
      },
      "cell_type": "code",
      "source": [
        "#Qual o tipo?\n",
        "contains_L"
      ],
      "execution_count": 0,
      "outputs": [
        {
          "output_type": "execute_result",
          "data": {
            "text/plain": [
              "<function __main__.make_contains_function.<locals>.contains>"
            ]
          },
          "metadata": {
            "tags": []
          },
          "execution_count": 31
        }
      ]
    },
    {
      "metadata": {
        "id": "EssiLcIxeQpk",
        "colab_type": "code",
        "outputId": "24c7887c-81cc-4c4b-83d2-d8b2234f54b3",
        "colab": {
          "base_uri": "https://localhost:8080/",
          "height": 50
        }
      },
      "cell_type": "code",
      "source": [
        "#Print da locals... Estamos roubando?\n",
        "def make_contains_function(x):\n",
        "  def contains(s):\n",
        "    print(locals())\n",
        "    return x in s\n",
        "  return contains\n",
        "\n",
        "contains_s = make_contains_function('s')\n",
        "\n",
        "contains_s(\"Big Smoke\")\n",
        "print(contains_s.__code__.co_freevars)"
      ],
      "execution_count": 0,
      "outputs": [
        {
          "output_type": "stream",
          "text": [
            "{'s': 'Big Smoke', 'x': 's'}\n",
            "('x',)\n"
          ],
          "name": "stdout"
        }
      ]
    },
    {
      "metadata": {
        "id": "s1tTGzoAeSwV",
        "colab_type": "text"
      },
      "cell_type": "markdown",
      "source": [
        "<div>**locals():** Atualiza e retorna um dicionário que representa a tabela de símbolos local atual. Variáveis livres são retornadas por locals () quando são chamadas em blocos de funções, mas não em blocos de classes.</div>"
      ]
    },
    {
      "metadata": {
        "id": "xM2HOLx8eV0N",
        "colab_type": "text"
      },
      "cell_type": "markdown",
      "source": [
        "# Conclusão"
      ]
    },
    {
      "metadata": {
        "id": "vXbx8a2JeZQP",
        "colab_type": "text"
      },
      "cell_type": "markdown",
      "source": [
        "<div>É por possuir noções como de Enclosure que pode-se haver a existência de variáveis livres em python. </div>\n",
        "<div>Uma vez que o aninhamento de funções permite  o uso de variáveis das funções mais eternas sem serem consideradas locais, determinadas pelo escopo, e nem passadas por parâmetro. </div>"
      ]
    }
  ]
}