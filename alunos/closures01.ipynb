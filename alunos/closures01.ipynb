{
  "nbformat": 4,
  "nbformat_minor": 0,
  "metadata": {
    "colab": {
      "name": "trabalhoLP2.ipynb",
      "version": "0.3.2",
      "provenance": [],
      "collapsed_sections": []
    },
    "kernelspec": {
      "name": "python3",
      "display_name": "Python 3"
    }
  },
  "cells": [
    {
      "metadata": {
        "id": "zMXymiL1d2-G",
        "colab_type": "text"
      },
      "cell_type": "markdown",
      "source": [
        "# Closure\n",
        "\n",
        "Quando temos **Nested Functions**, ou seja, funções dentro das outras, podemos analisar melhor que as funções mais abaixo tem acesso as variáveis do escopo fechado das funções acima.\n",
        "\n",
        "### Exemplo\n",
        "\n",
        "**Fonte ** : https://www.learnpython.org/en/Closures"
      ]
    },
    {
      "metadata": {
        "id": "LLkhqawWfGZG",
        "colab_type": "code",
        "outputId": "93a01926-d118-45ff-e259-d2cdea6994d1",
        "colab": {
          "base_uri": "https://localhost:8080/",
          "height": 35
        }
      },
      "cell_type": "code",
      "source": [
        "def transmit_to_space(message):\n",
        "    \"This is the enclosing function\"\n",
        "    def data_transmitter():\n",
        "        \"The nested function\"\n",
        "        print(message)\n",
        "\n",
        "    data_transmitter()\n",
        "\n",
        "transmit_to_space(\"Test message\")"
      ],
      "execution_count": 0,
      "outputs": [
        {
          "output_type": "stream",
          "text": [
            "Test message\n"
          ],
          "name": "stdout"
        }
      ]
    },
    {
      "metadata": {
        "id": "oPIaqO-Ufe4N",
        "colab_type": "text"
      },
      "cell_type": "markdown",
      "source": [
        "No exemplo acima note que a variavel \"message\" é printada apenas no metodo *data_transmitter()* sendo acessada do método imediatamente acima. Veja que, a variável é acessada e manuseada pelos métodos de forma sequencial,ou seja, um usa a variavel com as alterações que o método anterior fez, porém quando as funções mais acima começam a serem executadas, elas usaram a variavel com as alterações feitas apenas até o ponto em que são chamadas, ignorando alterações feitas em métodos mais \"ao fundo\"."
      ]
    },
    {
      "metadata": {
        "id": "0AjHW-Vin4l2",
        "colab_type": "code",
        "outputId": "2a96a205-bc02-4092-d3d4-6809bb25f353",
        "colab": {
          "base_uri": "https://localhost:8080/",
          "height": 52
        }
      },
      "cell_type": "code",
      "source": [
        "def print_msg(number):\n",
        "    def printer():\n",
        "        number=3\n",
        "        print(number)\n",
        "    printer()\n",
        "    print(number)\n",
        "\n",
        "print_msg(9)"
      ],
      "execution_count": 0,
      "outputs": [
        {
          "output_type": "stream",
          "text": [
            "3\n",
            "9\n"
          ],
          "name": "stdout"
        }
      ]
    },
    {
      "metadata": {
        "id": "hZL0O1WZn20s",
        "colab_type": "text"
      },
      "cell_type": "markdown",
      "source": [
        "Note que no escopo mais acima *number* tem valor 9, porém dentro de *printer()* é dado a ela valor 3, agora note que no segudo *print(number)* pertencente a *print_msg(number)* é mostrado o valor 9, ou seja, a alteração feita no escopo mais ao fundo foi descartada quando subimos o escopo da função. Agora ao se usar **nonlocal** na variavel o método tem outro comportamento. Veja a seguir :"
      ]
    },
    {
      "metadata": {
        "id": "ic1GAl6XiJBb",
        "colab_type": "text"
      },
      "cell_type": "markdown",
      "source": [
        "### Exemplo\n",
        "\n",
        "**Fonte**:  https://www.learnpython.org/en/Closures "
      ]
    },
    {
      "metadata": {
        "id": "moeje4Wwi3bO",
        "colab_type": "code",
        "outputId": "c99a4f32-a397-4d87-9906-c6b6658725ac",
        "colab": {
          "base_uri": "https://localhost:8080/",
          "height": 52
        }
      },
      "cell_type": "code",
      "source": [
        "def print_msg(number):\n",
        "    def printer():\n",
        "        \"Here we are using the nonlocal keyword\"\n",
        "        nonlocal number\n",
        "        number=3\n",
        "        print(number)\n",
        "    printer()\n",
        "    print(number)\n",
        "\n",
        "print_msg(9)"
      ],
      "execution_count": 0,
      "outputs": [
        {
          "output_type": "stream",
          "text": [
            "3\n",
            "3\n"
          ],
          "name": "stdout"
        }
      ]
    },
    {
      "metadata": {
        "id": "GswX_IfQk6q8",
        "colab_type": "text"
      },
      "cell_type": "markdown",
      "source": [
        "Agora usando **nonlocal** note que as mudanças feitas nos escopos das funções mais abaixo, altera a variavel nos escopos mais acima, permitindo uma maior flexibilidade no uso da variável."
      ]
    },
    {
      "metadata": {
        "id": "6tqbUyR2faWL",
        "colab_type": "text"
      },
      "cell_type": "markdown",
      "source": [
        "# Variáveis Livres"
      ]
    },
    {
      "metadata": {
        "id": "LGw9Vz2JecLC",
        "colab_type": "text"
      },
      "cell_type": "markdown",
      "source": [
        "Váriaveis livres são variaveis que não estam definidas no escopo global nem dentro de uma closure, ou seja, se uma variável é usada em um escopo, mas não é definida lá, ela é uma variável livre .\n"
      ]
    },
    {
      "metadata": {
        "id": "CQ3WHkr-ef61",
        "colab_type": "code",
        "outputId": "94ab2ce9-3582-4db8-d264-fc5710e958b6",
        "colab": {
          "base_uri": "https://localhost:8080/",
          "height": 34
        }
      },
      "cell_type": "code",
      "source": [
        "def funcao():\n",
        "  variavel = 3 \n",
        "  def closure():\n",
        "    return variavel\n",
        "  return closure\n",
        "  \n",
        "x = funcao()\n",
        "del funcao\n",
        "print(x())\n",
        "    "
      ],
      "execution_count": 0,
      "outputs": [
        {
          "output_type": "stream",
          "text": [
            "3\n"
          ],
          "name": "stdout"
        }
      ]
    },
    {
      "metadata": {
        "id": "CL_zW8NtaQFT",
        "colab_type": "code",
        "colab": {}
      },
      "cell_type": "code",
      "source": [
        ""
      ],
      "execution_count": 0,
      "outputs": []
    }
  ]
}