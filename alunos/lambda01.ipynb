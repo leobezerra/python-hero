{
  "nbformat": 4,
  "nbformat_minor": 0,
  "metadata": {
    "colab": {
      "name": "Lambda.ipynb",
      "version": "0.3.2",
      "provenance": [],
      "collapsed_sections": []
    }
  },
  "cells": [
    {
      "metadata": {
        "id": "52EZPQFizWWI",
        "colab_type": "text"
      },
      "cell_type": "markdown",
      "source": [
        "**Componentes**: André Ricardo, Erildo Júnior, Gabriel Estevam.\n",
        "\n"
      ]
    },
    {
      "metadata": {
        "id": "3CJyWex3zlQq",
        "colab_type": "text"
      },
      "cell_type": "markdown",
      "source": [
        "# **Lambda**\n",
        "\n",
        "\n",
        "Lambda são funções anônimas que aceitam argumentos, os quais são opcionais, e que suportam apenas uma expressão. \n",
        "\n",
        "Ao executar lambda, Python retorna uma função ao invés de atribuí-la à um nome como acontece com o *def*, sendo por esse motivo declaradas como anônimas.\n",
        "\n",
        "\n"
      ]
    },
    {
      "metadata": {
        "id": "cCdt6cLP0ONE",
        "colab_type": "text"
      },
      "cell_type": "markdown",
      "source": [
        "As funções lambda são declaradas da seguinte maneira:\n",
        "\n",
        "\n",
        ">***função = lambda argumentos : expressão utilizando os argumentos***\n",
        "\n",
        "\n",
        "Para melhor entendimento, observe o exemplo abaixo:"
      ]
    },
    {
      "metadata": {
        "id": "Y5q7LvFDo0SK",
        "colab_type": "code",
        "colab": {
          "base_uri": "https://localhost:8080/",
          "height": 88
        },
        "outputId": "472945b6-1f25-45ba-b056-3aab5f9502e8"
      },
      "cell_type": "code",
      "source": [
        "x = lambda a : a + a\n",
        "\n",
        "print (x(2)) \n",
        "print (x(3))\n",
        "print (x(4))\n",
        "print (x(100))"
      ],
      "execution_count": 2,
      "outputs": [
        {
          "output_type": "stream",
          "text": [
            "4\n",
            "6\n",
            "8\n",
            "200\n"
          ],
          "name": "stdout"
        }
      ]
    },
    {
      "metadata": {
        "id": "nVL8i7zO1t4V",
        "colab_type": "code",
        "colab": {
          "base_uri": "https://localhost:8080/",
          "height": 88
        },
        "outputId": "ecb97798-f53a-4747-fbe8-38f92e2cd235"
      },
      "cell_type": "code",
      "source": [
        "x = lambda a, b : a * b\n",
        "\n",
        "print (x(2, 3)) \n",
        "print (x(3, 4))\n",
        "print (x(4, 5))\n",
        "print (x(100, 1000))"
      ],
      "execution_count": 4,
      "outputs": [
        {
          "output_type": "stream",
          "text": [
            "6\n",
            "12\n",
            "20\n",
            "100000\n"
          ],
          "name": "stdout"
        }
      ]
    },
    {
      "metadata": {
        "id": "jsfgNEkG1gMW",
        "colab_type": "text"
      },
      "cell_type": "markdown",
      "source": [
        "Funções lambda são utilizadas na declaração de funções que não são complexas o suficiente para o uso da *def*, sendo, normalmente, pensadas como funções de uma linha só. \n",
        "\n",
        "Para isto, observe o exemplo abaixo, onde é mostrado o tamanho de cada palavra em uma lista de string."
      ]
    },
    {
      "metadata": {
        "id": "6NsU1tq635zV",
        "colab_type": "code",
        "colab": {
          "base_uri": "https://localhost:8080/",
          "height": 35
        },
        "outputId": "ec34b295-b7e1-4e7d-f3d3-612143e20487"
      },
      "cell_type": "code",
      "source": [
        "#utilizando def\n",
        "\n",
        "def tamanho(palavras):\n",
        "    return [len(i) for i in palavras]\n",
        " \n",
        "paises = ['Espanha', 'Libano', 'Eua','', 'Nigeria', 'Argentina', 'Omã']\n",
        " \n",
        "print tamanho(paises)"
      ],
      "execution_count": 6,
      "outputs": [
        {
          "output_type": "stream",
          "text": [
            "[7, 6, 3, 0, 7, 9, 4]\n"
          ],
          "name": "stdout"
        }
      ]
    },
    {
      "metadata": {
        "id": "ZsSbTr-p1CQK",
        "colab_type": "code",
        "colab": {
          "base_uri": "https://localhost:8080/",
          "height": 35
        },
        "outputId": "38484ac1-39d9-4d4d-d76a-fe9d70c35c15"
      },
      "cell_type": "code",
      "source": [
        "#utilizando lambda\n",
        "\n",
        "size = lambda palavras: [len(i) for i in palavras]\n",
        "\n",
        "print size(paises)"
      ],
      "execution_count": 8,
      "outputs": [
        {
          "output_type": "stream",
          "text": [
            "[7, 6, 3, 0, 7, 9, 4]\n"
          ],
          "name": "stdout"
        }
      ]
    },
    {
      "metadata": {
        "id": "7dJgNYyi7nZh",
        "colab_type": "text"
      },
      "cell_type": "markdown",
      "source": [
        "Agora, serão mostrados outros exemplos onde lambda pode ser utilizado."
      ]
    },
    {
      "metadata": {
        "id": "xdkYfQQ97l1a",
        "colab_type": "code",
        "colab": {
          "base_uri": "https://localhost:8080/",
          "height": 34
        },
        "outputId": "673593f1-1e0f-47c3-fd8d-85816ae6efd9"
      },
      "cell_type": "code",
      "source": [
        "#ordenação de uma lista de tuplas baseada no seu segundo elemento\n",
        "from operator import itemgetter\n",
        "lista = [(0, 1), (5, 8), (10, 10), (19, -10)]\n",
        "#lista.sort(key=lambda x: x[1])\n",
        "lista.sort(key=itemgetter(1))\n",
        "print (lista)"
      ],
      "execution_count": 2,
      "outputs": [
        {
          "output_type": "stream",
          "text": [
            "[(19, -10), (0, 1), (5, 8), (10, 10)]\n"
          ],
          "name": "stdout"
        }
      ]
    },
    {
      "metadata": {
        "id": "_j1TJTFF-rbH",
        "colab_type": "code",
        "colab": {
          "base_uri": "https://localhost:8080/",
          "height": 35
        },
        "outputId": "778afb41-fa06-4b3c-f989-14ba1ed909d4"
      },
      "cell_type": "code",
      "source": [
        "#se replace for \"True\", ele subtitui os espaços por '_', senão imprime do jeito que é.\n",
        "\n",
        "replace = True\n",
        "func = replace and (lambda s: s.replace(' ', '_')) or (lambda s: s)\n",
        " \n",
        "phrase = 'Look at the sky, blue mama'\n",
        " \n",
        "print func(phrase)"
      ],
      "execution_count": 14,
      "outputs": [
        {
          "output_type": "stream",
          "text": [
            "Look_at_the_sky,_blue_mama\n"
          ],
          "name": "stdout"
        }
      ]
    },
    {
      "metadata": {
        "id": "Ge5S6Mw49_4d",
        "colab_type": "code",
        "colab": {
          "base_uri": "https://localhost:8080/",
          "height": 68
        },
        "outputId": "0e61c820-72b6-498a-bad5-5bf6514af1b3"
      },
      "cell_type": "code",
      "source": [
        "#função que retorna uma função de multiṕlicação\n",
        "\n",
        "def minha_funcao(n):\n",
        "  return lambda a : a * n\n",
        "\n",
        "duplicador = minha_funcao(2)\n",
        "triplicador = minha_funcao(3)\n",
        "\n",
        "print(duplicador(10))\n",
        "print(triplicador(10))\n",
        "\n",
        "n = 4\n",
        "print(duplicador(10))"
      ],
      "execution_count": 1,
      "outputs": [
        {
          "output_type": "stream",
          "text": [
            "20\n",
            "30\n",
            "20\n"
          ],
          "name": "stdout"
        }
      ]
    },
    {
      "metadata": {
        "id": "Ud7AKR-u-cme",
        "colab_type": "code",
        "colab": {
          "base_uri": "https://localhost:8080/",
          "height": 71
        },
        "outputId": "56dc6a2e-c3fe-4e9a-dca3-582c3c4b15d6"
      },
      "cell_type": "code",
      "source": [
        "#Dicionário que retorna a função pedida\n",
        "\n",
        "acao = {\n",
        "    'soma': lambda x, y: x + y,\n",
        "    'subt': lambda x, y: x - y,\n",
        "    'mult': lambda x, y: x * y,\n",
        "}\n",
        " \n",
        "func = acao['soma']\n",
        "func2 = acao['subt']\n",
        "func3 = acao['mult']\n",
        " \n",
        "print func(100, 100)\n",
        "print func2(20, 10)\n",
        "print func3(10, 10)"
      ],
      "execution_count": 13,
      "outputs": [
        {
          "output_type": "stream",
          "text": [
            "200\n",
            "10\n",
            "100\n"
          ],
          "name": "stdout"
        }
      ]
    }
  ]
}