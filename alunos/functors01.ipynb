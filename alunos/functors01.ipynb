{
  "nbformat": 4,
  "nbformat_minor": 0,
  "metadata": {
    "colab": {
      "name": "Functors.ipynb",
      "version": "0.3.2",
      "provenance": [],
      "collapsed_sections": []
    },
    "kernelspec": {
      "name": "python3",
      "display_name": "Python 3"
    }
  },
  "cells": [
    {
      "metadata": {
        "id": "We8BP5og4khG",
        "colab_type": "text"
      },
      "cell_type": "markdown",
      "source": [
        "# Functors"
      ]
    },
    {
      "metadata": {
        "id": "MptbZjq94sPD",
        "colab_type": "text"
      },
      "cell_type": "markdown",
      "source": [
        "Este notebook é uma adaptação do post [Functors and their use in Python](https://www.geeksforgeeks.org/functors-use-python/), do portal Geek for Geeks: a computer science portal for geeks."
      ]
    },
    {
      "metadata": {
        "id": "IaxjG8b6DxxS",
        "colab_type": "text"
      },
      "cell_type": "markdown",
      "source": [
        "## Definição"
      ]
    },
    {
      "metadata": {
        "id": "bQGsecWqD1BW",
        "colab_type": "text"
      },
      "cell_type": "markdown",
      "source": [
        "Functors são objetos que podem ser tratados como se fossem uma função."
      ]
    },
    {
      "metadata": {
        "id": "sLC9Huzc7faD",
        "colab_type": "text"
      },
      "cell_type": "markdown",
      "source": [
        "## Usabilidade"
      ]
    },
    {
      "metadata": {
        "id": "gSj614By9iWB",
        "colab_type": "text"
      },
      "cell_type": "markdown",
      "source": [
        "* Functors são utilizados quando se deseja ocultar ou abstrair a implementação real. Por exemplo, quando você quer chamar diferentes funções dependendo da entrada do usuário, mas você não quer que ele faça chamadas explícitas para essas funções. Essa é uma situação ideal onde functors podem ajudar.\n",
        "\n",
        "* Nessa situação, podemos usar um functor que internamente chama a função mais adequada, dependendo do tipo de entrada.\n",
        "\n",
        "* E, caso houver algum problema de implementação das funções, então basta alterar o código principal, sem precisar que o código feito para o usuário sofra alterações. Assim, functors ajuda na manuntenção, desacoplamento e extensibilidade do código.\n",
        "\n"
      ]
    },
    {
      "metadata": {
        "id": "7FEyrQmY7_0b",
        "colab_type": "text"
      },
      "cell_type": "markdown",
      "source": [
        "## Código sem functors"
      ]
    },
    {
      "metadata": {
        "id": "sFmKzNiWD6Uj",
        "colab_type": "text"
      },
      "cell_type": "markdown",
      "source": [
        "Para entender como utilizar functors, vamos apresentar primeiramente um código que não usa functors e mostrar os problemas que acontessem nessa implementação. \n",
        "\n",
        "Para isso, vamos trabalhar no seguinte problema: queremos chamar diferentes métodos de ordenação de acordo com o tipo de entrada. Se a entrada for do tipo int então chame a função Mergesort, se a entrada for do tipo float então ordene com a função Heapsort, caso contrário chame a função Quicksort."
      ]
    },
    {
      "metadata": {
        "id": "L0a4Ejcu8IMH",
        "colab_type": "code",
        "colab": {}
      },
      "cell_type": "code",
      "source": [
        "class UmaClasse: \n",
        "    def FacaAlgumaCoisa(self, x): \n",
        "        primeiro = x[0] \n",
        "        if type(primeiro) is int : \n",
        "            return self.__MergeSort(x) \n",
        "        if type(primeiro) is float : \n",
        "            return self.__HeapSort(x) \n",
        "        else : \n",
        "            return self.__QuickSort(x)\n",
        "          \n",
        "    def __MergeSort(self, a):  \n",
        "        print(\"Os dados foram ordenados pelo Mergesort\")\n",
        "        return a \n",
        "    def __HeapSort(self, b): \n",
        "        print(\"Os dados foram ordenados pelo Heapsort\")\n",
        "        return b \n",
        "    def __QuickSort(self, c): \n",
        "        print(\"Os dados foram ordenados pelo Quicksort\")\n",
        "        return c "
      ],
      "execution_count": 0,
      "outputs": []
    },
    {
      "metadata": {
        "id": "cOUS1WglQu5l",
        "colab_type": "code",
        "colab": {
          "base_uri": "https://localhost:8080/",
          "height": 52
        },
        "outputId": "c94b1ba6-4138-46a9-c33e-a71ebd8e3852"
      },
      "cell_type": "code",
      "source": [
        "umObjeto = UmaClasse() \n",
        "print(umObjeto.FacaAlgumaCoisa([1,2,3]))"
      ],
      "execution_count": 14,
      "outputs": [
        {
          "output_type": "stream",
          "text": [
            "Os dados foram ordenados pelo Mergesort\n",
            "[1, 2, 3]\n"
          ],
          "name": "stdout"
        }
      ]
    },
    {
      "metadata": {
        "id": "IwubTkSNSt-3",
        "colab_type": "text"
      },
      "cell_type": "markdown",
      "source": [
        "* **Obs:** Note que o usuário precisa saber as condições para chamar uma estratégia de ordenação diferente. Dessa forma, o código se torna fortemente acoplado."
      ]
    },
    {
      "metadata": {
        "id": "EURCi0zo8T1G",
        "colab_type": "text"
      },
      "cell_type": "markdown",
      "source": [
        "## Problemas dessa abordagem"
      ]
    },
    {
      "metadata": {
        "id": "xW5MksrX8jGL",
        "colab_type": "text"
      },
      "cell_type": "markdown",
      "source": [
        "1. A implementação interna precisa ser escondida do código utilizado pelo usuário, i.e, a abstração deve ser mantida.\n",
        "\n",
        "2. Cada classe deve ser responsável por uma única funcionalidade.\n",
        "\n",
        "3. O código está muito acoplado."
      ]
    },
    {
      "metadata": {
        "id": "ku6pWQbu8uvT",
        "colab_type": "text"
      },
      "cell_type": "markdown",
      "source": [
        "## Solução com functors"
      ]
    },
    {
      "metadata": {
        "id": "mrRNuuEXVezp",
        "colab_type": "text"
      },
      "cell_type": "markdown",
      "source": [
        "Vamos resolver o mesmo problema utilizando functors."
      ]
    },
    {
      "metadata": {
        "id": "mbTfMZEt8t8X",
        "colab_type": "code",
        "colab": {}
      },
      "cell_type": "code",
      "source": [
        "class Functor: \n",
        "  def __init__(self, n=10): \n",
        "    self.n = n \n",
        "    \n",
        "  def __call__(self, x) : \n",
        "    primeiro = x[0] \n",
        "    if type(primeiro) is int: \n",
        "      return self. __MergeSort(x) \n",
        "    if type(primeiro) is float: \n",
        "      return self. __HeapSort(x) \n",
        "    else : \n",
        "      return self.__QuickSort(x)  \n",
        "  \n",
        "  def __MergeSort(self,a):  \n",
        "    print(\"Os dados foram ordenados pelo Mergesort\")\n",
        "    return a \n",
        "  def __HeapSort(self,b): \n",
        "    print(\"Os dados foram ordenados pelo Heapsort\")\n",
        "    return b \n",
        "  def __QuickSort(self,c):  \n",
        "    print(\"Os dados foram ordenados pelo Quicksort\")\n",
        "    return c "
      ],
      "execution_count": 0,
      "outputs": []
    },
    {
      "metadata": {
        "id": "SGpzQ7AaXzvw",
        "colab_type": "text"
      },
      "cell_type": "markdown",
      "source": [
        "Agora, vamos criar a classe que vai chamar as funções acima. Sem o functor, a classe precisaria saber, com base no tipo de entrada, qual função específica deve ser chamada. "
      ]
    },
    {
      "metadata": {
        "id": "C3uaQY9hVt9M",
        "colab_type": "code",
        "colab": {}
      },
      "cell_type": "code",
      "source": [
        "class UmaClasse: \n",
        "    def __init__(self): \n",
        "      self.ordena = Functor() \n",
        "      \n",
        "    def FacaAlgumaCoisa(self,x):  \n",
        "      return self.ordena(x) "
      ],
      "execution_count": 0,
      "outputs": []
    },
    {
      "metadata": {
        "id": "OBozQbUpZyK9",
        "colab_type": "text"
      },
      "cell_type": "markdown",
      "source": [
        "Note que a classe acima simplesmente chama a função e não precisa se preocupar qual ordenação é usada.  Ele só sabe que a saída ordenada será o resultado dessa chamada."
      ]
    },
    {
      "metadata": {
        "id": "sjetRdoNVwoG",
        "colab_type": "code",
        "colab": {
          "base_uri": "https://localhost:8080/",
          "height": 52
        },
        "outputId": "574a891b-9ffb-41d3-fafd-d7f654117ae5"
      },
      "cell_type": "code",
      "source": [
        "umObjeto = UmaClasse() \n",
        "print(umObjeto.FacaAlgumaCoisa([5,4,6])) # Mergesort"
      ],
      "execution_count": 17,
      "outputs": [
        {
          "output_type": "stream",
          "text": [
            "Os dados foram ordenados pelo Mergesort\n",
            "[5, 4, 6]\n"
          ],
          "name": "stdout"
        }
      ]
    },
    {
      "metadata": {
        "id": "9Fr5ENLablEA",
        "colab_type": "code",
        "colab": {
          "base_uri": "https://localhost:8080/",
          "height": 52
        },
        "outputId": "28e7a58c-9112-4a48-8fd4-db5d4a1e733e"
      },
      "cell_type": "code",
      "source": [
        "print(umObjeto.FacaAlgumaCoisa([2.23,3.45,5.65])) # Heapsort"
      ],
      "execution_count": 18,
      "outputs": [
        {
          "output_type": "stream",
          "text": [
            "Os dados foram ordenados pelo Heapsort\n",
            "[2.23, 3.45, 5.65]\n"
          ],
          "name": "stdout"
        }
      ]
    },
    {
      "metadata": {
        "id": "JaazJR5mbnpA",
        "colab_type": "code",
        "colab": {
          "base_uri": "https://localhost:8080/",
          "height": 52
        },
        "outputId": "1010893f-2693-412e-e2ad-b5a7e9554a59"
      },
      "cell_type": "code",
      "source": [
        "print(umObjeto.FacaAlgumaCoisa(['a','s','b','q'])) # Quicksort "
      ],
      "execution_count": 19,
      "outputs": [
        {
          "output_type": "stream",
          "text": [
            "Os dados foram ordenados pelo Quicksort\n",
            "['a', 's', 'b', 'q']\n"
          ],
          "name": "stdout"
        }
      ]
    },
    {
      "metadata": {
        "id": "33H4OzBV88ov",
        "colab_type": "text"
      },
      "cell_type": "markdown",
      "source": [
        "A abordagem acima, utilizando functors, facilita a alteração da implementação do código principal sem modificar o código usado pelo usuário. Dessa forma, o usuário pode usar com segurança o functor acima sem se preocupar com o que está por baixo. Assim, o código se torna desacoplado e de fácil extensibilidade e manutenção. "
      ]
    },
    {
      "metadata": {
        "id": "zFuqxdl72tzJ",
        "colab_type": "text"
      },
      "cell_type": "markdown",
      "source": [
        "## Outros exemplos"
      ]
    },
    {
      "metadata": {
        "id": "kkBbquwHgL5E",
        "colab_type": "text"
      },
      "cell_type": "markdown",
      "source": [
        "### Exemplo 1\n",
        "\n",
        "**Fonte:** https://www.daniweb.com/programming/software-development/threads/485098/functors-in-python"
      ]
    },
    {
      "metadata": {
        "id": "1anv5lMN2wQV",
        "colab_type": "code",
        "colab": {}
      },
      "cell_type": "code",
      "source": [
        "class Acumulador:\n",
        "    def __init__(self, n=0):\n",
        "        self.n = n\n",
        "        \n",
        "    def __call__(self, x):\n",
        "        self.n += x\n",
        "        return self.n"
      ],
      "execution_count": 0,
      "outputs": []
    },
    {
      "metadata": {
        "id": "5l_P0ROa3O8i",
        "colab_type": "text"
      },
      "cell_type": "markdown",
      "source": [
        "* **Obs:** Note que  _call_() permite que a classe instaciada seja chamada como uma função"
      ]
    },
    {
      "metadata": {
        "id": "p8_zm0bQ3rtL",
        "colab_type": "code",
        "colab": {
          "base_uri": "https://localhost:8080/",
          "height": 85
        },
        "outputId": "4d345186-2132-4fac-d1d1-13b846415f31"
      },
      "cell_type": "code",
      "source": [
        "# Criar uma instância e inicializar dado = 4\n",
        "ac = Acumulador(4)\n",
        "# Lembra 4 e adiciona 5\n",
        "print(ac(5))  # 9\n",
        "# Lembra 9 e adiciona 2\n",
        "print(ac(2))  # 11\n",
        "# Lembra 11 e adiciona 9\n",
        "print(ac(9))  # 20\n",
        "# Lembra 20 e adiciona 10, lembra 30 e adiciona 30\n",
        "print(ac(ac(10))) # 60"
      ],
      "execution_count": 7,
      "outputs": [
        {
          "output_type": "stream",
          "text": [
            "9\n",
            "11\n",
            "20\n",
            "60\n"
          ],
          "name": "stdout"
        }
      ]
    },
    {
      "metadata": {
        "id": "ZuJ0SkQVgA1o",
        "colab_type": "text"
      },
      "cell_type": "markdown",
      "source": [
        "### Exemplo 2\n",
        "\n",
        "**Fonte:** Python Fluente: programação clara, consisa e eficaz, de Luciano Ramalho."
      ]
    },
    {
      "metadata": {
        "id": "E_84l-9TWMsB",
        "colab_type": "code",
        "colab": {}
      },
      "cell_type": "code",
      "source": [
        "import random\n",
        "\n",
        "class BingoCage:\n",
        "  def __init__(self, items):\n",
        "    self._items = list(items)\n",
        "    random.shuffle(self._items)\n",
        "    \n",
        "  def pick(self):\n",
        "    try:\n",
        "      return self._items.pop()\n",
        "    except:\n",
        "      raise LookupError('pick from empty BingoCage')\n",
        "      \n",
        "  def __call__(self):\n",
        "    return self.pick()"
      ],
      "execution_count": 0,
      "outputs": []
    },
    {
      "metadata": {
        "id": "sIYtJzLsXMKt",
        "colab_type": "code",
        "colab": {
          "base_uri": "https://localhost:8080/",
          "height": 34
        },
        "outputId": "f834e0fd-42d1-4c5b-e947-794b99124012"
      },
      "cell_type": "code",
      "source": [
        "bingo = BingoCage(range(3))\n",
        "bingo.pick()"
      ],
      "execution_count": 14,
      "outputs": [
        {
          "output_type": "execute_result",
          "data": {
            "text/plain": [
              "2"
            ]
          },
          "metadata": {
            "tags": []
          },
          "execution_count": 14
        }
      ]
    },
    {
      "metadata": {
        "id": "VvcqJaIwXpoh",
        "colab_type": "code",
        "colab": {
          "base_uri": "https://localhost:8080/",
          "height": 34
        },
        "outputId": "7e9366a0-4cbb-4d2e-b6b3-588a5792079e"
      },
      "cell_type": "code",
      "source": [
        "bingo()"
      ],
      "execution_count": 15,
      "outputs": [
        {
          "output_type": "execute_result",
          "data": {
            "text/plain": [
              "1"
            ]
          },
          "metadata": {
            "tags": []
          },
          "execution_count": 15
        }
      ]
    },
    {
      "metadata": {
        "id": "8qdMA94-Xq4p",
        "colab_type": "code",
        "colab": {
          "base_uri": "https://localhost:8080/",
          "height": 34
        },
        "outputId": "37e2afe0-4c8a-439a-c645-e124be2c4ad1"
      },
      "cell_type": "code",
      "source": [
        "callable(bingo)"
      ],
      "execution_count": 16,
      "outputs": [
        {
          "output_type": "execute_result",
          "data": {
            "text/plain": [
              "True"
            ]
          },
          "metadata": {
            "tags": []
          },
          "execution_count": 16
        }
      ]
    }
  ]
}