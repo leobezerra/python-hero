{
 "cells": [
  {
   "cell_type": "markdown",
   "metadata": {},
   "source": [
    "# Using Regular Expressions in Python 3\n",
    "\n",
    "Este notebook é uma adaptação da [segunda parte](https://regexone.com/references/python) do [curso sobre expressões regulares]([RegexOne](https://regexone.com/lesson) do site [RegexOne](https://regexone.com).\n",
    "\n",
    "Python dá suporte a expressões regulares através da biblioteca padrão ```re```, disponibilizada em todas as instalações Python. Note que diferentes linguagens apresentam sintaxes variadas para expressões regulares. Aqui, vamos usar a sintaxe do Python, que tenta seguir o padrão [PCRE](https://www.pcre.org/)."
   ]
  },
  {
   "cell_type": "markdown",
   "metadata": {},
   "source": [
    "## Strings cruas do Python (raw strings)\n",
    "\n",
    "Ao escrever expressões regulares em Python, é recomendável usar *raw strings* no lugar das strings tradicionais do Python (```str```). *Raw strings* começam com o prefixo especial **r**, que indica ao interpretador Python que ignore caracteres especiais.\n",
    "\n",
    "Na prática, isto significa que uma *raw string* como ```r\"\\n\"``` pode ser usada para buscar por uma quebra de linha. Usando strings normais, seria necessário o uso de caracteres de escape para que o caracter ```\\n``` fosse interpretado corretamente (```\"\\\\n\"```), tornando as expressões regulares menos legíveis."
   ]
  },
  {
   "cell_type": "code",
   "execution_count": 1,
   "metadata": {
    "collapsed": false
   },
   "outputs": [
    {
     "name": "stdout",
     "output_type": "stream",
     "text": [
      "Teste: \n",
      "\n",
      "Teste: \\n\n",
      "Teste: \\n\n"
     ]
    }
   ],
   "source": [
    "a = \"\\n\"\n",
    "print(\"Teste:\", a)\n",
    "b = r\"\\n\"\n",
    "print(\"Teste:\", b)\n",
    "c = \"\\\\n\"\n",
    "print(\"Teste:\", c)"
   ]
  },
  {
   "cell_type": "markdown",
   "metadata": {},
   "source": [
    "## Casando uma string\n",
    "\n",
    "O pacote ```re``` disponibiliza vários procedimentos. Para testar se uma expressão regular casa com uma string (**match**), podemos usar os procedimentos ```search()```, ```match()``` ou ```fullmatch()```:\n",
    "\n",
    "* **search**: Percorre a string para ver se alguma de suas substrings casa com a expressão passada.\n",
    "```python\n",
    "result = search(pattern, input_str, flags=0)\n",
    "```\n",
    "* **match**: Tenta casar a expressão passada com o início da string.\n",
    "```python\n",
    "result = match(pattern, input_str, flags=0)\n",
    "```\n",
    "* **fullmatch**: Tenta casar a expressão passada com a string inteira.\n",
    "```python\n",
    "result = fullmatch(pattern, input_str, flags=0)\n",
    "```\n",
    "\n",
    "Seja qual for o procedimento usado, o casamento bem sucedido da expressão retorna um objeto MatchObject, que contém informações sobre a (sub)string casada. Caso não haja casamento, a referência ```None``` é retornada.\n",
    "\n",
    "Note que mesmo o procedimento ```search()``` para de percorrer a string quando um casamento ocorre. Assim, esses métodos devem ser usados para verificar se uma string corresponde a uma expressão regular e não para extrair substrings de um texto.\n",
    "\n",
    "### Exemplo"
   ]
  },
  {
   "cell_type": "markdown",
   "metadata": {},
   "source": [
    "### Exemplo\n",
    "\n",
    "Vamos usar uma expressão regular para casar uma data:"
   ]
  },
  {
   "cell_type": "code",
   "execution_count": 2,
   "metadata": {
    "collapsed": false,
    "scrolled": true
   },
   "outputs": [
    {
     "name": "stdout",
     "output_type": "stream",
     "text": [
      "O padrão regex casa com a string informada! :)\n"
     ]
    }
   ],
   "source": [
    "from re import search\n",
    "\n",
    "regex = r\"(\\d+) de ([a-zA-Z]+)\"\n",
    "if search(regex, \"Hoje é 24 de junho\"):\n",
    "    print(\"O padrão regex casa com a string informada! :)\")\n",
    "else:\n",
    "    print(\"O padrão regex não casa com a string informada. :(\")"
   ]
  },
  {
   "cell_type": "markdown",
   "metadata": {},
   "source": [
    "Também é possível usar os métodos do objeto ```MatchObject``` retornado para mais informações:\n",
    "- os métodos ```start()``` e ```end()``` informam o início e o fim da primeira substring que casa com a expressão informada.\n",
    "- o método ```group()``` retorna o casamento inteiro e os grupos capturados."
   ]
  },
  {
   "cell_type": "code",
   "execution_count": 3,
   "metadata": {
    "collapsed": false
   },
   "outputs": [
    {
     "name": "stdout",
     "output_type": "stream",
     "text": [
      "Casamento da substring [7, 18)\n"
     ]
    }
   ],
   "source": [
    "result = search(regex, \"Hoje é 24 de junho\")\n",
    "print(\"Casamento da substring [%s, %s)\" % (result.start(), result.end()))"
   ]
  },
  {
   "cell_type": "markdown",
   "metadata": {},
   "source": [
    "Os grupos capturados são acessados a partir do índice 1. O índice 0 se refere ao casamento inteiro. \n",
    "* ```result.group(0)``` sempre retorna a substring inteira.\n",
    "* ```result.group(1), result.group(2), ...``` retornam os grupos capturados, contados da esquerda para a direita.\n",
    "* ```result.group()``` é equivalente a ```result.group(0)```"
   ]
  },
  {
   "cell_type": "code",
   "execution_count": 4,
   "metadata": {
    "collapsed": false
   },
   "outputs": [
    {
     "name": "stdout",
     "output_type": "stream",
     "text": [
      "Casamento: 24 de junho\n",
      "Dia: 24\n",
      "Mês: junho\n"
     ]
    }
   ],
   "source": [
    "print(\"Casamento: %s\" % (result.group(0)))\n",
    "print(\"Dia: %s\" % (result.group(1)))\n",
    "print(\"Mês: %s\" % (result.group(2)))"
   ]
  },
  {
   "cell_type": "markdown",
   "metadata": {},
   "source": [
    "## Capturando grupos\n",
    "\n",
    "Para extrair informações de um texto, podemos usar os procedimentos ```findall()``` ou ```finditer()```:\n",
    "\n",
    "* **findall**: Quando a expressão apresenta grupos, retorna uma lista contendo todos os dados capturados. Caso contrário, retorna uma lista contendo todos os casamentos efetuados.\n",
    "```python\n",
    "matchList = findall(pattern, input_str, flags=0)\n",
    "```\n",
    "* **finditer**: Idêntico a findall(), porém retorna uma lista de referências para objetos MatchObject. \n",
    "```python\n",
    "matchList = re.finditer(pattern, input_str, flags=0)\n",
    "```"
   ]
  },
  {
   "cell_type": "markdown",
   "metadata": {},
   "source": [
    "### Exemplo\n",
    "\n",
    "Vamos usar uma expressão regular para casar algumas datas:}"
   ]
  },
  {
   "cell_type": "code",
   "execution_count": 5,
   "metadata": {
    "collapsed": false
   },
   "outputs": [
    {
     "name": "stdout",
     "output_type": "stream",
     "text": [
      "Casamento: 09 de abril\n",
      "Casamento: 23 de fevereiro\n",
      "Casamento: 01 de setembro\n"
     ]
    }
   ],
   "source": [
    "from re import findall, finditer\n",
    "\n",
    "regex = r\"\\d+ de [a-zA-Z]+\"\n",
    "matches = findall(regex, \"Minha mãe nasceu em 09 de abril. Eu nasci em 23 de fevereiro. Minha filha nasceu em 01 de setembro.\")\n",
    "for match in matches:\n",
    "    print(\"Casamento: %s\" % (match))    "
   ]
  },
  {
   "cell_type": "markdown",
   "metadata": {},
   "source": [
    "Para capturar o mês específico de cada data, podemos usar um grupo:"
   ]
  },
  {
   "cell_type": "code",
   "execution_count": 6,
   "metadata": {
    "collapsed": false
   },
   "outputs": [
    {
     "name": "stdout",
     "output_type": "stream",
     "text": [
      "Casamento: abril\n",
      "Casamento: fevereiro\n",
      "Casamento: setembro\n"
     ]
    }
   ],
   "source": [
    "regex = r\"\\d+ de ([a-zA-Z]+)\"\n",
    "matches = findall(regex, \"Minha mãe nasceu em 09 de abril. Eu nasci em 23 de fevereiro. Minha filha nasceu em 01 de setembro.\")\n",
    "for match in matches:\n",
    "    print(\"Casamento: %s\" % (match))"
   ]
  },
  {
   "cell_type": "markdown",
   "metadata": {},
   "source": [
    "Se precisamors de mais informações sobre cada casamento (ou grupo), usamos ```finditer()```:"
   ]
  },
  {
   "cell_type": "code",
   "execution_count": 7,
   "metadata": {
    "collapsed": false
   },
   "outputs": [
    {
     "name": "stdout",
     "output_type": "stream",
     "text": [
      "Casamento: [20, 31)\n",
      "Casamento: [45, 60)\n",
      "Casamento: [84, 98)\n"
     ]
    }
   ],
   "source": [
    "regex = r\"\\d+ de ([a-zA-Z]+)\"\n",
    "matches = finditer(regex, \"Minha mãe nasceu em 09 de abril. Eu nasci em 23 de fevereiro. Minha filha nasceu em 01 de setembro.\")\n",
    "for match in matches:\n",
    "    print(\"Casamento: [%s, %s)\" % (match.start(), match.end()))"
   ]
  },
  {
   "cell_type": "markdown",
   "metadata": {},
   "source": [
    "## Buscando e substituindo"
   ]
  },
  {
   "cell_type": "markdown",
   "metadata": {},
   "source": [
    "Outra tarefa comum é buscar e substituir uma parte de uma string usando expressões regulares. \n",
    "\n",
    "Um exemplo comum é alterar um delimitador usado em um arquivo de dados tabulados.\n",
    "\n",
    "Em Python, podemos usar o procedimento ```sub()``` para isso:\n",
    "```python\n",
    "replacedString = sub(pattern, replacement_pattern, input_str, count, flags=0)\n",
    "```\n",
    "\n",
    "O argumento opcional ```count``` determina o número máximo de substituições a serem feitas. Caso seu valor seja nulo ou negativo, todas as ocorrências encontradas são substituídas."
   ]
  },
  {
   "cell_type": "markdown",
   "metadata": {},
   "source": [
    "### Exemplo\n",
    "\n",
    "Vamos tentar inverter a ordem do dia e do mês na frase anterior. Note que o padrão de substituição também é escrito como uma *raw_string*:"
   ]
  },
  {
   "cell_type": "code",
   "execution_count": 8,
   "metadata": {
    "collapsed": false
   },
   "outputs": [
    {
     "name": "stdout",
     "output_type": "stream",
     "text": [
      "Minha mãe nasceu em abril, no dia 09. Eu nasci em fevereiro, no dia 23. Minha filha nasceu em setembro, no dia 01.\n"
     ]
    }
   ],
   "source": [
    "from re import sub\n",
    "\n",
    "regex = r\"(\\d+) de ([a-zA-Z]+)\"\n",
    "ordem = sub(regex, r\"\\2, no dia \\1\", \"Minha mãe nasceu em 09 de abril. Eu nasci em 23 de fevereiro. Minha filha nasceu em 01 de setembro.\")\n",
    "print(ordem)"
   ]
  },
  {
   "cell_type": "code",
   "execution_count": 9,
   "metadata": {
    "collapsed": false
   },
   "outputs": [
    {
     "name": "stdout",
     "output_type": "stream",
     "text": [
      "Minha mãe nasceu em abril, no dia 09.\n",
      "Eu nasci em fevereiro, no dia 23.\n",
      "Minha filha nasceu em setembro, no dia 01.\n"
     ]
    }
   ],
   "source": [
    "print(sub(r\"\\.\\s\", r\".\\n\", ordem))"
   ]
  },
  {
   "cell_type": "markdown",
   "metadata": {},
   "source": [
    "## Flags\n",
    "\n",
    "Todos os procedimentos do módulo ```re``` vistos acima aceitam flags como parâmetros opcionais.\n",
    "\n",
    "A maior parte das flags disponíveis podem ser especificadas diretamente nas expressões regulares, mas em alguns casos pode ser útil utilizá-las como parâmetros:\n",
    "\n",
    "* ```IGNORECASE``` faz o padrão se tornar insensível a caso.\n",
    "* ```MULTILINE``` é necessário quando a string apresenta quebras de linha (```\\n```). Com esta flag, os metacaracteres de início (```^```) e fim (```$```) passam a ser analisados por linha.\n",
    "* ```DOTALL``` faz com que o metacaracter ```.``` case com qualquer caracter, incluindo a quebra de linha (```\\n```)."
   ]
  },
  {
   "cell_type": "markdown",
   "metadata": {},
   "source": [
    "## Compilando expressões para ter performance"
   ]
  },
  {
   "cell_type": "markdown",
   "metadata": {},
   "source": [
    "Criar uma nova expressão regular em Python cada vez que se deseja casar strings é uma abordagem pouco eficiente.\n",
    "\n",
    "Nesse caso, é recomendado que se compile a expressão regular antes de processar as strings alvo:\n",
    "\n",
    "```regexObject = compile(pattern, flags=0)```\n",
    "\n",
    "Este procedimento cria um objeto do tipo RegexObject.\n",
    "\n",
    "Esta classe implementa como métodos todos os procedimentos descritos neste notebook, mas você não precisa mais passar sua expressão regular como parâmetro a cada chamada (nem eventuais flags)."
   ]
  },
  {
   "cell_type": "markdown",
   "metadata": {},
   "source": [
    "### Exemplo\n",
    "\n",
    "Vamos criar uma expressão e extrair informações:"
   ]
  },
  {
   "cell_type": "code",
   "execution_count": 10,
   "metadata": {
    "collapsed": false,
    "scrolled": true
   },
   "outputs": [
    {
     "name": "stdout",
     "output_type": "stream",
     "text": [
      "0 11\n"
     ]
    }
   ],
   "source": [
    "from re import compile\n",
    "regex = compile(r\"(\\w+) World\")\n",
    "result = regex.search(\"Hello World é o mais fácil\")\n",
    "if result:\n",
    "    print(result.start(), result.end())"
   ]
  },
  {
   "cell_type": "markdown",
   "metadata": {},
   "source": [
    "Usando o mesmo objeto, vamos imprimir todos os grupos capturados:"
   ]
  },
  {
   "cell_type": "code",
   "execution_count": 11,
   "metadata": {
    "collapsed": false
   },
   "outputs": [
    {
     "name": "stdout",
     "output_type": "stream",
     "text": [
      "Hello\n",
      "Ciao\n"
     ]
    }
   ],
   "source": [
    "for result in regex.findall(\"Hello World, Ciao World\"):\n",
    "    print(result)"
   ]
  },
  {
   "cell_type": "markdown",
   "metadata": {},
   "source": [
    "Por último, vamos substituir Mundo por Terra:"
   ]
  },
  {
   "cell_type": "code",
   "execution_count": 12,
   "metadata": {
    "collapsed": false
   },
   "outputs": [
    {
     "name": "stdout",
     "output_type": "stream",
     "text": [
      "Hello Earth\n"
     ]
    }
   ],
   "source": [
    "print(regex.sub(r\"\\1 Earth\", \"Hello World\"))"
   ]
  }
 ],
 "metadata": {
  "kernelspec": {
   "display_name": "Python 3",
   "language": "python",
   "name": "python3"
  },
  "language_info": {
   "codemirror_mode": {
    "name": "ipython",
    "version": 3
   },
   "file_extension": ".py",
   "mimetype": "text/x-python",
   "name": "python",
   "nbconvert_exporter": "python",
   "pygments_lexer": "ipython3",
   "version": "3.5.2"
  }
 },
 "nbformat": 4,
 "nbformat_minor": 1
}
